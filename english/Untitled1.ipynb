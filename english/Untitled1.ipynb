{
 "cells": [
  {
   "cell_type": "code",
   "execution_count": 6,
   "metadata": {},
   "outputs": [],
   "source": [
    "import pandas as pd"
   ]
  },
  {
   "cell_type": "code",
   "execution_count": 154,
   "metadata": {},
   "outputs": [
    {
     "name": "stdout",
     "output_type": "stream",
     "text": [
      "Collecting pyspellchecker\n",
      "  Downloading pyspellchecker-0.6.2-py3-none-any.whl (2.7 MB)\n",
      "Installing collected packages: pyspellchecker\n",
      "Successfully installed pyspellchecker-0.6.2\n",
      "Note: you may need to restart the kernel to use updated packages.\n"
     ]
    }
   ],
   "source": [
    "pip install pyspellchecker"
   ]
  },
  {
   "cell_type": "code",
   "execution_count": 7,
   "metadata": {},
   "outputs": [],
   "source": [
    "data = pd.read_excel(\"C:/Users/jw156/Downloads/Database Engineer Question 2 JDW Data.xlsx\")"
   ]
  },
  {
   "cell_type": "code",
   "execution_count": 155,
   "metadata": {},
   "outputs": [],
   "source": [
    "from spellchecker import SpellChecker"
   ]
  },
  {
   "cell_type": "markdown",
   "metadata": {},
   "source": [
    "# There is a spelling mistake in the title of products in the dresses subcategory"
   ]
  },
  {
   "cell_type": "code",
   "execution_count": 189,
   "metadata": {},
   "outputs": [
    {
     "data": {
      "text/plain": [
       "'spelling_mistake'"
      ]
     },
     "execution_count": 189,
     "metadata": {},
     "output_type": "execute_result"
    }
   ],
   "source": [
    "spell_checker('the catz sat on the mat')"
   ]
  },
  {
   "cell_type": "code",
   "execution_count": 192,
   "metadata": {},
   "outputs": [],
   "source": [
    "def spell_checker(words):\n",
    "    new_words = words.split(' ')\n",
    "    if len(new_words) < 0:\n",
    "        return 'empty'\n",
    "    spell = SpellChecker()\n",
    "    misspelled = spell.unknown(new_words)\n",
    "    if len(misspelled) >= 1:\n",
    "        return ('spelling_mistake')"
   ]
  },
  {
   "cell_type": "code",
   "execution_count": null,
   "metadata": {},
   "outputs": [],
   "source": [
    "data['spelling'] = data['title_g'].apply(spell_checker)"
   ]
  },
  {
   "cell_type": "markdown",
   "metadata": {},
   "source": [
    "# There are products that are in the wrong category in the swimwear subcategory"
   ]
  },
  {
   "cell_type": "code",
   "execution_count": 147,
   "metadata": {},
   "outputs": [],
   "source": [
    "swimwear = data[data['categories-href']== 'https://www.jdwilliams.co.uk/shop/c/womens/swimwear?cm_sp=JDW-Womens-_-ShopByCategory-_-SwimwearandBeachwear']"
   ]
  },
  {
   "cell_type": "code",
   "execution_count": 142,
   "metadata": {},
   "outputs": [],
   "source": [
    "x = data[data['category_3']== 'Swimwear & Beachwear']"
   ]
  },
  {
   "cell_type": "code",
   "execution_count": 143,
   "metadata": {},
   "outputs": [
    {
     "data": {
      "text/plain": [
       "array([], dtype=object)"
      ]
     },
     "execution_count": 143,
     "metadata": {},
     "output_type": "execute_result"
    }
   ],
   "source": [
    "x.categories.unique()"
   ]
  },
  {
   "cell_type": "code",
   "execution_count": 50,
   "metadata": {},
   "outputs": [],
   "source": [
    "swimwear = data[data['categories'] =='Swimwear & Beachwear']"
   ]
  },
  {
   "cell_type": "code",
   "execution_count": 57,
   "metadata": {},
   "outputs": [
    {
     "data": {
      "text/plain": [
       "array(['https://www.jdwilliams.co.uk/shop/c/womens/swimwear?cm_sp=JDW-Womens-_-ShopByCategory-_-SwimwearandBeachwear'],\n",
       "      dtype=object)"
      ]
     },
     "execution_count": 57,
     "metadata": {},
     "output_type": "execute_result"
    }
   ],
   "source": [
    "swimwear['categories-href'].unique()"
   ]
  },
  {
   "cell_type": "code",
   "execution_count": null,
   "metadata": {},
   "outputs": [],
   "source": [
    "# swimwear.category_3[1]"
   ]
  },
  {
   "cell_type": "markdown",
   "metadata": {},
   "source": [
    "cannot find any swimwear that is within the wrong category"
   ]
  },
  {
   "cell_type": "markdown",
   "metadata": {},
   "source": [
    "# Products with missing images from all subcategories"
   ]
  },
  {
   "cell_type": "code",
   "execution_count": 120,
   "metadata": {},
   "outputs": [],
   "source": [
    "def missing_image(href):\n",
    "    if pd.isnull(href) == True:\n",
    "        return 'empty'"
   ]
  },
  {
   "cell_type": "code",
   "execution_count": 121,
   "metadata": {},
   "outputs": [],
   "source": [
    "data['miss_image'] = data['Image-src'].apply(missing_image)"
   ]
  },
  {
   "cell_type": "code",
   "execution_count": 122,
   "metadata": {},
   "outputs": [
    {
     "data": {
      "text/plain": [
       "1"
      ]
     },
     "execution_count": 122,
     "metadata": {},
     "output_type": "execute_result"
    }
   ],
   "source": [
    "data['miss_image'].nunique()"
   ]
  },
  {
   "cell_type": "markdown",
   "metadata": {},
   "source": [
    "# Products with missing descrip\"ons from all subcategories"
   ]
  },
  {
   "cell_type": "code",
   "execution_count": 116,
   "metadata": {},
   "outputs": [
    {
     "data": {
      "text/plain": [
       "22147"
      ]
     },
     "execution_count": 116,
     "metadata": {},
     "output_type": "execute_result"
    }
   ],
   "source": [
    "data['category_2'].isnull().sum()"
   ]
  },
  {
   "cell_type": "code",
   "execution_count": 117,
   "metadata": {},
   "outputs": [],
   "source": [
    "def missing_image(href, lref, zref, yref):\n",
    "    if pd.isnull(href) == True or pd.isnull(lref) == True or pd.isnull(zref) == True or pd.isnull(yref) == True:\n",
    "        return 'empty'"
   ]
  },
  {
   "cell_type": "code",
   "execution_count": 118,
   "metadata": {},
   "outputs": [],
   "source": [
    "data['miss-descr'] = data.apply(lambda x: missing_image(x.category_0,x.category_1, x.category_2, x.category_3), axis=1)"
   ]
  },
  {
   "cell_type": "code",
   "execution_count": 119,
   "metadata": {},
   "outputs": [
    {
     "data": {
      "text/plain": [
       "array(['empty', None], dtype=object)"
      ]
     },
     "execution_count": 119,
     "metadata": {},
     "output_type": "execute_result"
    }
   ],
   "source": [
    "data['miss-descr'].unique()"
   ]
  },
  {
   "cell_type": "markdown",
   "metadata": {},
   "source": [
    "#  Products where the stars are less than 2 and the reviews are greater than 3vi"
   ]
  },
  {
   "cell_type": "code",
   "execution_count": 184,
   "metadata": {},
   "outputs": [],
   "source": [
    "def starts_reviews(star, reviews):\n",
    "    if star < 2 and reviews > 3:\n",
    "        return 'matched'"
   ]
  },
  {
   "cell_type": "code",
   "execution_count": 185,
   "metadata": {},
   "outputs": [],
   "source": [
    "data['stars and reviews'] = data.apply(lambda x: starts_reviews(x.reviews_p,x.stars_p), axis=1)"
   ]
  },
  {
   "cell_type": "code",
   "execution_count": 186,
   "metadata": {},
   "outputs": [
    {
     "data": {
      "text/plain": [
       "array([None, 'matched'], dtype=object)"
      ]
     },
     "execution_count": 186,
     "metadata": {},
     "output_type": "execute_result"
    }
   ],
   "source": [
    "data['stars and reviews'].unique()"
   ]
  },
  {
   "cell_type": "code",
   "execution_count": null,
   "metadata": {},
   "outputs": [],
   "source": [
    "data['web-scraper-start-url'][1]"
   ]
  },
  {
   "cell_type": "markdown",
   "metadata": {},
   "source": [
    "# Give 3 examples of products that have prices you would consider to be “obscure”"
   ]
  },
  {
   "cell_type": "code",
   "execution_count": null,
   "metadata": {},
   "outputs": [],
   "source": [
    "calculate the now"
   ]
  },
  {
   "cell_type": "code",
   "execution_count": 128,
   "metadata": {},
   "outputs": [
    {
     "data": {
      "text/plain": [
       "array([22, nan, 24.5, 25, 130, 16, 11, 24, 15.25, 14, 26, 28, 6, 9, 35,\n",
       "       15.2, 20, 18, 13, 32, 27, 10, 45.5, 30, 37, 41.5, 29, 45, 50, 17.5,\n",
       "       15, 27.5, 14.3, 34, 17.6, 38, 44, 62, 36, 46, 42, 12, 19, 79, 39,\n",
       "       21, 84, 40, 78, 259.99, 14.4, 86, 54, 8, 55, 57, 17, 49, 33, 48,\n",
       "       10.4, 8.8, 9.6, 23, 49.99, 160, 60, 56, 149, 110, 59, 150, 99, 140,\n",
       "       63, 65, 89, 70, 75, 95, 120, 269, 43, 80, 85, 69, 58, 170, 199,\n",
       "       52.5, 105, 145, 100, 90, 250, 165, 125, 79.2, 200, 53, 135, 115, 7,\n",
       "       21.99, 19.99, 'From £8.40', 456, 293, 196, 93, 507, 61, 185, 119,\n",
       "       72, 66, 249, 180, 173, 109, 251, 29.99, 122, 129, 23.99, 34.99,\n",
       "       3.99, 'From £40.00', 273, 445, 195, 139, 83, 159, 703, 146, 119.99,\n",
       "       580, 102, 179, 299, 107, 209, 277, 77, 76, 47, 84.99, 88, 290, 236,\n",
       "       230, 98, 156, 203, 275, 67, 44.99, 222, 189, 104, 400, 12.5, 304,\n",
       "       142, 239, 194, 202, 92, 'From £29.00', 204, 31, 417, 555, 228, 171,\n",
       "       24.99, 155, 39.99, 291, 208, 41, 420, 218, 430, 684, 68, 699, 380,\n",
       "       174, 187, 112, 302, 133, 69.95, 190, 169, 229, 159.99, 350, 271,\n",
       "       64, 22.5, 97, 108, 81, 285, 126, 211, 74, 151, 192, 153, 137, 172,\n",
       "       117, 178, 249.99, 363, 26.99, 91, 94, 51, 168, 822, 'From £47.00',\n",
       "       217, 132, 313, 147, 311, 89.99, 315, 99.99, 599, 458, 188, 321, 96,\n",
       "       113, 483, 177, 581, 36.99, 32.99, 22.99, 252, 52, 375, 152, 175,\n",
       "       310, 457, 234, 265, 87, 182, 337, 241, 37.99, 73, 14.99, 148, 296,\n",
       "       161, 103, 221, 136, 227, 191, 327, 'From £149.00', 220, 225, 237,\n",
       "       101, 398, 259, 121, 37.95, 62.95, 128.5, 49.95, 109.99, 18.5, 33.5,\n",
       "       21.95, 118, 'From £128.00', 5], dtype=object)"
      ]
     },
     "execution_count": 128,
     "metadata": {},
     "output_type": "execute_result"
    }
   ],
   "source": [
    "data['price_g'].unique()"
   ]
  },
  {
   "cell_type": "markdown",
   "metadata": {},
   "source": [
    "1. Prices that are NAN as they are sold without providing prices\n",
    "2. Price 14.3, seems unnecessary to sell for at neither half-price or 1p less than the nearest pound\n",
    "3. Price 15.20 "
   ]
  },
  {
   "cell_type": "markdown",
   "metadata": {},
   "source": [
    "ran out of time but would have checked average category prices and compared each price against it"
   ]
  },
  {
   "cell_type": "markdown",
   "metadata": {},
   "source": [
    "#  Give 2 examples of products in the dresses subcategory where the price of the product is greater than 4 mul\"plied by the upper quar\"le price of the dresses subcategory"
   ]
  },
  {
   "cell_type": "markdown",
   "metadata": {},
   "source": [
    "no time"
   ]
  },
  {
   "cell_type": "code",
   "execution_count": null,
   "metadata": {},
   "outputs": [],
   "source": []
  }
 ],
 "metadata": {
  "kernelspec": {
   "display_name": "Python 3",
   "language": "python",
   "name": "python3"
  },
  "language_info": {
   "codemirror_mode": {
    "name": "ipython",
    "version": 3
   },
   "file_extension": ".py",
   "mimetype": "text/x-python",
   "name": "python",
   "nbconvert_exporter": "python",
   "pygments_lexer": "ipython3",
   "version": "3.8.5"
  }
 },
 "nbformat": 4,
 "nbformat_minor": 4
}
