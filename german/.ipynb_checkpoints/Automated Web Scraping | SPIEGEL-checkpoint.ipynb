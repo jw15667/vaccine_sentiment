{
 "cells": [
  {
   "cell_type": "code",
   "execution_count": 2,
   "metadata": {},
   "outputs": [],
   "source": [
    "from bs4 import BeautifulSoup\n",
    "import requests\n",
    "import pandas as pd\n",
    "import numpy as np\n",
    "from time import sleep\n",
    "import re\n",
    "import time\n",
    "from random import randint"
   ]
  },
  {
   "cell_type": "markdown",
   "metadata": {},
   "source": [
    "# spiegel-scraper\n",
    "\n",
    "https://pypi.org/project/spiegel-scraper/"
   ]
  },
  {
   "cell_type": "code",
   "execution_count": 20,
   "metadata": {},
   "outputs": [],
   "source": [
    "from datetime import date\n",
    "import spiegel_scraper as spon\n",
    "from datetime import datetime\n",
    "from datetime import timedelta"
   ]
  },
  {
   "cell_type": "markdown",
   "metadata": {},
   "source": [
    "### Seting up time period "
   ]
  },
  {
   "cell_type": "code",
   "execution_count": 166,
   "metadata": {},
   "outputs": [],
   "source": [
    "#for first loop ever\n",
    "#start_date='2021-03-24'"
   ]
  },
  {
   "cell_type": "code",
   "execution_count": 171,
   "metadata": {},
   "outputs": [],
   "source": [
    "start_date = datetime.today() - timedelta(days=7)\n",
    "start_date = start_date.strftime(\"%Y-%m-%d\")"
   ]
  },
  {
   "cell_type": "code",
   "execution_count": 172,
   "metadata": {},
   "outputs": [
    {
     "data": {
      "text/plain": [
       "'2021-04-02'"
      ]
     },
     "execution_count": 172,
     "metadata": {},
     "output_type": "execute_result"
    }
   ],
   "source": [
    "start_date"
   ]
  },
  {
   "cell_type": "code",
   "execution_count": 24,
   "metadata": {},
   "outputs": [],
   "source": [
    "today = date.today()\n",
    "today = today.strftime(\"%Y-%m-%d\")"
   ]
  },
  {
   "cell_type": "code",
   "execution_count": 32,
   "metadata": {},
   "outputs": [
    {
     "data": {
      "text/plain": [
       "17"
      ]
     },
     "execution_count": 32,
     "metadata": {},
     "output_type": "execute_result"
    }
   ],
   "source": [
    "dates=pd.date_range(start_date,today,freq='D').strftime(\"%Y-%m-%d\").tolist()\n",
    "dates=[datetime.strptime(date, \"%Y-%m-%d\") for date in dates]\n",
    "len(dates)"
   ]
  },
  {
   "cell_type": "markdown",
   "metadata": {},
   "source": [
    "### Seting up API & Scraping data"
   ]
  },
  {
   "cell_type": "code",
   "execution_count": 33,
   "metadata": {},
   "outputs": [
    {
     "name": "stdout",
     "output_type": "stream",
     "text": [
      "\n",
      "2021-03-24 00:00:00\n",
      "\n",
      "134\n",
      "\n",
      "2021-03-25 00:00:00\n",
      "\n",
      "265\n",
      "\n",
      "2021-03-26 00:00:00\n",
      "\n",
      "441\n",
      "\n",
      "2021-03-27 00:00:00\n",
      "\n",
      "511\n",
      "\n",
      "2021-03-28 00:00:00\n",
      "\n",
      "582\n",
      "\n",
      "2021-03-29 00:00:00\n",
      "\n",
      "691\n",
      "\n",
      "2021-03-30 00:00:00\n",
      "\n",
      "812\n",
      "\n",
      "2021-03-31 00:00:00\n",
      "\n",
      "936\n",
      "\n",
      "2021-04-01 00:00:00\n",
      "\n",
      "1042\n",
      "\n",
      "2021-04-02 00:00:00\n",
      "\n",
      "1144\n",
      "\n",
      "2021-04-03 00:00:00\n",
      "\n",
      "1212\n",
      "\n",
      "2021-04-04 00:00:00\n",
      "\n",
      "1281\n",
      "\n",
      "2021-04-05 00:00:00\n",
      "\n",
      "1343\n",
      "\n",
      "2021-04-06 00:00:00\n",
      "\n",
      "1455\n",
      "\n",
      "2021-04-07 00:00:00\n",
      "\n",
      "1567\n",
      "\n",
      "2021-04-08 00:00:00\n",
      "\n",
      "1673\n",
      "\n",
      "2021-04-09 00:00:00\n",
      "\n",
      "1746\n"
     ]
    }
   ],
   "source": [
    "url = []\n",
    "headline = []\n",
    "is_paid = []\n",
    "date_published = []\n",
    "channel = []\n",
    "\n",
    "for date in dates:\n",
    "    random_i = randint(5, 20)\n",
    "    time.sleep(random_i)\n",
    "    \n",
    "    print()\n",
    "    print(date)\n",
    "    \n",
    "    archive_entries_from_html = spon.archive.scrape_html(spon.archive.html_by_date(date))\n",
    "    print()\n",
    "    \n",
    "    url += [archive_entries_from_html[i][\"url\"] for i in range(len(archive_entries_from_html))]\n",
    "    headline += [archive_entries_from_html[i][\"headline\"] for i in range(len(archive_entries_from_html))]\n",
    "    is_paid += [archive_entries_from_html[i][\"is_paid\"] for i in range(len(archive_entries_from_html))]\n",
    "    date_published += [archive_entries_from_html[i][\"date_published\"] for i in range(len(archive_entries_from_html))]\n",
    "    channel += [archive_entries_from_html[i][\"channel\"] for i in range(len(archive_entries_from_html))]\n",
    "    print(len(channel))\n",
    "    "
   ]
  },
  {
   "cell_type": "code",
   "execution_count": 141,
   "metadata": {},
   "outputs": [],
   "source": [
    "spiegel = pd.DataFrame()\n",
    "\n",
    "spiegel['url'] = [u for u in url]\n",
    "spiegel['headline'] = [h for h in headline]\n",
    "spiegel['is_paid'] = [p for p in is_paid]\n",
    "spiegel['date_published'] = [date for date in date_published]\n",
    "spiegel['channel'] = [c for c in channel]\n"
   ]
  },
  {
   "cell_type": "code",
   "execution_count": 142,
   "metadata": {},
   "outputs": [
    {
     "data": {
      "text/plain": [
       "(1746, 5)"
      ]
     },
     "execution_count": 142,
     "metadata": {},
     "output_type": "execute_result"
    }
   ],
   "source": [
    "spiegel.shape"
   ]
  },
  {
   "cell_type": "markdown",
   "metadata": {},
   "source": [
    "### Data Preprocessing: Creating functions"
   ]
  },
  {
   "cell_type": "code",
   "execution_count": 143,
   "metadata": {},
   "outputs": [],
   "source": [
    "import re\n",
    "import string"
   ]
  },
  {
   "cell_type": "code",
   "execution_count": 144,
   "metadata": {},
   "outputs": [],
   "source": [
    "def data_clean(x):\n",
    "    x=str(x)\n",
    "    return x[:10]"
   ]
  },
  {
   "cell_type": "code",
   "execution_count": 145,
   "metadata": {},
   "outputs": [],
   "source": [
    "def cleaning_punctuation(x):\n",
    "    x=str(x)\n",
    "    #x=x.lower()\n",
    "    remove = string.punctuation\n",
    "    remove = remove.replace(\"-\", \"\")\n",
    "    remove = remove.replace(\"/\", \"\")\n",
    "    remove = remove.replace(\"&\", \"\")# don't remove hyphens\n",
    "    pattern = r\"[{}]\".format(remove)\n",
    "    x=re.sub(pattern, \"\", x)\n",
    "    return x"
   ]
  },
  {
   "cell_type": "code",
   "execution_count": 146,
   "metadata": {},
   "outputs": [],
   "source": [
    "import nltk\n",
    "#nltk.download('stopwords')\n",
    "from nltk.corpus import stopwords\n",
    "from sklearn.feature_extraction.text import CountVectorizer\n",
    "\n",
    "german_stop_words = stopwords.words('german')\n",
    "vect = CountVectorizer(stop_words = german_stop_words)"
   ]
  },
  {
   "cell_type": "code",
   "execution_count": 147,
   "metadata": {},
   "outputs": [],
   "source": [
    "def stop_word_removal(x):\n",
    "    x=str(x)\n",
    "    x=x.lower()\n",
    "    token = x.split()\n",
    "    return ' '.join([w for w in token if not w in german_stop_words])"
   ]
  },
  {
   "cell_type": "code",
   "execution_count": 148,
   "metadata": {},
   "outputs": [],
   "source": [
    "import spacy\n",
    "\n",
    "nlp = spacy.load('de_core_news_sm')"
   ]
  },
  {
   "cell_type": "code",
   "execution_count": 149,
   "metadata": {},
   "outputs": [],
   "source": [
    "def lemmatizer(x):\n",
    "    token = nlp(x)\n",
    "    #x.lemma_\n",
    "    return ' '.join([t.lemma_ for t in token])"
   ]
  },
  {
   "cell_type": "markdown",
   "metadata": {},
   "source": [
    "### Data Preprocessing: Applying functions"
   ]
  },
  {
   "cell_type": "code",
   "execution_count": 150,
   "metadata": {},
   "outputs": [],
   "source": [
    "spiegel[\"date_published\"]=spiegel[\"date_published\"].apply(lambda x: data_clean(x))\n",
    "spiegel[\"headline\"]=spiegel[\"headline\"].apply(lambda x: cleaning_punctuation(x))\n",
    "spiegel[\"headline\"]=spiegel[\"headline\"].apply(lambda x: re.sub('»', \"\", x))\n",
    "spiegel[\"headline\"]=spiegel[\"headline\"].apply(lambda x: re.sub('«', \"\", x))\n",
    "spiegel[\"headline\"]=spiegel[\"headline\"].apply(lambda x: re.sub('–', \" \", x))\n",
    "spiegel[\"headline\"]=spiegel[\"headline\"].apply(lambda x: re.sub('-', \" \", x))\n",
    "spiegel[\"original_headline\"]=spiegel[\"headline\"]\n",
    "spiegel[\"headline\"]=spiegel[\"headline\"].apply(lambda x: stop_word_removal(x))\n",
    "spiegel[\"headline\"]=spiegel[\"headline\"].apply(lambda x: lemmatizer(x))\n",
    "spiegel[\"newspaper\"]=spiegel[\"headline\"].apply(lambda x: \"Der Spiegel\")"
   ]
  },
  {
   "cell_type": "code",
   "execution_count": 151,
   "metadata": {},
   "outputs": [
    {
     "data": {
      "text/html": [
       "<div>\n",
       "<style scoped>\n",
       "    .dataframe tbody tr th:only-of-type {\n",
       "        vertical-align: middle;\n",
       "    }\n",
       "\n",
       "    .dataframe tbody tr th {\n",
       "        vertical-align: top;\n",
       "    }\n",
       "\n",
       "    .dataframe thead th {\n",
       "        text-align: right;\n",
       "    }\n",
       "</style>\n",
       "<table border=\"1\" class=\"dataframe\">\n",
       "  <thead>\n",
       "    <tr style=\"text-align: right;\">\n",
       "      <th></th>\n",
       "      <th>url</th>\n",
       "      <th>headline</th>\n",
       "      <th>is_paid</th>\n",
       "      <th>date_published</th>\n",
       "      <th>channel</th>\n",
       "      <th>original_headline</th>\n",
       "      <th>newspaper</th>\n",
       "    </tr>\n",
       "  </thead>\n",
       "  <tbody>\n",
       "    <tr>\n",
       "      <th>0</th>\n",
       "      <td>https://www.spiegel.de/politik/ausland/us-auss...</td>\n",
       "      <td>gespräche brüssel blinken stellen eu eng zusam...</td>\n",
       "      <td>False</td>\n",
       "      <td>2021-03-24</td>\n",
       "      <td>Politik</td>\n",
       "      <td>Gespräche in Brüssel Blinken stellt EU enge Zu...</td>\n",
       "      <td>Der Spiegel</td>\n",
       "    </tr>\n",
       "    <tr>\n",
       "      <th>1</th>\n",
       "      <td>https://www.spiegel.de/sport/fussball/wm-quali...</td>\n",
       "      <td>wm qualifikation yilmaz lässt niederlanden cha...</td>\n",
       "      <td>False</td>\n",
       "      <td>2021-03-24</td>\n",
       "      <td>Sport</td>\n",
       "      <td>WM Qualifikation Yilmaz lässt Niederlanden kei...</td>\n",
       "      <td>Der Spiegel</td>\n",
       "    </tr>\n",
       "    <tr>\n",
       "      <th>2</th>\n",
       "      <td>https://www.spiegel.de/politik/ausland/usa-joe...</td>\n",
       "      <td>herausfordernde situation harris illegale migr...</td>\n",
       "      <td>False</td>\n",
       "      <td>2021-03-24</td>\n",
       "      <td>Politik</td>\n",
       "      <td>Herausfordernde Situation Harris soll sich um ...</td>\n",
       "      <td>Der Spiegel</td>\n",
       "    </tr>\n",
       "    <tr>\n",
       "      <th>3</th>\n",
       "      <td>https://www.spiegel.de/sport/fussball/u21-euro...</td>\n",
       "      <td>dfb auswahl siegen ungarn nmecha baku sorgen e...</td>\n",
       "      <td>False</td>\n",
       "      <td>2021-03-24</td>\n",
       "      <td>Sport</td>\n",
       "      <td>DFB Auswahl siegt gegen Ungarn Nmecha und Baku...</td>\n",
       "      <td>Der Spiegel</td>\n",
       "    </tr>\n",
       "    <tr>\n",
       "      <th>4</th>\n",
       "      <td>https://www.spiegel.de/sport/fussball/wm-quali...</td>\n",
       "      <td>wm qualifikation botschaft katar norwegens fuß...</td>\n",
       "      <td>False</td>\n",
       "      <td>2021-03-24</td>\n",
       "      <td>Sport</td>\n",
       "      <td>WM Qualifikation Botschaft an Katar   Norwegen...</td>\n",
       "      <td>Der Spiegel</td>\n",
       "    </tr>\n",
       "    <tr>\n",
       "      <th>...</th>\n",
       "      <td>...</td>\n",
       "      <td>...</td>\n",
       "      <td>...</td>\n",
       "      <td>...</td>\n",
       "      <td>...</td>\n",
       "      <td>...</td>\n",
       "      <td>...</td>\n",
       "    </tr>\n",
       "    <tr>\n",
       "      <th>1741</th>\n",
       "      <td>https://www.spiegel.de/politik/ausland/nordirl...</td>\n",
       "      <td>erneute proteste nordirland randalierer werfen...</td>\n",
       "      <td>False</td>\n",
       "      <td>2021-04-09</td>\n",
       "      <td>Politik</td>\n",
       "      <td>Erneute Proteste in Nordirland Randalierer wer...</td>\n",
       "      <td>Der Spiegel</td>\n",
       "    </tr>\n",
       "    <tr>\n",
       "      <th>1742</th>\n",
       "      <td>https://www.spiegel.de/politik/ausland/nach-so...</td>\n",
       "      <td>sofagate italiens ministerpräsident draghi bez...</td>\n",
       "      <td>False</td>\n",
       "      <td>2021-04-09</td>\n",
       "      <td>Politik</td>\n",
       "      <td>Nach Sofagate Italiens Ministerpräsident Dragh...</td>\n",
       "      <td>Der Spiegel</td>\n",
       "    </tr>\n",
       "    <tr>\n",
       "      <th>1743</th>\n",
       "      <td>https://www.spiegel.de/kultur/musik/celeste-ne...</td>\n",
       "      <td>soul shootingstar celeste gehen kopf stimme be...</td>\n",
       "      <td>False</td>\n",
       "      <td>2021-04-09</td>\n",
       "      <td>Kultur</td>\n",
       "      <td>Soul Shootingstar Celeste Mir ging durch den K...</td>\n",
       "      <td>Der Spiegel</td>\n",
       "    </tr>\n",
       "    <tr>\n",
       "      <th>1744</th>\n",
       "      <td>https://www.spiegel.de/familie/corona-krise-wa...</td>\n",
       "      <td>windeln wäsche videocalls warum deutschland el...</td>\n",
       "      <td>False</td>\n",
       "      <td>2021-04-09</td>\n",
       "      <td>Familie</td>\n",
       "      <td>Windeln Wäsche Videocalls Warum Deutschland oh...</td>\n",
       "      <td>Der Spiegel</td>\n",
       "    </tr>\n",
       "    <tr>\n",
       "      <th>1745</th>\n",
       "      <td>https://www.spiegel.de/geschichte/die-weissen-...</td>\n",
       "      <td>zeitzeugen deutsch kolonialismus weiß monster</td>\n",
       "      <td>False</td>\n",
       "      <td>2021-04-09</td>\n",
       "      <td>Geschichte</td>\n",
       "      <td>Zeitzeugen über den deutschen Kolonialismus Di...</td>\n",
       "      <td>Der Spiegel</td>\n",
       "    </tr>\n",
       "  </tbody>\n",
       "</table>\n",
       "<p>1746 rows × 7 columns</p>\n",
       "</div>"
      ],
      "text/plain": [
       "                                                    url  \\\n",
       "0     https://www.spiegel.de/politik/ausland/us-auss...   \n",
       "1     https://www.spiegel.de/sport/fussball/wm-quali...   \n",
       "2     https://www.spiegel.de/politik/ausland/usa-joe...   \n",
       "3     https://www.spiegel.de/sport/fussball/u21-euro...   \n",
       "4     https://www.spiegel.de/sport/fussball/wm-quali...   \n",
       "...                                                 ...   \n",
       "1741  https://www.spiegel.de/politik/ausland/nordirl...   \n",
       "1742  https://www.spiegel.de/politik/ausland/nach-so...   \n",
       "1743  https://www.spiegel.de/kultur/musik/celeste-ne...   \n",
       "1744  https://www.spiegel.de/familie/corona-krise-wa...   \n",
       "1745  https://www.spiegel.de/geschichte/die-weissen-...   \n",
       "\n",
       "                                               headline  is_paid  \\\n",
       "0     gespräche brüssel blinken stellen eu eng zusam...    False   \n",
       "1     wm qualifikation yilmaz lässt niederlanden cha...    False   \n",
       "2     herausfordernde situation harris illegale migr...    False   \n",
       "3     dfb auswahl siegen ungarn nmecha baku sorgen e...    False   \n",
       "4     wm qualifikation botschaft katar norwegens fuß...    False   \n",
       "...                                                 ...      ...   \n",
       "1741  erneute proteste nordirland randalierer werfen...    False   \n",
       "1742  sofagate italiens ministerpräsident draghi bez...    False   \n",
       "1743  soul shootingstar celeste gehen kopf stimme be...    False   \n",
       "1744  windeln wäsche videocalls warum deutschland el...    False   \n",
       "1745      zeitzeugen deutsch kolonialismus weiß monster    False   \n",
       "\n",
       "     date_published     channel  \\\n",
       "0        2021-03-24     Politik   \n",
       "1        2021-03-24       Sport   \n",
       "2        2021-03-24     Politik   \n",
       "3        2021-03-24       Sport   \n",
       "4        2021-03-24       Sport   \n",
       "...             ...         ...   \n",
       "1741     2021-04-09     Politik   \n",
       "1742     2021-04-09     Politik   \n",
       "1743     2021-04-09      Kultur   \n",
       "1744     2021-04-09     Familie   \n",
       "1745     2021-04-09  Geschichte   \n",
       "\n",
       "                                      original_headline    newspaper  \n",
       "0     Gespräche in Brüssel Blinken stellt EU enge Zu...  Der Spiegel  \n",
       "1     WM Qualifikation Yilmaz lässt Niederlanden kei...  Der Spiegel  \n",
       "2     Herausfordernde Situation Harris soll sich um ...  Der Spiegel  \n",
       "3     DFB Auswahl siegt gegen Ungarn Nmecha und Baku...  Der Spiegel  \n",
       "4     WM Qualifikation Botschaft an Katar   Norwegen...  Der Spiegel  \n",
       "...                                                 ...          ...  \n",
       "1741  Erneute Proteste in Nordirland Randalierer wer...  Der Spiegel  \n",
       "1742  Nach Sofagate Italiens Ministerpräsident Dragh...  Der Spiegel  \n",
       "1743  Soul Shootingstar Celeste Mir ging durch den K...  Der Spiegel  \n",
       "1744  Windeln Wäsche Videocalls Warum Deutschland oh...  Der Spiegel  \n",
       "1745  Zeitzeugen über den deutschen Kolonialismus Di...  Der Spiegel  \n",
       "\n",
       "[1746 rows x 7 columns]"
      ]
     },
     "execution_count": 151,
     "metadata": {},
     "output_type": "execute_result"
    }
   ],
   "source": [
    "spiegel"
   ]
  },
  {
   "cell_type": "markdown",
   "metadata": {},
   "source": [
    "### Cleaning channel"
   ]
  },
  {
   "cell_type": "code",
   "execution_count": 152,
   "metadata": {},
   "outputs": [
    {
     "name": "stdout",
     "output_type": "stream",
     "text": [
      "Before deleting channels:  (1746, 7)\n",
      "After deleting channels:  (1678, 7)\n"
     ]
    }
   ],
   "source": [
    "channel_dict={}\n",
    "\n",
    "for unique in list(spiegel[\"channel\"].unique()):\n",
    "    channel_dict[unique]=spiegel[spiegel[\"channel\"]==unique][\"channel\"].count()\n",
    "\n",
    "counts=spiegel[\"channel\"].value_counts(normalize=True)\n",
    "    \n",
    "print(\"Before deleting channels: \", spiegel.shape)\n",
    "spiegel = spiegel[~spiegel['channel'].isin(counts[counts < 0.01].index)]\n",
    "print(\"After deleting channels: \", spiegel.shape)"
   ]
  },
  {
   "cell_type": "code",
   "execution_count": 153,
   "metadata": {},
   "outputs": [
    {
     "data": {
      "text/plain": [
       "Politik           0.307560\n",
       "Panorama          0.180985\n",
       "Wirtschaft        0.140321\n",
       "Sport             0.107675\n",
       "Kultur            0.073883\n",
       "Wissenschaft      0.057847\n",
       "Netzwelt          0.037801\n",
       "Geschichte        0.012600\n",
       "Gesundheit        0.010882\n",
       "Psychologie       0.010882\n",
       "Reise             0.010309\n",
       "Mobilität         0.010309\n",
       "Start             0.009737\n",
       "Job & Karriere    0.008591\n",
       "International     0.005727\n",
       "Stil              0.005727\n",
       "Familie           0.004582\n",
       "Tests             0.001718\n",
       "Partnerschaft     0.001145\n",
       "Dein SPIEGEL      0.001145\n",
       "Community         0.000573\n",
       "Name: channel, dtype: float64"
      ]
     },
     "execution_count": 153,
     "metadata": {},
     "output_type": "execute_result"
    }
   ],
   "source": [
    "counts"
   ]
  },
  {
   "cell_type": "code",
   "execution_count": 154,
   "metadata": {},
   "outputs": [
    {
     "name": "stdout",
     "output_type": "stream",
     "text": [
      "Before deleting channel 'Sport':  (1678, 7)\n"
     ]
    }
   ],
   "source": [
    "print(\"Before deleting channel 'Sport': \", spiegel.shape)"
   ]
  },
  {
   "cell_type": "code",
   "execution_count": 155,
   "metadata": {},
   "outputs": [
    {
     "name": "stdout",
     "output_type": "stream",
     "text": [
      "After deleting channel 'Sport':  (1490, 7)\n"
     ]
    }
   ],
   "source": [
    "spiegel = spiegel[~spiegel['channel'].isin([\"Sport\"])]\n",
    "print(\"After deleting channel 'Sport': \", spiegel.shape)"
   ]
  },
  {
   "cell_type": "code",
   "execution_count": 173,
   "metadata": {},
   "outputs": [
    {
     "data": {
      "text/plain": [
       "'2021-04-02'"
      ]
     },
     "execution_count": 173,
     "metadata": {},
     "output_type": "execute_result"
    }
   ],
   "source": [
    "start_date"
   ]
  },
  {
   "cell_type": "code",
   "execution_count": 168,
   "metadata": {},
   "outputs": [
    {
     "data": {
      "text/html": [
       "<div>\n",
       "<style scoped>\n",
       "    .dataframe tbody tr th:only-of-type {\n",
       "        vertical-align: middle;\n",
       "    }\n",
       "\n",
       "    .dataframe tbody tr th {\n",
       "        vertical-align: top;\n",
       "    }\n",
       "\n",
       "    .dataframe thead th {\n",
       "        text-align: right;\n",
       "    }\n",
       "</style>\n",
       "<table border=\"1\" class=\"dataframe\">\n",
       "  <thead>\n",
       "    <tr style=\"text-align: right;\">\n",
       "      <th></th>\n",
       "      <th>url</th>\n",
       "      <th>original_headline</th>\n",
       "      <th>headline</th>\n",
       "      <th>date_published</th>\n",
       "      <th>channel</th>\n",
       "      <th>newspaper</th>\n",
       "      <th>vaccine</th>\n",
       "    </tr>\n",
       "  </thead>\n",
       "  <tbody>\n",
       "    <tr>\n",
       "      <th>9573</th>\n",
       "      <td>https://www.spiegel.de/panorama/italien-weitet...</td>\n",
       "      <td>coronavirus italien weitet rote zone auf das g...</td>\n",
       "      <td>coronavirus italien weiten rote zone ganze land</td>\n",
       "      <td>2020-03-09</td>\n",
       "      <td>Panorama</td>\n",
       "      <td>Der Spiegel</td>\n",
       "      <td>NaN</td>\n",
       "    </tr>\n",
       "    <tr>\n",
       "      <th>9574</th>\n",
       "      <td>https://www.spiegel.de/panorama/coronavirus-in...</td>\n",
       "      <td>coronavirus in brandenburg bis zu 2250 mensche...</td>\n",
       "      <td>coronavirus brandenburg 2250 menschen häuslich...</td>\n",
       "      <td>2020-03-09</td>\n",
       "      <td>Panorama</td>\n",
       "      <td>Der Spiegel</td>\n",
       "      <td>NaN</td>\n",
       "    </tr>\n",
       "    <tr>\n",
       "      <th>9575</th>\n",
       "      <td>https://www.spiegel.de/reise/fernweh/coronavir...</td>\n",
       "      <td>fotostrecke mekka venedig tokio wie das virus ...</td>\n",
       "      <td>fotostrecke mekka venedig tokio virus menschen...</td>\n",
       "      <td>2020-03-09</td>\n",
       "      <td>Reise</td>\n",
       "      <td>Der Spiegel</td>\n",
       "      <td>NaN</td>\n",
       "    </tr>\n",
       "    <tr>\n",
       "      <th>9576</th>\n",
       "      <td>https://www.spiegel.de/wissenschaft/mensch/dr-...</td>\n",
       "      <td>sprechstunde bei dr hackenbroch was sie über c...</td>\n",
       "      <td>sprechstunde dr hackenbroch covid19 wissen müssen</td>\n",
       "      <td>2020-03-09</td>\n",
       "      <td>Wissenschaft</td>\n",
       "      <td>Der Spiegel</td>\n",
       "      <td>NaN</td>\n",
       "    </tr>\n",
       "    <tr>\n",
       "      <th>9577</th>\n",
       "      <td>https://www.spiegel.de/wirtschaft/service/boer...</td>\n",
       "      <td>börsenbeben dax schließt mit größtem verlust s...</td>\n",
       "      <td>börsenbeben dax schließen groß verlust seit 09...</td>\n",
       "      <td>2020-03-09</td>\n",
       "      <td>Wirtschaft</td>\n",
       "      <td>Der Spiegel</td>\n",
       "      <td>NaN</td>\n",
       "    </tr>\n",
       "    <tr>\n",
       "      <th>...</th>\n",
       "      <td>...</td>\n",
       "      <td>...</td>\n",
       "      <td>...</td>\n",
       "      <td>...</td>\n",
       "      <td>...</td>\n",
       "      <td>...</td>\n",
       "      <td>...</td>\n",
       "    </tr>\n",
       "    <tr>\n",
       "      <th>22904</th>\n",
       "      <td>https://www.spiegel.de/politik/deutschland/cor...</td>\n",
       "      <td>streitthema gottesdienste seehofer kritisiert ...</td>\n",
       "      <td>streitthema gottesdienste seehofer kritisieren...</td>\n",
       "      <td>2021-03-24</td>\n",
       "      <td>Politik</td>\n",
       "      <td>Der Spiegel</td>\n",
       "      <td>NaN</td>\n",
       "    </tr>\n",
       "    <tr>\n",
       "      <th>22905</th>\n",
       "      <td>https://www.spiegel.de/wirtschaft/soziales/cor...</td>\n",
       "      <td>corona in verschiedenen einkommensgruppen ist ...</td>\n",
       "      <td>corona verschieden einkommensgruppen virus ega...</td>\n",
       "      <td>2021-03-24</td>\n",
       "      <td>Wirtschaft</td>\n",
       "      <td>Der Spiegel</td>\n",
       "      <td>NaN</td>\n",
       "    </tr>\n",
       "    <tr>\n",
       "      <th>22906</th>\n",
       "      <td>https://www.spiegel.de/reise/luxustourismus-tr...</td>\n",
       "      <td>luxustourismus trotz corona der tegernsee wird...</td>\n",
       "      <td>luxustourismus trotzen corona tegernsee neue sylt</td>\n",
       "      <td>2021-03-24</td>\n",
       "      <td>Reise</td>\n",
       "      <td>Der Spiegel</td>\n",
       "      <td>NaN</td>\n",
       "    </tr>\n",
       "    <tr>\n",
       "      <th>22907</th>\n",
       "      <td>https://www.spiegel.de/netzwelt/web/twitter-er...</td>\n",
       "      <td>24 zeichen erster tweet der welt bringt bei au...</td>\n",
       "      <td>24 zeichen erst tweet welt bringen auktion fas...</td>\n",
       "      <td>2021-03-24</td>\n",
       "      <td>Netzwelt</td>\n",
       "      <td>Der Spiegel</td>\n",
       "      <td>NaN</td>\n",
       "    </tr>\n",
       "    <tr>\n",
       "      <th>22908</th>\n",
       "      <td>https://www.spiegel.de/wirtschaft/unternehmen/...</td>\n",
       "      <td>usvideospielhändler umsatz von gamestop sinkt ...</td>\n",
       "      <td>usvideospielhändler umsatz gamestop sinken neu...</td>\n",
       "      <td>2021-03-24</td>\n",
       "      <td>Wirtschaft</td>\n",
       "      <td>Der Spiegel</td>\n",
       "      <td>NaN</td>\n",
       "    </tr>\n",
       "  </tbody>\n",
       "</table>\n",
       "<p>13336 rows × 7 columns</p>\n",
       "</div>"
      ],
      "text/plain": [
       "                                                     url  \\\n",
       "9573   https://www.spiegel.de/panorama/italien-weitet...   \n",
       "9574   https://www.spiegel.de/panorama/coronavirus-in...   \n",
       "9575   https://www.spiegel.de/reise/fernweh/coronavir...   \n",
       "9576   https://www.spiegel.de/wissenschaft/mensch/dr-...   \n",
       "9577   https://www.spiegel.de/wirtschaft/service/boer...   \n",
       "...                                                  ...   \n",
       "22904  https://www.spiegel.de/politik/deutschland/cor...   \n",
       "22905  https://www.spiegel.de/wirtschaft/soziales/cor...   \n",
       "22906  https://www.spiegel.de/reise/luxustourismus-tr...   \n",
       "22907  https://www.spiegel.de/netzwelt/web/twitter-er...   \n",
       "22908  https://www.spiegel.de/wirtschaft/unternehmen/...   \n",
       "\n",
       "                                       original_headline  \\\n",
       "9573   coronavirus italien weitet rote zone auf das g...   \n",
       "9574   coronavirus in brandenburg bis zu 2250 mensche...   \n",
       "9575   fotostrecke mekka venedig tokio wie das virus ...   \n",
       "9576   sprechstunde bei dr hackenbroch was sie über c...   \n",
       "9577   börsenbeben dax schließt mit größtem verlust s...   \n",
       "...                                                  ...   \n",
       "22904  streitthema gottesdienste seehofer kritisiert ...   \n",
       "22905  corona in verschiedenen einkommensgruppen ist ...   \n",
       "22906  luxustourismus trotz corona der tegernsee wird...   \n",
       "22907  24 zeichen erster tweet der welt bringt bei au...   \n",
       "22908  usvideospielhändler umsatz von gamestop sinkt ...   \n",
       "\n",
       "                                                headline date_published  \\\n",
       "9573     coronavirus italien weiten rote zone ganze land     2020-03-09   \n",
       "9574   coronavirus brandenburg 2250 menschen häuslich...     2020-03-09   \n",
       "9575   fotostrecke mekka venedig tokio virus menschen...     2020-03-09   \n",
       "9576   sprechstunde dr hackenbroch covid19 wissen müssen     2020-03-09   \n",
       "9577   börsenbeben dax schließen groß verlust seit 09...     2020-03-09   \n",
       "...                                                  ...            ...   \n",
       "22904  streitthema gottesdienste seehofer kritisieren...     2021-03-24   \n",
       "22905  corona verschieden einkommensgruppen virus ega...     2021-03-24   \n",
       "22906  luxustourismus trotzen corona tegernsee neue sylt     2021-03-24   \n",
       "22907  24 zeichen erst tweet welt bringen auktion fas...     2021-03-24   \n",
       "22908  usvideospielhändler umsatz gamestop sinken neu...     2021-03-24   \n",
       "\n",
       "            channel    newspaper vaccine  \n",
       "9573       Panorama  Der Spiegel     NaN  \n",
       "9574       Panorama  Der Spiegel     NaN  \n",
       "9575          Reise  Der Spiegel     NaN  \n",
       "9576   Wissenschaft  Der Spiegel     NaN  \n",
       "9577     Wirtschaft  Der Spiegel     NaN  \n",
       "...             ...          ...     ...  \n",
       "22904       Politik  Der Spiegel     NaN  \n",
       "22905    Wirtschaft  Der Spiegel     NaN  \n",
       "22906         Reise  Der Spiegel     NaN  \n",
       "22907      Netzwelt  Der Spiegel     NaN  \n",
       "22908    Wirtschaft  Der Spiegel     NaN  \n",
       "\n",
       "[13336 rows x 7 columns]"
      ]
     },
     "execution_count": 168,
     "metadata": {},
     "output_type": "execute_result"
    }
   ],
   "source": [
    "spiegel_old=pd.read_csv(\"/Users/carolinvogt/Becoming_Data_Analyst/vaccine_sentiment/german/automated_scraping/spiegel_\"+start_date+\".csv\", index_col=0)\n",
    "spiegel_old                       "
   ]
  },
  {
   "cell_type": "code",
   "execution_count": 178,
   "metadata": {},
   "outputs": [],
   "source": [
    "spiegel=pd.concat([spiegel_old, spiegel], ignore_index=True)\n",
    "#spiegel"
   ]
  },
  {
   "cell_type": "markdown",
   "metadata": {},
   "source": [
    "### Applying corona score\n",
    "\n",
    "\"corona_dictionary_german.csv\" will be updated every week with the latest newspaper articels scrapped."
   ]
  },
  {
   "cell_type": "code",
   "execution_count": 179,
   "metadata": {},
   "outputs": [],
   "source": [
    "keywords=pd.read_csv(\"/Users/carolinvogt/Becoming_Data_Analyst/vaccine_sentiment/german/corona_dictionary_german.csv\")"
   ]
  },
  {
   "cell_type": "code",
   "execution_count": 180,
   "metadata": {},
   "outputs": [],
   "source": [
    "#keywords=pd.read_csv(\"/Users/carolinvogt/Becoming_Data_Analyst/vaccine_sentiment/german/corona_dictionary_german.csv\")\n",
    "\n",
    "corona_list=[\"corona\",\"rki\",\"wirkstoff\",\"drosten\",\"wieler\",\"merkel\",\"spahn\",\"coronavirus\",\"virus\",\"lockdown\",\"pandemie\",\"epidemie\",\"pcr-test\",\"impfzentren\",\"hausärzte\",\"schnelltest\",\"teststrategie\",\"intensivbetten\",\"covid\",\"covid-19\",\"impfung\",\"impfstrategie\",\"impfen\",\"biontech\",\"pfizer\", \"biontech/pfizer\",\"moderna\",\"johnson&johnson\", \"curevac\",\"astrazeneca\",\"oxford\",\"janssen\"]\n",
    "\n",
    "def corona_related(x):\n",
    "    temp_list=x.split(' ')\n",
    "\n",
    "    score=0\n",
    "    \n",
    "    for word in temp_list:\n",
    "        #print(word)\n",
    "        if word in corona_list:\n",
    "            score_corona=1\n",
    "            #print(score)\n",
    "            return score_corona\n",
    "        \n",
    "        elif word in list(keywords[\"keyword\"]):\n",
    "            score+=1\n",
    "            #print(score)\n",
    "        else:\n",
    "            continue\n",
    "            \n",
    "    return score/(len(temp_list))\n",
    "\n",
    "spiegel[\"corona_score\"]=spiegel[\"headline\"].apply(lambda x: corona_related(x))"
   ]
  },
  {
   "cell_type": "code",
   "execution_count": 181,
   "metadata": {},
   "outputs": [],
   "source": [
    "spiegel=spiegel[spiegel[\"corona_score\"]>0.5]"
   ]
  },
  {
   "cell_type": "code",
   "execution_count": 183,
   "metadata": {},
   "outputs": [],
   "source": [
    "spiegel.drop_duplicates(inplace=True)"
   ]
  },
  {
   "cell_type": "code",
   "execution_count": 185,
   "metadata": {},
   "outputs": [],
   "source": [
    "spiegel.reset_index(drop=True, inplace=True)"
   ]
  },
  {
   "cell_type": "markdown",
   "metadata": {},
   "source": [
    "### Applying vaccine dictionary"
   ]
  },
  {
   "cell_type": "code",
   "execution_count": 188,
   "metadata": {},
   "outputs": [],
   "source": [
    "vaccine=[\"impfung\",\"impfstrategie\",\"wirkstoff\",\"biontech\",\"pfizer\", \"biontech/pfizer\",\"moderna\",\"johnson&johnson\", \"curevac\",\"astrazeneca\",\"astra-zeneca\",\"oxford\",\"janssen\"]\n",
    "\n",
    "\n",
    "def vaccine_mentioned(x):\n",
    "    temp_list=x.split(' ')\n",
    "    \n",
    "    for word in temp_list:\n",
    "        #print(word)\n",
    "        if word in vaccine:\n",
    "            return word\n",
    "\n",
    "        else:\n",
    "            return \"n/a\"\n",
    "        \n",
    "spiegel[\"vaccine\"]=spiegel[\"headline\"].apply(lambda x: vaccine_mentioned(x))"
   ]
  },
  {
   "cell_type": "code",
   "execution_count": 190,
   "metadata": {},
   "outputs": [
    {
     "data": {
      "text/plain": [
       "n/a            13964\n",
       "biontech          13\n",
       "astrazeneca       11\n",
       "impfung            3\n",
       "wirkstoff          1\n",
       "moderna            1\n",
       "curevac            1\n",
       "Name: vaccine, dtype: int64"
      ]
     },
     "execution_count": 190,
     "metadata": {},
     "output_type": "execute_result"
    }
   ],
   "source": [
    "spiegel[\"vaccine\"].value_counts()"
   ]
  },
  {
   "cell_type": "code",
   "execution_count": 191,
   "metadata": {},
   "outputs": [
    {
     "data": {
      "text/plain": [
       "'2021-04-09'"
      ]
     },
     "execution_count": 191,
     "metadata": {},
     "output_type": "execute_result"
    }
   ],
   "source": [
    "today"
   ]
  },
  {
   "cell_type": "code",
   "execution_count": 192,
   "metadata": {},
   "outputs": [
    {
     "name": "stdout",
     "output_type": "stream",
     "text": [
      "Sucessfully saved\n"
     ]
    }
   ],
   "source": [
    "spiegel.to_csv(\"/Users/carolinvogt/Becoming_Data_Analyst/vaccine_sentiment/german/automated_scraping/spiegel_\"+today+\".csv\")\n",
    "\n",
    "print(\"Sucessfully saved\")"
   ]
  },
  {
   "cell_type": "code",
   "execution_count": null,
   "metadata": {},
   "outputs": [],
   "source": []
  }
 ],
 "metadata": {
  "kernelspec": {
   "display_name": "Python 3",
   "language": "python",
   "name": "python3"
  },
  "language_info": {
   "codemirror_mode": {
    "name": "ipython",
    "version": 3
   },
   "file_extension": ".py",
   "mimetype": "text/x-python",
   "name": "python",
   "nbconvert_exporter": "python",
   "pygments_lexer": "ipython3",
   "version": "3.8.3"
  }
 },
 "nbformat": 4,
 "nbformat_minor": 4
}
