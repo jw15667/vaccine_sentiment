{
 "cells": [
  {
   "cell_type": "code",
<<<<<<< HEAD
   "execution_count": 40,
=======
   "execution_count": 2,
>>>>>>> 5a4dde63fa0f15a6ebb9d8471b3dd3795a9131dc
   "metadata": {},
   "outputs": [],
   "source": [
    "import pandas as pd\n",
    "from datetime import datetime\n",
    "import re"
   ]
  },
  {
   "cell_type": "code",
<<<<<<< HEAD
   "execution_count": 141,
   "metadata": {},
   "outputs": [],
   "source": [
    "df_model=pd.read_csv(\"/Users/carolinvogt/Becoming_Data_Analyst/vaccine_confidence/df_model.csv\",index_col=0,lineterminator='\\n')\n",
=======
   "execution_count": 3,
   "metadata": {},
   "outputs": [],
   "source": [
    "df_model=pd.read_csv(\"/Users/carolinvogt/Becoming_Data_Analyst/vaccine_sentiment/german/df_model.csv\",index_col=0,lineterminator='\\n')\n",
>>>>>>> 5a4dde63fa0f15a6ebb9d8471b3dd3795a9131dc
    "#df_model"
   ]
  },
  {
   "cell_type": "code",
   "execution_count": 142,
   "metadata": {},
   "outputs": [],
   "source": [
    "df_model.drop_duplicates(inplace=True)"
   ]
  },
  {
   "cell_type": "code",
   "execution_count": 143,
   "metadata": {},
   "outputs": [
    {
     "data": {
      "text/html": [
       "<div>\n",
       "<style scoped>\n",
       "    .dataframe tbody tr th:only-of-type {\n",
       "        vertical-align: middle;\n",
       "    }\n",
       "\n",
       "    .dataframe tbody tr th {\n",
       "        vertical-align: top;\n",
       "    }\n",
       "\n",
       "    .dataframe thead th {\n",
       "        text-align: right;\n",
       "    }\n",
       "</style>\n",
       "<table border=\"1\" class=\"dataframe\">\n",
       "  <thead>\n",
       "    <tr style=\"text-align: right;\">\n",
       "      <th></th>\n",
       "      <th>url</th>\n",
       "      <th>original_headline</th>\n",
       "      <th>headline</th>\n",
       "      <th>date_published</th>\n",
       "      <th>channel</th>\n",
       "      <th>newspaper</th>\n",
       "      <th>vaccine</th>\n",
       "    </tr>\n",
       "  </thead>\n",
       "  <tbody>\n",
       "    <tr>\n",
       "      <th>0</th>\n",
       "      <td>http://www.zeit.de/kultur/2020-03/gesellschaft...</td>\n",
       "      <td>Noch 'ne Runde! tatsächlich auch für Erwachsen...</td>\n",
       "      <td>ne rundentatsächlich erwachsen langweilig 2 7 ...</td>\n",
       "      <td>2020-03-21</td>\n",
       "      <td>kultur</td>\n",
       "      <td>Die Zeit</td>\n",
       "      <td>NaN</td>\n",
       "    </tr>\n",
       "    <tr>\n",
       "      <th>1</th>\n",
       "      <td>http://www.zeit.de/kultur/2020-03/corona-quara...</td>\n",
       "      <td>Gewinnen ist was für Verlierer? mir schweigend...</td>\n",
       "      <td>gewinnen verliererschweigen möglichkeiten gut ...</td>\n",
       "      <td>2020-03-21</td>\n",
       "      <td>kultur</td>\n",
       "      <td>Die Zeit</td>\n",
       "      <td>NaN</td>\n",
       "    </tr>\n",
       "    <tr>\n",
       "      <th>2</th>\n",
       "      <td>http://www.zeit.de/kultur/2020-03/staat-ausnah...</td>\n",
       "      <td>Corona und der Staat dennoch nicht allzu vorsi...</td>\n",
       "      <td>corona staatdennoch allzu vorsichtig wer recht...</td>\n",
       "      <td>2020-03-21</td>\n",
       "      <td>kultur</td>\n",
       "      <td>Die Zeit</td>\n",
       "      <td>NaN</td>\n",
       "    </tr>\n",
       "    <tr>\n",
       "      <th>3</th>\n",
       "      <td>http://www.zeit.de/gesellschaft/zeitgeschehen/...</td>\n",
       "      <td>\"Kleine Änderungen im Alltag können viel bewir...</td>\n",
       "      <td>kleine änderungen alltag bewirkenprovisorisch ...</td>\n",
       "      <td>2020-03-21</td>\n",
       "      <td>gesellschaft</td>\n",
       "      <td>Die Zeit</td>\n",
       "      <td>NaN</td>\n",
       "    </tr>\n",
       "    <tr>\n",
       "      <th>4</th>\n",
       "      <td>http://www.zeit.de/campus/2020-03/auslandsseme...</td>\n",
       "      <td>\"Eigentlich wäre ich jetzt gerne bei meiner Fa...</td>\n",
       "      <td>eigentlich sein gerne familieeigentlich wollen...</td>\n",
       "      <td>2020-03-21</td>\n",
       "      <td>campus</td>\n",
       "      <td>Die Zeit</td>\n",
       "      <td>NaN</td>\n",
       "    </tr>\n",
       "    <tr>\n",
       "      <th>...</th>\n",
       "      <td>...</td>\n",
       "      <td>...</td>\n",
       "      <td>...</td>\n",
       "      <td>...</td>\n",
       "      <td>...</td>\n",
       "      <td>...</td>\n",
       "      <td>...</td>\n",
       "    </tr>\n",
       "    <tr>\n",
       "      <th>37827</th>\n",
       "      <td>https://www.faz.net/suche/streit-zwischen-astr...</td>\n",
       "      <td>Es knistert zwischen Astra-Zeneca und der EU  ...</td>\n",
       "      <td>knistern astra-zeneca eu schwedisch-britische ...</td>\n",
       "      <td>2021-01-27</td>\n",
       "      <td>NaN</td>\n",
       "      <td>Frankfurter Allgemeine</td>\n",
       "      <td>NaN</td>\n",
       "    </tr>\n",
       "    <tr>\n",
       "      <th>37828</th>\n",
       "      <td>https://www.faz.net/premiumContent?contentId=1...</td>\n",
       "      <td>Chef von Astra-Zeneca weist Vorwürfe der EU zu...</td>\n",
       "      <td>chef astra-zeneca weisen vorwürfe eu zurück eu...</td>\n",
       "      <td>2021-01-27</td>\n",
       "      <td>NaN</td>\n",
       "      <td>Frankfurter Allgemeine</td>\n",
       "      <td>NaN</td>\n",
       "    </tr>\n",
       "    <tr>\n",
       "      <th>37829</th>\n",
       "      <td>https://www.faz.net/premiumContent?contentId=1...</td>\n",
       "      <td>Macron warnt vor Artensterben        Auf dem K...</td>\n",
       "      <td>macron warnen artensterben klimagipfel paris g...</td>\n",
       "      <td>2021-01-11</td>\n",
       "      <td>NaN</td>\n",
       "      <td>Frankfurter Allgemeine</td>\n",
       "      <td>NaN</td>\n",
       "    </tr>\n",
       "    <tr>\n",
       "      <th>37830</th>\n",
       "      <td>https://www.faz.net/suche/impfstoff-von-astraz...</td>\n",
       "      <td>Kritik am Impfstoff von AstraZeneca        Es ...</td>\n",
       "      <td>kritik impfstoff astrazeneca sein basis völlig...</td>\n",
       "      <td>2020-11-27</td>\n",
       "      <td>NaN</td>\n",
       "      <td>Frankfurter Allgemeine</td>\n",
       "      <td>NaN</td>\n",
       "    </tr>\n",
       "    <tr>\n",
       "      <th>37831</th>\n",
       "      <td>https://www.faz.net/premiumContent?contentId=1...</td>\n",
       "      <td>Amerika beflügelt die Impfstoff-Suche        D...</td>\n",
       "      <td>amerika beflügeln impfstoff-suche amerikanisch...</td>\n",
       "      <td>2020-05-15</td>\n",
       "      <td>NaN</td>\n",
       "      <td>Frankfurter Allgemeine</td>\n",
       "      <td>NaN</td>\n",
       "    </tr>\n",
       "  </tbody>\n",
       "</table>\n",
       "<p>37830 rows × 7 columns</p>\n",
       "</div>"
      ],
      "text/plain": [
       "                                                     url  \\\n",
       "0      http://www.zeit.de/kultur/2020-03/gesellschaft...   \n",
       "1      http://www.zeit.de/kultur/2020-03/corona-quara...   \n",
       "2      http://www.zeit.de/kultur/2020-03/staat-ausnah...   \n",
       "3      http://www.zeit.de/gesellschaft/zeitgeschehen/...   \n",
       "4      http://www.zeit.de/campus/2020-03/auslandsseme...   \n",
       "...                                                  ...   \n",
       "37827  https://www.faz.net/suche/streit-zwischen-astr...   \n",
       "37828  https://www.faz.net/premiumContent?contentId=1...   \n",
       "37829  https://www.faz.net/premiumContent?contentId=1...   \n",
       "37830  https://www.faz.net/suche/impfstoff-von-astraz...   \n",
       "37831  https://www.faz.net/premiumContent?contentId=1...   \n",
       "\n",
       "                                       original_headline  \\\n",
       "0      Noch 'ne Runde! tatsächlich auch für Erwachsen...   \n",
       "1      Gewinnen ist was für Verlierer? mir schweigend...   \n",
       "2      Corona und der Staat dennoch nicht allzu vorsi...   \n",
       "3      \"Kleine Änderungen im Alltag können viel bewir...   \n",
       "4      \"Eigentlich wäre ich jetzt gerne bei meiner Fa...   \n",
       "...                                                  ...   \n",
       "37827  Es knistert zwischen Astra-Zeneca und der EU  ...   \n",
       "37828  Chef von Astra-Zeneca weist Vorwürfe der EU zu...   \n",
       "37829  Macron warnt vor Artensterben        Auf dem K...   \n",
       "37830  Kritik am Impfstoff von AstraZeneca        Es ...   \n",
       "37831  Amerika beflügelt die Impfstoff-Suche        D...   \n",
       "\n",
       "                                                headline date_published  \\\n",
       "0      ne rundentatsächlich erwachsen langweilig 2 7 ...     2020-03-21   \n",
       "1      gewinnen verliererschweigen möglichkeiten gut ...     2020-03-21   \n",
       "2      corona staatdennoch allzu vorsichtig wer recht...     2020-03-21   \n",
       "3      kleine änderungen alltag bewirkenprovisorisch ...     2020-03-21   \n",
       "4      eigentlich sein gerne familieeigentlich wollen...     2020-03-21   \n",
       "...                                                  ...            ...   \n",
       "37827  knistern astra-zeneca eu schwedisch-britische ...     2021-01-27   \n",
       "37828  chef astra-zeneca weisen vorwürfe eu zurück eu...     2021-01-27   \n",
       "37829  macron warnen artensterben klimagipfel paris g...     2021-01-11   \n",
       "37830  kritik impfstoff astrazeneca sein basis völlig...     2020-11-27   \n",
       "37831  amerika beflügeln impfstoff-suche amerikanisch...     2020-05-15   \n",
       "\n",
       "            channel               newspaper vaccine  \n",
       "0            kultur                Die Zeit     NaN  \n",
       "1            kultur                Die Zeit     NaN  \n",
       "2            kultur                Die Zeit     NaN  \n",
       "3      gesellschaft                Die Zeit     NaN  \n",
       "4            campus                Die Zeit     NaN  \n",
       "...             ...                     ...     ...  \n",
       "37827           NaN  Frankfurter Allgemeine     NaN  \n",
       "37828           NaN  Frankfurter Allgemeine     NaN  \n",
       "37829           NaN  Frankfurter Allgemeine     NaN  \n",
       "37830           NaN  Frankfurter Allgemeine     NaN  \n",
       "37831           NaN  Frankfurter Allgemeine     NaN  \n",
       "\n",
       "[37830 rows x 7 columns]"
      ]
     },
     "execution_count": 143,
     "metadata": {},
     "output_type": "execute_result"
    }
   ],
   "source": [
    "df_model"
   ]
  },
  {
   "cell_type": "code",
   "execution_count": 57,
   "metadata": {},
   "outputs": [
    {
     "data": {
      "text/plain": [
       "372"
      ]
     },
     "execution_count": 57,
     "metadata": {},
     "output_type": "execute_result"
    }
   ],
   "source": [
    "len(df_model[\"original_headline\"][0])"
   ]
  },
  {
   "cell_type": "code",
   "execution_count": 61,
   "metadata": {},
   "outputs": [
    {
     "name": "stdout",
     "output_type": "stream",
     "text": [
      "8722872\n"
     ]
    }
   ],
   "source": [
    "zeichen=0\n",
    "for i in range(len(df_model[\"original_headline\"])):\n",
    "    try:\n",
    "        zeichen=zeichen+len(df_model[\"original_headline\"][i])\n",
    "    except:\n",
    "        zeichen=zeichen\n",
    "print(zeichen)"
   ]
  },
  {
   "cell_type": "code",
   "execution_count": 60,
   "metadata": {},
   "outputs": [
    {
     "name": "stdout",
     "output_type": "stream",
     "text": [
      "<class 'pandas.core.frame.DataFrame'>\n",
      "Int64Index: 37818 entries, 0 to 37831\n",
      "Data columns (total 9 columns):\n",
      " #   Column             Non-Null Count  Dtype \n",
      "---  ------             --------------  ----- \n",
      " 0   url                37818 non-null  object\n",
      " 1   original_headline  37818 non-null  object\n",
      " 2   headline           37818 non-null  object\n",
      " 3   date_published     37818 non-null  object\n",
      " 4   channel            20758 non-null  object\n",
      " 5   newspaper          37818 non-null  object\n",
      " 6   vaccine            141 non-null    object\n",
      " 7   pos_1              37818 non-null  object\n",
      " 8   pos_2              37818 non-null  object\n",
      "dtypes: object(9)\n",
      "memory usage: 3.9+ MB\n"
     ]
    }
   ],
   "source": [
    "df_model.info()"
   ]
  },
  {
   "cell_type": "code",
   "execution_count": 155,
   "metadata": {},
   "outputs": [],
   "source": [
    "df_model.dropna(axis=0,subset=[\"original_headline\"],inplace=True)"
   ]
  },
  {
   "cell_type": "code",
   "execution_count": 156,
   "metadata": {},
   "outputs": [
    {
     "data": {
      "text/plain": [
       "url                      0\n",
       "original_headline        0\n",
       "headline                 0\n",
       "date_published           0\n",
       "channel              17060\n",
       "newspaper                0\n",
       "vaccine              37677\n",
       "dtype: int64"
      ]
     },
     "execution_count": 156,
     "metadata": {},
     "output_type": "execute_result"
    }
   ],
   "source": [
    "df_model.isna().sum()"
   ]
  },
  {
   "cell_type": "code",
   "execution_count": 157,
   "metadata": {},
   "outputs": [
    {
     "data": {
      "text/plain": [
       "biontech        44\n",
       "astrazeneca     35\n",
       "curevac         24\n",
       "astra-zeneca    19\n",
       "pfizer          10\n",
       "moderna          9\n",
       "Name: vaccine, dtype: int64"
      ]
     },
     "execution_count": 157,
     "metadata": {},
     "output_type": "execute_result"
    }
   ],
   "source": [
    "df_model[\"vaccine\"].value_counts()"
   ]
  },
  {
   "cell_type": "code",
   "execution_count": 158,
   "metadata": {},
   "outputs": [],
   "source": [
    "import spacy\n",
    "nlp = spacy.load('de_core_news_sm')"
   ]
  },
  {
   "cell_type": "code",
   "execution_count": 159,
   "metadata": {},
   "outputs": [
    {
     "data": {
      "text/plain": [
       "\"Noch 'ne Runde! tatsächlich auch für Erwachsene nicht langweilig. (Für 2 bis 7 Spieler, ab 4 Jahren)Simone Gaul Eine Krise braucht Bilder, muss begreifbar werden durch Metaphern. Die derzeitige Corona-Krise sickert nur Spätestens nach einem Tag Homeoffice und Homeschooling haben sich alle eine Partie Spaß verdient. Die Gesellschaftsspiele-Tipps der ZEIT ONLINE-Redaktion\""
      ]
     },
     "execution_count": 159,
     "metadata": {},
     "output_type": "execute_result"
    }
   ],
   "source": [
    "df_model[\"original_headline\"][0]"
   ]
  },
  {
   "cell_type": "code",
   "execution_count": 160,
   "metadata": {},
   "outputs": [
    {
     "name": "stdout",
     "output_type": "stream",
     "text": [
      "ADV\n",
      "ART\n",
      "NN\n",
      "$.\n",
      "ADJD\n",
      "ADV\n",
      "APPR\n",
      "NN\n",
      "PTKNEG\n",
      "ADJD\n",
      "$.\n",
      "$(\n",
      "APPR\n",
      "CARD\n",
      "KON\n",
      "CARD\n",
      "NN\n",
      "$,\n",
      "APPR\n",
      "CARD\n",
      "NN\n",
      "$(\n",
      "NN\n",
      "NE\n",
      "ART\n",
      "NN\n",
      "VVFIN\n",
      "NN\n",
      "$,\n",
      "VVFIN\n",
      "ADJD\n",
      "VAINF\n",
      "APPR\n",
      "NN\n",
      "$.\n",
      "ART\n",
      "ADJA\n",
      "NN\n",
      "VVFIN\n",
      "ADV\n",
      "ADV\n",
      "APPR\n",
      "ART\n",
      "NN\n",
      "NE\n",
      "KON\n",
      "NE\n",
      "VAFIN\n",
      "PRF\n",
      "PIS\n",
      "ART\n",
      "NN\n",
      "NN\n",
      "VVFIN\n",
      "$.\n",
      "ART\n",
      "NN\n",
      "ART\n",
      "NN\n",
      "NN\n"
     ]
    }
   ],
   "source": [
    "doc=nlp(df_model[\"original_headline\"][0])\n",
    "for token in doc:\n",
    "    print(token.tag_)"
   ]
  },
  {
   "cell_type": "code",
   "execution_count": 161,
   "metadata": {},
   "outputs": [
    {
     "data": {
      "text/plain": [
       "'foreign language material'"
      ]
     },
     "execution_count": 161,
     "metadata": {},
     "output_type": "execute_result"
    }
   ],
   "source": [
    "spacy.explain(\"FM\")"
   ]
  },
  {
   "cell_type": "markdown",
   "metadata": {},
   "source": [
    "**GLOSSARY** spaCy: https://github.com/explosion/spaCy/blob/master/spacy/glossary.py"
   ]
  },
  {
   "cell_type": "code",
   "execution_count": 162,
   "metadata": {},
   "outputs": [
    {
     "data": {
      "text/plain": [
       "[['Noch', 'ADV'],\n",
       " [\"'ne\", 'ART'],\n",
       " ['Runde', 'NN'],\n",
       " ['!', '$.'],\n",
       " ['tatsächlich', 'ADJD'],\n",
       " ['auch', 'ADV'],\n",
       " ['für', 'APPR'],\n",
       " ['Erwachsene', 'NN'],\n",
       " ['nicht', 'PTKNEG'],\n",
       " ['langweilig', 'ADJD'],\n",
       " ['.', '$.'],\n",
       " ['(', '$('],\n",
       " ['Für', 'APPR'],\n",
       " ['2', 'CARD'],\n",
       " ['bis', 'KON'],\n",
       " ['7', 'CARD'],\n",
       " ['Spieler', 'NN'],\n",
       " [',', '$,'],\n",
       " ['ab', 'APPR'],\n",
       " ['4', 'CARD'],\n",
       " ['Jahren', 'NN'],\n",
       " [')', '$('],\n",
       " ['Simone', 'NN'],\n",
       " ['Gaul', 'NE'],\n",
       " ['Eine', 'ART'],\n",
       " ['Krise', 'NN'],\n",
       " ['braucht', 'VVFIN'],\n",
       " ['Bilder', 'NN'],\n",
       " [',', '$,'],\n",
       " ['muss', 'VVFIN'],\n",
       " ['begreifbar', 'ADJD'],\n",
       " ['werden', 'VAINF'],\n",
       " ['durch', 'APPR'],\n",
       " ['Metaphern', 'NN'],\n",
       " ['.', '$.'],\n",
       " ['Die', 'ART'],\n",
       " ['derzeitige', 'ADJA'],\n",
       " ['Corona-Krise', 'NN'],\n",
       " ['sickert', 'VVFIN'],\n",
       " ['nur', 'ADV'],\n",
       " ['Spätestens', 'ADV'],\n",
       " ['nach', 'APPR'],\n",
       " ['einem', 'ART'],\n",
       " ['Tag', 'NN'],\n",
       " ['Homeoffice', 'NE'],\n",
       " ['und', 'KON'],\n",
       " ['Homeschooling', 'NE'],\n",
       " ['haben', 'VAFIN'],\n",
       " ['sich', 'PRF'],\n",
       " ['alle', 'PIS'],\n",
       " ['eine', 'ART'],\n",
       " ['Partie', 'NN'],\n",
       " ['Spaß', 'NN'],\n",
       " ['verdient', 'VVFIN'],\n",
       " ['.', '$.'],\n",
       " ['Die', 'ART'],\n",
       " ['Gesellschaftsspiele-Tipps', 'NN'],\n",
       " ['der', 'ART'],\n",
       " ['ZEIT', 'NN'],\n",
       " ['ONLINE-Redaktion', 'NN']]"
      ]
     },
     "execution_count": 162,
     "metadata": {},
     "output_type": "execute_result"
    }
   ],
   "source": [
    "def pos_headline(x):\n",
    "    doc=nlp(df_model[\"original_headline\"][0])\n",
    "    return [[token.text, token.tag_] for token in doc]\n",
    "\n",
    "pos_headline(df_model[\"original_headline\"][0])"
   ]
  },
  {
   "cell_type": "code",
   "execution_count": 163,
   "metadata": {},
   "outputs": [],
   "source": [
    "df_model[\"pos_1\"]=df_model[\"original_headline\"].apply(lambda x: pos_headline(x))"
   ]
  },
  {
   "cell_type": "code",
   "execution_count": 164,
   "metadata": {},
   "outputs": [
    {
     "data": {
      "text/plain": [
       "list"
      ]
     },
     "execution_count": 164,
     "metadata": {},
     "output_type": "execute_result"
    }
   ],
   "source": [
    "type(df_model[\"pos_1\"][0])"
   ]
  },
  {
   "cell_type": "code",
   "execution_count": 167,
   "metadata": {},
   "outputs": [
    {
     "data": {
      "text/plain": [
       "'ADV'"
      ]
     },
     "execution_count": 167,
     "metadata": {},
     "output_type": "execute_result"
    }
   ],
   "source": [
    "df_model[\"pos_1\"][0][0][1]"
   ]
  },
  {
   "cell_type": "code",
   "execution_count": 172,
   "metadata": {},
   "outputs": [],
   "source": [
    "pos_dict={}\n",
    "for pos in df_model[\"pos_1\"]:\n",
    "    for i in range(len(pos)):\n",
    "        #print(pos[i])\n",
    "        if pos[i][1] in pos_dict:\n",
    "            pos_dict[pos[i][1]]+=1\n",
    "        else:\n",
    "            pos_dict[pos[i][1]]=1"
   ]
  },
  {
   "cell_type": "code",
   "execution_count": 173,
   "metadata": {},
   "outputs": [
    {
     "data": {
      "text/plain": [
       "['$(',\n",
       " '$,',\n",
       " '$.',\n",
       " 'ADJA',\n",
       " 'ADJD',\n",
       " 'ADV',\n",
       " 'APPR',\n",
       " 'ART',\n",
       " 'CARD',\n",
       " 'KON',\n",
       " 'NE',\n",
       " 'NN',\n",
       " 'PIS',\n",
       " 'PRF',\n",
       " 'PTKNEG',\n",
       " 'VAFIN',\n",
       " 'VAINF',\n",
       " 'VVFIN']"
      ]
     },
     "execution_count": 173,
     "metadata": {},
     "output_type": "execute_result"
    }
   ],
   "source": [
    "sorted(pos_dict)"
   ]
  },
  {
   "cell_type": "markdown",
   "metadata": {},
   "source": [
    "'$(' = \"other sentence-internal punctuation mark\"\n",
    "\n",
    "'$,' = \"comma\"\n",
    "\n",
    "'$.' = \"sentence-final punctuation mark\"\n",
    "\n",
    "'ADJA' = \"adjective, attributive\"\n",
    "\n",
    "'ADJD' = \"adjective, adverbial or predicative\"\n",
    "\n",
    "'ADV' = \"adverb\"\n",
    "\n",
    "'APPR' = \"preposition; circumposition left\"\n",
    "\n",
    "'ART' = \"definite or indefinite article\"\n",
    "\n",
    "'CARD' = \"cardinal number\"\n",
    "\n",
    "'KON' = \"coordinate conjunction\"\n",
    "\n",
    "'NE' = \"proper noun\"\n",
    "\n",
    "'NN' = \"noun, singular or mass\"\n",
    "\n",
    "'PIS' = \"substituting indefinite pronoun\"\n",
    "\n",
    "'PRF' = \"reflexive personal pronoun\"\n",
    "\n",
    "'PTKNEG' = \"negative particle\"\n",
    "\n",
    "'VAFIN' = \"finite verb, auxiliary\"\n",
    "\n",
    "'VAINF' = \"infinitive, auxiliary\"\n",
    "\n",
    "'VVFIN' = \"finite verb, modal\""
   ]
  },
  {
   "cell_type": "code",
   "execution_count": 192,
   "metadata": {},
   "outputs": [],
   "source": [
    "def is_proper_noun(tag):\n",
    "    return tag in ['NE']\n",
    "def is_noun(tag):\n",
    "    return tag in ['NN']\n",
    "def is_verb(tag):\n",
    "    return tag in ['VAFIN', 'VAINF', 'VVFIN']\n",
    "def is_adverb(tag):\n",
    "    return tag in ['ADV']\n",
    "def is_adjective(tag):\n",
    "    return tag in [\"ADJA\", 'ADJD']\n",
    "\n",
    "def penn_to_pos(headline_list):\n",
    "    tagged_list = []\n",
    "    \n",
    "    for tag in headline_list:\n",
    "        tag = list(tag)\n",
    "        \n",
    "        if is_adjective(tag[1]):\n",
    "            tag[1] = \"ADJ\"\n",
    "            tagged_list.append(tag)\n",
    "        elif is_noun(tag[1]):\n",
    "            tag[1] = \"NOUN\"\n",
    "            tagged_list.append(tag)\n",
    "        elif is_adverb(tag[1]):\n",
    "            tag[1] = \"ADV\"\n",
    "            tagged_list.append(tag)\n",
    "        elif is_verb(tag[1]):\n",
    "            tag[1] = \"VERB\"\n",
    "            tagged_list.append(tag)\n",
    "        elif is_proper_noun(tag[1]):\n",
    "            tag[1] = 'NE'\n",
    "            tagged_list.append(tag)\n",
    "        else:\n",
    "            continue\n",
    "\n",
    "    return tagged_list"
   ]
  },
  {
   "cell_type": "code",
   "execution_count": 191,
   "metadata": {
    "scrolled": true
   },
   "outputs": [
    {
     "name": "stdout",
     "output_type": "stream",
     "text": [
      "[['Noch', 'ADV'], [\"'ne\", 'ART'], ['Runde', 'NN'], ['!', '$.'], ['tatsächlich', 'ADJD'], ['auch', 'ADV'], ['für', 'APPR'], ['Erwachsene', 'NN'], ['nicht', 'PTKNEG'], ['langweilig', 'ADJD'], ['.', '$.'], ['(', '$('], ['Für', 'APPR'], ['2', 'CARD'], ['bis', 'KON'], ['7', 'CARD'], ['Spieler', 'NN'], [',', '$,'], ['ab', 'APPR'], ['4', 'CARD'], ['Jahren', 'NN'], [')', '$('], ['Simone', 'NN'], ['Gaul', 'NE'], ['Eine', 'ART'], ['Krise', 'NN'], ['braucht', 'VVFIN'], ['Bilder', 'NN'], [',', '$,'], ['muss', 'VVFIN'], ['begreifbar', 'ADJD'], ['werden', 'VAINF'], ['durch', 'APPR'], ['Metaphern', 'NN'], ['.', '$.'], ['Die', 'ART'], ['derzeitige', 'ADJA'], ['Corona-Krise', 'NN'], ['sickert', 'VVFIN'], ['nur', 'ADV'], ['Spätestens', 'ADV'], ['nach', 'APPR'], ['einem', 'ART'], ['Tag', 'NN'], ['Homeoffice', 'NE'], ['und', 'KON'], ['Homeschooling', 'NE'], ['haben', 'VAFIN'], ['sich', 'PRF'], ['alle', 'PIS'], ['eine', 'ART'], ['Partie', 'NN'], ['Spaß', 'NN'], ['verdient', 'VVFIN'], ['.', '$.'], ['Die', 'ART'], ['Gesellschaftsspiele-Tipps', 'NN'], ['der', 'ART'], ['ZEIT', 'NN'], ['ONLINE-Redaktion', 'NN']]\n",
      "['Noch', 'ADV']\n",
      "[\"'ne\", 'ART']\n",
      "['Runde', 'NN']\n",
      "['!', '$.']\n",
      "['tatsächlich', 'ADJD']\n",
      "['auch', 'ADV']\n",
      "['für', 'APPR']\n",
      "['Erwachsene', 'NN']\n",
      "['nicht', 'PTKNEG']\n",
      "['langweilig', 'ADJD']\n",
      "['.', '$.']\n",
      "['(', '$(']\n",
      "['Für', 'APPR']\n",
      "['2', 'CARD']\n",
      "['bis', 'KON']\n",
      "['7', 'CARD']\n",
      "['Spieler', 'NN']\n",
      "[',', '$,']\n",
      "['ab', 'APPR']\n",
      "['4', 'CARD']\n",
      "['Jahren', 'NN']\n",
      "[')', '$(']\n",
      "['Simone', 'NN']\n",
      "['Gaul', 'NE']\n",
      "['Eine', 'ART']\n",
      "['Krise', 'NN']\n",
      "['braucht', 'VVFIN']\n",
      "['Bilder', 'NN']\n",
      "[',', '$,']\n",
      "['muss', 'VVFIN']\n",
      "['begreifbar', 'ADJD']\n",
      "['werden', 'VAINF']\n",
      "['durch', 'APPR']\n",
      "['Metaphern', 'NN']\n",
      "['.', '$.']\n",
      "['Die', 'ART']\n",
      "['derzeitige', 'ADJA']\n",
      "['Corona-Krise', 'NN']\n",
      "['sickert', 'VVFIN']\n",
      "['nur', 'ADV']\n",
      "['Spätestens', 'ADV']\n",
      "['nach', 'APPR']\n",
      "['einem', 'ART']\n",
      "['Tag', 'NN']\n",
      "['Homeoffice', 'NE']\n",
      "['und', 'KON']\n",
      "['Homeschooling', 'NE']\n",
      "['haben', 'VAFIN']\n",
      "['sich', 'PRF']\n",
      "['alle', 'PIS']\n",
      "['eine', 'ART']\n",
      "['Partie', 'NN']\n",
      "['Spaß', 'NN']\n",
      "['verdient', 'VVFIN']\n",
      "['.', '$.']\n",
      "['Die', 'ART']\n",
      "['Gesellschaftsspiele-Tipps', 'NN']\n",
      "['der', 'ART']\n",
      "['ZEIT', 'NN']\n",
      "['ONLINE-Redaktion', 'NN']\n"
     ]
    }
   ],
   "source": [
    "headline_list=df_model[\"pos_1\"][0]\n",
    "print(headline_list)\n",
    "\n",
    "for tag in headline_list:\n",
    "    tag = list(tag)\n",
    "    print(tag)\n",
    "    if len(tag[1]) == 0:\n",
    "        temporary_list.append('n/a')\n",
    "    elif is_adjective(tag[1]):\n",
    "         temporary_list.append(\"ADJ\")\n",
    "    elif is_noun(tag[1]):\n",
    "        temporary_list.append(\"NOUN\")\n",
    "    elif is_adverb(tag[1]):\n",
    "        temporary_list.append(\"ADV\")\n",
    "    elif is_verb(tag[1]):\n",
    "        temporary_list.append(\"VERB\")\n",
    "    elif is_proper_noun(tag[1]):\n",
    "        temporary_list.append('NE')"
   ]
  },
  {
   "cell_type": "code",
   "execution_count": 124,
   "metadata": {
    "collapsed": true
   },
   "outputs": [
    {
     "data": {
      "text/plain": [
       "['ADV',\n",
       " 'NOUN',\n",
       " 'ADJ',\n",
       " 'ADV',\n",
       " 'NOUN',\n",
       " 'ADJ',\n",
       " 'NOUN',\n",
       " 'NOUN',\n",
       " 'NOUN',\n",
       " 'NE',\n",
       " 'NOUN',\n",
       " 'VERB',\n",
       " 'NOUN',\n",
       " 'VERB',\n",
       " 'ADJ',\n",
       " 'VERB',\n",
       " 'NOUN',\n",
       " 'ADJ',\n",
       " 'NOUN',\n",
       " 'VERB',\n",
       " 'ADV',\n",
       " 'ADV',\n",
       " 'NOUN',\n",
       " 'NE',\n",
       " 'NE',\n",
       " 'VERB',\n",
       " 'NOUN',\n",
       " 'NOUN',\n",
       " 'VERB',\n",
       " 'NOUN',\n",
       " 'NOUN',\n",
       " 'NOUN']"
      ]
     },
     "execution_count": 124,
     "metadata": {},
     "output_type": "execute_result"
    }
   ],
   "source": [
    "temporary_list"
   ]
  },
  {
   "cell_type": "code",
   "execution_count": 193,
   "metadata": {},
   "outputs": [],
   "source": [
    "df_model[\"pos_2\"]=df_model[\"pos_1\"].apply(lambda x: penn_to_pos(x))"
   ]
  },
  {
   "cell_type": "code",
   "execution_count": 194,
   "metadata": {
    "collapsed": true
   },
   "outputs": [
    {
     "data": {
      "text/html": [
       "<div>\n",
       "<style scoped>\n",
       "    .dataframe tbody tr th:only-of-type {\n",
       "        vertical-align: middle;\n",
       "    }\n",
       "\n",
       "    .dataframe tbody tr th {\n",
       "        vertical-align: top;\n",
       "    }\n",
       "\n",
       "    .dataframe thead th {\n",
       "        text-align: right;\n",
       "    }\n",
       "</style>\n",
       "<table border=\"1\" class=\"dataframe\">\n",
       "  <thead>\n",
       "    <tr style=\"text-align: right;\">\n",
       "      <th></th>\n",
       "      <th>url</th>\n",
       "      <th>original_headline</th>\n",
       "      <th>headline</th>\n",
       "      <th>date_published</th>\n",
       "      <th>channel</th>\n",
       "      <th>newspaper</th>\n",
       "      <th>vaccine</th>\n",
       "      <th>pos_1</th>\n",
       "      <th>pos_2</th>\n",
       "    </tr>\n",
       "  </thead>\n",
       "  <tbody>\n",
       "    <tr>\n",
       "      <th>0</th>\n",
       "      <td>http://www.zeit.de/kultur/2020-03/gesellschaft...</td>\n",
       "      <td>Noch 'ne Runde! tatsächlich auch für Erwachsen...</td>\n",
       "      <td>ne rundentatsächlich erwachsen langweilig 2 7 ...</td>\n",
       "      <td>2020-03-21</td>\n",
       "      <td>kultur</td>\n",
       "      <td>Die Zeit</td>\n",
       "      <td>NaN</td>\n",
       "      <td>[[Noch, ADV], ['ne, ART], [Runde, NN], [!, $.]...</td>\n",
       "      <td>[[Noch, ADV], [Runde, NOUN], [tatsächlich, ADJ...</td>\n",
       "    </tr>\n",
       "    <tr>\n",
       "      <th>1</th>\n",
       "      <td>http://www.zeit.de/kultur/2020-03/corona-quara...</td>\n",
       "      <td>Gewinnen ist was für Verlierer? mir schweigend...</td>\n",
       "      <td>gewinnen verliererschweigen möglichkeiten gut ...</td>\n",
       "      <td>2020-03-21</td>\n",
       "      <td>kultur</td>\n",
       "      <td>Die Zeit</td>\n",
       "      <td>NaN</td>\n",
       "      <td>[[Noch, ADV], ['ne, ART], [Runde, NN], [!, $.]...</td>\n",
       "      <td>[[Noch, ADV], [Runde, NOUN], [tatsächlich, ADJ...</td>\n",
       "    </tr>\n",
       "    <tr>\n",
       "      <th>2</th>\n",
       "      <td>http://www.zeit.de/kultur/2020-03/staat-ausnah...</td>\n",
       "      <td>Corona und der Staat dennoch nicht allzu vorsi...</td>\n",
       "      <td>corona staatdennoch allzu vorsichtig wer recht...</td>\n",
       "      <td>2020-03-21</td>\n",
       "      <td>kultur</td>\n",
       "      <td>Die Zeit</td>\n",
       "      <td>NaN</td>\n",
       "      <td>[[Noch, ADV], ['ne, ART], [Runde, NN], [!, $.]...</td>\n",
       "      <td>[[Noch, ADV], [Runde, NOUN], [tatsächlich, ADJ...</td>\n",
       "    </tr>\n",
       "    <tr>\n",
       "      <th>3</th>\n",
       "      <td>http://www.zeit.de/gesellschaft/zeitgeschehen/...</td>\n",
       "      <td>\"Kleine Änderungen im Alltag können viel bewir...</td>\n",
       "      <td>kleine änderungen alltag bewirkenprovisorisch ...</td>\n",
       "      <td>2020-03-21</td>\n",
       "      <td>gesellschaft</td>\n",
       "      <td>Die Zeit</td>\n",
       "      <td>NaN</td>\n",
       "      <td>[[Noch, ADV], ['ne, ART], [Runde, NN], [!, $.]...</td>\n",
       "      <td>[[Noch, ADV], [Runde, NOUN], [tatsächlich, ADJ...</td>\n",
       "    </tr>\n",
       "    <tr>\n",
       "      <th>4</th>\n",
       "      <td>http://www.zeit.de/campus/2020-03/auslandsseme...</td>\n",
       "      <td>\"Eigentlich wäre ich jetzt gerne bei meiner Fa...</td>\n",
       "      <td>eigentlich sein gerne familieeigentlich wollen...</td>\n",
       "      <td>2020-03-21</td>\n",
       "      <td>campus</td>\n",
       "      <td>Die Zeit</td>\n",
       "      <td>NaN</td>\n",
       "      <td>[[Noch, ADV], ['ne, ART], [Runde, NN], [!, $.]...</td>\n",
       "      <td>[[Noch, ADV], [Runde, NOUN], [tatsächlich, ADJ...</td>\n",
       "    </tr>\n",
       "    <tr>\n",
       "      <th>...</th>\n",
       "      <td>...</td>\n",
       "      <td>...</td>\n",
       "      <td>...</td>\n",
       "      <td>...</td>\n",
       "      <td>...</td>\n",
       "      <td>...</td>\n",
       "      <td>...</td>\n",
       "      <td>...</td>\n",
       "      <td>...</td>\n",
       "    </tr>\n",
       "    <tr>\n",
       "      <th>37827</th>\n",
       "      <td>https://www.faz.net/suche/streit-zwischen-astr...</td>\n",
       "      <td>Es knistert zwischen Astra-Zeneca und der EU  ...</td>\n",
       "      <td>knistern astra-zeneca eu schwedisch-britische ...</td>\n",
       "      <td>2021-01-27</td>\n",
       "      <td>NaN</td>\n",
       "      <td>Frankfurter Allgemeine</td>\n",
       "      <td>NaN</td>\n",
       "      <td>[[Noch, ADV], ['ne, ART], [Runde, NN], [!, $.]...</td>\n",
       "      <td>[[Noch, ADV], [Runde, NOUN], [tatsächlich, ADJ...</td>\n",
       "    </tr>\n",
       "    <tr>\n",
       "      <th>37828</th>\n",
       "      <td>https://www.faz.net/premiumContent?contentId=1...</td>\n",
       "      <td>Chef von Astra-Zeneca weist Vorwürfe der EU zu...</td>\n",
       "      <td>chef astra-zeneca weisen vorwürfe eu zurück eu...</td>\n",
       "      <td>2021-01-27</td>\n",
       "      <td>NaN</td>\n",
       "      <td>Frankfurter Allgemeine</td>\n",
       "      <td>NaN</td>\n",
       "      <td>[[Noch, ADV], ['ne, ART], [Runde, NN], [!, $.]...</td>\n",
       "      <td>[[Noch, ADV], [Runde, NOUN], [tatsächlich, ADJ...</td>\n",
       "    </tr>\n",
       "    <tr>\n",
       "      <th>37829</th>\n",
       "      <td>https://www.faz.net/premiumContent?contentId=1...</td>\n",
       "      <td>Macron warnt vor Artensterben        Auf dem K...</td>\n",
       "      <td>macron warnen artensterben klimagipfel paris g...</td>\n",
       "      <td>2021-01-11</td>\n",
       "      <td>NaN</td>\n",
       "      <td>Frankfurter Allgemeine</td>\n",
       "      <td>NaN</td>\n",
       "      <td>[[Noch, ADV], ['ne, ART], [Runde, NN], [!, $.]...</td>\n",
       "      <td>[[Noch, ADV], [Runde, NOUN], [tatsächlich, ADJ...</td>\n",
       "    </tr>\n",
       "    <tr>\n",
       "      <th>37830</th>\n",
       "      <td>https://www.faz.net/suche/impfstoff-von-astraz...</td>\n",
       "      <td>Kritik am Impfstoff von AstraZeneca        Es ...</td>\n",
       "      <td>kritik impfstoff astrazeneca sein basis völlig...</td>\n",
       "      <td>2020-11-27</td>\n",
       "      <td>NaN</td>\n",
       "      <td>Frankfurter Allgemeine</td>\n",
       "      <td>NaN</td>\n",
       "      <td>[[Noch, ADV], ['ne, ART], [Runde, NN], [!, $.]...</td>\n",
       "      <td>[[Noch, ADV], [Runde, NOUN], [tatsächlich, ADJ...</td>\n",
       "    </tr>\n",
       "    <tr>\n",
       "      <th>37831</th>\n",
       "      <td>https://www.faz.net/premiumContent?contentId=1...</td>\n",
       "      <td>Amerika beflügelt die Impfstoff-Suche        D...</td>\n",
       "      <td>amerika beflügeln impfstoff-suche amerikanisch...</td>\n",
       "      <td>2020-05-15</td>\n",
       "      <td>NaN</td>\n",
       "      <td>Frankfurter Allgemeine</td>\n",
       "      <td>NaN</td>\n",
       "      <td>[[Noch, ADV], ['ne, ART], [Runde, NN], [!, $.]...</td>\n",
       "      <td>[[Noch, ADV], [Runde, NOUN], [tatsächlich, ADJ...</td>\n",
       "    </tr>\n",
       "  </tbody>\n",
       "</table>\n",
       "<p>37818 rows × 9 columns</p>\n",
       "</div>"
      ],
      "text/plain": [
       "                                                     url  \\\n",
       "0      http://www.zeit.de/kultur/2020-03/gesellschaft...   \n",
       "1      http://www.zeit.de/kultur/2020-03/corona-quara...   \n",
       "2      http://www.zeit.de/kultur/2020-03/staat-ausnah...   \n",
       "3      http://www.zeit.de/gesellschaft/zeitgeschehen/...   \n",
       "4      http://www.zeit.de/campus/2020-03/auslandsseme...   \n",
       "...                                                  ...   \n",
       "37827  https://www.faz.net/suche/streit-zwischen-astr...   \n",
       "37828  https://www.faz.net/premiumContent?contentId=1...   \n",
       "37829  https://www.faz.net/premiumContent?contentId=1...   \n",
       "37830  https://www.faz.net/suche/impfstoff-von-astraz...   \n",
       "37831  https://www.faz.net/premiumContent?contentId=1...   \n",
       "\n",
       "                                       original_headline  \\\n",
       "0      Noch 'ne Runde! tatsächlich auch für Erwachsen...   \n",
       "1      Gewinnen ist was für Verlierer? mir schweigend...   \n",
       "2      Corona und der Staat dennoch nicht allzu vorsi...   \n",
       "3      \"Kleine Änderungen im Alltag können viel bewir...   \n",
       "4      \"Eigentlich wäre ich jetzt gerne bei meiner Fa...   \n",
       "...                                                  ...   \n",
       "37827  Es knistert zwischen Astra-Zeneca und der EU  ...   \n",
       "37828  Chef von Astra-Zeneca weist Vorwürfe der EU zu...   \n",
       "37829  Macron warnt vor Artensterben        Auf dem K...   \n",
       "37830  Kritik am Impfstoff von AstraZeneca        Es ...   \n",
       "37831  Amerika beflügelt die Impfstoff-Suche        D...   \n",
       "\n",
       "                                                headline date_published  \\\n",
       "0      ne rundentatsächlich erwachsen langweilig 2 7 ...     2020-03-21   \n",
       "1      gewinnen verliererschweigen möglichkeiten gut ...     2020-03-21   \n",
       "2      corona staatdennoch allzu vorsichtig wer recht...     2020-03-21   \n",
       "3      kleine änderungen alltag bewirkenprovisorisch ...     2020-03-21   \n",
       "4      eigentlich sein gerne familieeigentlich wollen...     2020-03-21   \n",
       "...                                                  ...            ...   \n",
       "37827  knistern astra-zeneca eu schwedisch-britische ...     2021-01-27   \n",
       "37828  chef astra-zeneca weisen vorwürfe eu zurück eu...     2021-01-27   \n",
       "37829  macron warnen artensterben klimagipfel paris g...     2021-01-11   \n",
       "37830  kritik impfstoff astrazeneca sein basis völlig...     2020-11-27   \n",
       "37831  amerika beflügeln impfstoff-suche amerikanisch...     2020-05-15   \n",
       "\n",
       "            channel               newspaper vaccine  \\\n",
       "0            kultur                Die Zeit     NaN   \n",
       "1            kultur                Die Zeit     NaN   \n",
       "2            kultur                Die Zeit     NaN   \n",
       "3      gesellschaft                Die Zeit     NaN   \n",
       "4            campus                Die Zeit     NaN   \n",
       "...             ...                     ...     ...   \n",
       "37827           NaN  Frankfurter Allgemeine     NaN   \n",
       "37828           NaN  Frankfurter Allgemeine     NaN   \n",
       "37829           NaN  Frankfurter Allgemeine     NaN   \n",
       "37830           NaN  Frankfurter Allgemeine     NaN   \n",
       "37831           NaN  Frankfurter Allgemeine     NaN   \n",
       "\n",
       "                                                   pos_1  \\\n",
       "0      [[Noch, ADV], ['ne, ART], [Runde, NN], [!, $.]...   \n",
       "1      [[Noch, ADV], ['ne, ART], [Runde, NN], [!, $.]...   \n",
       "2      [[Noch, ADV], ['ne, ART], [Runde, NN], [!, $.]...   \n",
       "3      [[Noch, ADV], ['ne, ART], [Runde, NN], [!, $.]...   \n",
       "4      [[Noch, ADV], ['ne, ART], [Runde, NN], [!, $.]...   \n",
       "...                                                  ...   \n",
       "37827  [[Noch, ADV], ['ne, ART], [Runde, NN], [!, $.]...   \n",
       "37828  [[Noch, ADV], ['ne, ART], [Runde, NN], [!, $.]...   \n",
       "37829  [[Noch, ADV], ['ne, ART], [Runde, NN], [!, $.]...   \n",
       "37830  [[Noch, ADV], ['ne, ART], [Runde, NN], [!, $.]...   \n",
       "37831  [[Noch, ADV], ['ne, ART], [Runde, NN], [!, $.]...   \n",
       "\n",
       "                                                   pos_2  \n",
       "0      [[Noch, ADV], [Runde, NOUN], [tatsächlich, ADJ...  \n",
       "1      [[Noch, ADV], [Runde, NOUN], [tatsächlich, ADJ...  \n",
       "2      [[Noch, ADV], [Runde, NOUN], [tatsächlich, ADJ...  \n",
       "3      [[Noch, ADV], [Runde, NOUN], [tatsächlich, ADJ...  \n",
       "4      [[Noch, ADV], [Runde, NOUN], [tatsächlich, ADJ...  \n",
       "...                                                  ...  \n",
       "37827  [[Noch, ADV], [Runde, NOUN], [tatsächlich, ADJ...  \n",
       "37828  [[Noch, ADV], [Runde, NOUN], [tatsächlich, ADJ...  \n",
       "37829  [[Noch, ADV], [Runde, NOUN], [tatsächlich, ADJ...  \n",
       "37830  [[Noch, ADV], [Runde, NOUN], [tatsächlich, ADJ...  \n",
       "37831  [[Noch, ADV], [Runde, NOUN], [tatsächlich, ADJ...  \n",
       "\n",
       "[37818 rows x 9 columns]"
      ]
     },
     "execution_count": 194,
     "metadata": {},
     "output_type": "execute_result"
    }
   ],
   "source": [
    "df_model"
   ]
  },
  {
   "cell_type": "code",
   "execution_count": 243,
   "metadata": {},
   "outputs": [
    {
     "name": "stdout",
     "output_type": "stream",
     "text": [
      "Sucessfully saved\n"
     ]
    }
   ],
   "source": [
<<<<<<< HEAD
    "df_model.to_csv(\"/Users/carolinvogt/Becoming_Data_Analyst/vaccine_confidence/df_model_2.csv\")\n",
=======
    "#df_model.to_csv(\"/Users/carolinvogt/Becoming_Data_Analyst/vaccine_sentiment/german/df_model_2.csv\")\n",
>>>>>>> 5a4dde63fa0f15a6ebb9d8471b3dd3795a9131dc
    "\n",
    "print(\"Sucessfully saved\")"
   ]
  },
  {
   "cell_type": "code",
<<<<<<< HEAD
   "execution_count": 41,
   "metadata": {},
   "outputs": [],
   "source": [
    "df_model=pd.read_csv(\"/Users/carolinvogt/Becoming_Data_Analyst/vaccine_confidence/df_model_2.csv\",index_col=0,lineterminator='\\n')\n",
=======
   "execution_count": 4,
   "metadata": {},
   "outputs": [],
   "source": [
    "df_model=pd.read_csv(\"/Users/carolinvogt/Becoming_Data_Analyst/vaccine_sentiment/german/df_model_2.csv\",index_col=0,lineterminator='\\n')\n",
>>>>>>> 5a4dde63fa0f15a6ebb9d8471b3dd3795a9131dc
    "#df_model"
   ]
  },
  {
   "cell_type": "markdown",
   "metadata": {},
   "source": [
    "## Translation"
   ]
  },
  {
   "cell_type": "code",
<<<<<<< HEAD
=======
   "execution_count": 36,
   "metadata": {},
   "outputs": [],
   "source": [
    "#pip install pydeepl"
   ]
  },
  {
   "cell_type": "code",
   "execution_count": 37,
   "metadata": {},
   "outputs": [],
   "source": [
    "import pydeepl"
   ]
  },
  {
   "cell_type": "code",
>>>>>>> 5a4dde63fa0f15a6ebb9d8471b3dd3795a9131dc
   "execution_count": 46,
   "metadata": {},
   "outputs": [
    {
     "data": {
      "text/plain": [
       "'Die letzte Fahrt. Er macht die Langstrecke, 500 bis 600 Kilometer pro Woche seien da nicht ungewöhnlich. \"Ich fahre gern!\", sagt er. Dennoch soll Streeck bald aufhören. Er ist 72 Jahre alt, Corona-Risikogruppe, deshalb Der Hamburger Tafel macht Corona große Probleme: Viele Ehrenamtliche bleiben weg, Ausgabestellen machen zu. Unterwegs mit denen, die den Laden noch am Laufen halten'"
      ]
     },
     "execution_count": 46,
     "metadata": {},
     "output_type": "execute_result"
    }
   ],
   "source": [
    "df_model[\"original_headline\"][10]"
   ]
  },
  {
   "cell_type": "code",
   "execution_count": 49,
   "metadata": {},
   "outputs": [
    {
     "data": {
      "text/plain": [
       "['\"Ein',\n",
       " 'Großteil',\n",
       " 'unserer',\n",
       " 'Ehrenamtlichen',\n",
       " 'gehört',\n",
       " 'zur',\n",
       " 'Risikogruppe\"',\n",
       " 'Alltag',\n",
       " 'eine',\n",
       " 'Herausforderung,',\n",
       " 'Corona',\n",
       " 'ist',\n",
       " 'für',\n",
       " 'diese',\n",
       " 'Leute',\n",
       " 'eine',\n",
       " 'Katastrophe.',\n",
       " '\\xa0',\n",
       " 'ZEIT',\n",
       " 'ONLINE:',\n",
       " 'Wird',\n",
       " 'jetzt',\n",
       " 'die',\n",
       " 'Spaltung',\n",
       " 'der',\n",
       " 'Gesellschaft',\n",
       " 'durch',\n",
       " 'diese',\n",
       " 'Krise',\n",
       " 'noch',\n",
       " 'deutlicher?',\n",
       " 'Brühl:',\n",
       " 'Das',\n",
       " 'lässt',\n",
       " 'sich',\n",
       " 'noch',\n",
       " 'nicht',\n",
       " 'Bereits',\n",
       " '300',\n",
       " 'Tafeln',\n",
       " 'wurden',\n",
       " 'vorübergehend',\n",
       " 'geschlossen.',\n",
       " 'Studierende',\n",
       " 'bringen',\n",
       " 'Tüten',\n",
       " 'mit',\n",
       " 'Essen',\n",
       " 'vorbei.',\n",
       " 'Aber',\n",
       " 'das',\n",
       " 'reicht',\n",
       " 'nicht,',\n",
       " 'sagt',\n",
       " 'Jochen',\n",
       " 'Brühl,',\n",
       " 'Vorstand',\n",
       " 'der',\n",
       " 'Tafel',\n",
       " 'Deutschland.']"
      ]
     },
     "execution_count": 49,
     "metadata": {},
     "output_type": "execute_result"
    }
   ],
   "source": [
    "sentence=[]\n",
    "sentence += df_model[\"original_headline\"][100].split(' ')\n",
    "\n",
    "sentence"
   ]
  },
  {
   "cell_type": "code",
   "execution_count": 52,
   "metadata": {},
   "outputs": [
    {
     "name": "stdout",
     "output_type": "stream",
     "text": [
      "['n/a', 'n/a', 'n/a', 'n/a', 'n/a', 'n/a', 'n/a', 'n/a', 'n/a', 'n/a', 'n/a', 'n/a', 'n/a', 'n/a', 'n/a', 'n/a', 'n/a', 'n/a', 'n/a', 'n/a', 'n/a', 'n/a', 'n/a', 'n/a', 'n/a', 'n/a', 'n/a', 'n/a', 'n/a', 'n/a', 'n/a', 'n/a', 'n/a', 'n/a', 'n/a', 'n/a', 'n/a', 'n/a', 'n/a', 'n/a', 'n/a', 'n/a', 'n/a', 'n/a', 'n/a', 'n/a', 'n/a', 'n/a', 'n/a', 'n/a', 'n/a', 'n/a', 'n/a', 'n/a', 'n/a', 'n/a', 'n/a', 'n/a', 'n/a', 'n/a']\n"
     ]
    }
   ],
   "source": [
    "from_language = 'DE'\n",
    "to_language = 'EN'\n",
    "\n",
    "translation=[]\n",
    "for i in range(len(sentence)):\n",
    "    try:\n",
    "        translation.append(pydeepl.translate(sentence[i], to_language, from_lang=from_language))\n",
    "    except:\n",
    "        translation.append(\"n/a\")\n",
    "print(translation)"
   ]
  },
  {
   "cell_type": "code",
   "execution_count": 53,
   "metadata": {},
   "outputs": [],
   "source": [
    "sentence=\"Die letzte Fahrt\""
   ]
  },
  {
   "cell_type": "code",
   "execution_count": 55,
   "metadata": {},
   "outputs": [
    {
     "ename": "TranslationError",
     "evalue": "DeepL call resulted in a unknown result.",
     "output_type": "error",
     "traceback": [
      "\u001b[0;31m---------------------------------------------------------------------------\u001b[0m",
      "\u001b[0;31mTranslationError\u001b[0m                          Traceback (most recent call last)",
      "\u001b[0;32m<ipython-input-55-49a0088228ba>\u001b[0m in \u001b[0;36m<module>\u001b[0;34m\u001b[0m\n\u001b[0;32m----> 1\u001b[0;31m \u001b[0mtranslation\u001b[0m\u001b[0;34m=\u001b[0m\u001b[0mpydeepl\u001b[0m\u001b[0;34m.\u001b[0m\u001b[0mtranslate\u001b[0m\u001b[0;34m(\u001b[0m\u001b[0msentence\u001b[0m\u001b[0;34m,\u001b[0m \u001b[0mto_language\u001b[0m\u001b[0;34m,\u001b[0m \u001b[0mfrom_lang\u001b[0m\u001b[0;34m=\u001b[0m\u001b[0mfrom_language\u001b[0m\u001b[0;34m)\u001b[0m\u001b[0;34m\u001b[0m\u001b[0;34m\u001b[0m\u001b[0m\n\u001b[0m",
      "\u001b[0;32m~/opt/anaconda3/lib/python3.8/site-packages/pydeepl/pydeepl.py\u001b[0m in \u001b[0;36mtranslate\u001b[0;34m(text, to_lang, from_lang, json)\u001b[0m\n\u001b[1;32m     95\u001b[0m \u001b[0;34m\u001b[0m\u001b[0m\n\u001b[1;32m     96\u001b[0m     \u001b[0;32mif\u001b[0m \u001b[0;34m'result'\u001b[0m \u001b[0;32mnot\u001b[0m \u001b[0;32min\u001b[0m \u001b[0mresponse\u001b[0m\u001b[0;34m:\u001b[0m\u001b[0;34m\u001b[0m\u001b[0;34m\u001b[0m\u001b[0m\n\u001b[0;32m---> 97\u001b[0;31m         \u001b[0;32mraise\u001b[0m \u001b[0mTranslationError\u001b[0m\u001b[0;34m(\u001b[0m\u001b[0;34m'DeepL call resulted in a unknown result.'\u001b[0m\u001b[0;34m)\u001b[0m\u001b[0;34m\u001b[0m\u001b[0;34m\u001b[0m\u001b[0m\n\u001b[0m\u001b[1;32m     98\u001b[0m \u001b[0;34m\u001b[0m\u001b[0m\n\u001b[1;32m     99\u001b[0m     \u001b[0mtranslations\u001b[0m \u001b[0;34m=\u001b[0m \u001b[0mresponse\u001b[0m\u001b[0;34m[\u001b[0m\u001b[0;34m'result'\u001b[0m\u001b[0;34m]\u001b[0m\u001b[0;34m[\u001b[0m\u001b[0;34m'translations'\u001b[0m\u001b[0;34m]\u001b[0m\u001b[0;34m\u001b[0m\u001b[0;34m\u001b[0m\u001b[0m\n",
      "\u001b[0;31mTranslationError\u001b[0m: DeepL call resulted in a unknown result."
     ]
    }
   ],
   "source": [
    "translation=pydeepl.translate(sentence, to_language, from_lang=from_language)"
   ]
  },
  {
   "cell_type": "markdown",
   "metadata": {},
   "source": [
    "https://github.com/hdaSprachtechnologie/odenet"
   ]
  },
  {
   "cell_type": "code",
   "execution_count": 202,
   "metadata": {},
   "outputs": [
    {
     "name": "stdout",
     "output_type": "stream",
     "text": [
      "Collecting odenet\n",
      "  Downloading ODENet-0.0.5-py3-none-any.whl (6.4 kB)\n",
      "Installing collected packages: odenet\n",
      "Successfully installed odenet-0.0.5\n"
     ]
    }
   ],
   "source": [
    "#!pip install odenet"
   ]
  },
  {
   "cell_type": "code",
   "execution_count": 1,
   "metadata": {},
   "outputs": [],
   "source": [
    "from odenet import *"
   ]
  },
  {
   "cell_type": "code",
   "execution_count": 5,
   "metadata": {},
   "outputs": [],
   "source": [
    "from odenet import OdeNetReadOnly"
   ]
  },
  {
   "cell_type": "code",
   "execution_count": 6,
   "metadata": {},
   "outputs": [],
   "source": [
    "myodenet = OdeNetReadOnly()"
   ]
  },
  {
   "cell_type": "code",
   "execution_count": 7,
   "metadata": {},
   "outputs": [
    {
     "data": {
      "text/plain": [
       "[('id', 'odenet'),\n",
       " ('label', 'Offenes Deutsches WordNet'),\n",
       " ('language', 'de'),\n",
       " ('email', 'melanie.siegel@h-da.de'),\n",
       " ('license', 'https://creativecommons.org/licenses/by-sa/4.0/'),\n",
       " ('version', '1.3'),\n",
       " ('citation',\n",
       "  'Melanie Siegel and Francis Bond (2021), OdeNet: Compiling a     German Wordnet from other Resources, *11th International Global Wordnet Conference (GWC2021)*'),\n",
       " ('url',\n",
       "  'https://ikum.mediencampus.h-da.de/projekt/open-de-wordnet-initiative/'),\n",
       " ('{http://purl.org/dc/elements/1.1/}publisher', 'Melanie Siegel'),\n",
       " ('{http://purl.org/dc/elements/1.1/}format', 'OMW-LMF'),\n",
       " ('{http://purl.org/dc/elements/1.1/}description',\n",
       "  'Odenet is an open wordnet for the German language. It is based on openThesaurus, a crowd-developed thesaurus of German, and automatically linked to the Princeton WordNet with some hand checking. It was started in May 2017.'),\n",
       " ('confidenceScore', '0.6')]"
      ]
     },
     "execution_count": 7,
     "metadata": {},
     "output_type": "execute_result"
    }
   ],
   "source": [
    "myodenet.lexicon.items()"
   ]
  },
  {
   "cell_type": "code",
   "execution_count": null,
   "metadata": {},
   "outputs": [],
   "source": []
  },
  {
   "cell_type": "code",
   "execution_count": 2,
   "metadata": {},
   "outputs": [],
   "source": [
    "format_odenet_oneline()"
   ]
  },
  {
   "cell_type": "code",
   "execution_count": 22,
   "metadata": {},
   "outputs": [
    {
     "name": "stdout",
     "output_type": "stream",
     "text": [
      "Krankenhaus n \n",
      "------------------------\n",
      "SENSE: odenet-1840-n\n",
      "ILI: i54936\n",
      "DEFINITION: a health facility where patients receive treatment\n",
      "DE_DEFINITION: []\n",
      "WORDS: ['Klinikum', 'Hospital', 'Spital', 'Siechenhaus', 'Krankenanstalt', 'Klinik', 'Krankenhaus', 'Charité']\n",
      "RELATIONS: \n",
      "('hyponym', 'odenet-8926-n'): ['Nervenheilanstalt', 'Tollhaus', 'Irrenanstalt', 'Irrenhaus', 'Klapse', 'Klapsmühle', 'Psychiatrie', 'psychiatrische Anstalt', 'psychiatrische Klinik', 'Narrenhaus', 'Nervenklinik']\n",
      "('hypernym', 'odenet-11171-n'): ['Organisation', 'Einrichtung', 'Laden', 'feste Einrichtung', 'Institution', 'Institut', 'Anstalt']\n",
      "('mero_part', 'odenet-4561-n'): ['Station', 'Krankenstation']\n",
      "('hyponym', 'odenet-10929-n'): ['Lazarett', 'Militärhospital', 'Militärkrankenhaus', 'Soldatenkrankenanstalt']\n",
      "('hyponym', 'odenet-19054-n'): ['Kaiser-Jubiläums-Spital', 'Krankenhaus Hietzing', 'Krankenhaus Lainz']\n",
      "('hyponym', 'odenet-20618-n'): ['Gefängniskrankenhaus', 'Inquisitenspital']\n",
      "('hyponym', 'odenet-20912-n'): ['Poliklinik', 'Ambulatorium', 'Kreiskrankenhaus', 'Stadtkrankenhaus']\n",
      "('hyponym', 'odenet-22175-n'): ['Uniklinik', 'Universitätskrankenhaus', 'Universitätsklinikum']\n",
      "('hyponym', 'odenet-28667-n'): ['Landeskrankenhaus', 'Landesklinikum']\n",
      "------------------------\n",
      "LEMMA: Krankenhaus\n",
      "POS: n\n",
      "SENSE ID: w8921_1840-n\n"
     ]
    }
   ],
   "source": [
    "OdeNet.word_info(\"Krankenhaus\")\n"
   ]
  },
  {
   "cell_type": "code",
   "execution_count": 24,
   "metadata": {},
   "outputs": [
    {
     "ename": "NameError",
     "evalue": "name 'Krankenhaus' is not defined",
     "output_type": "error",
     "traceback": [
      "\u001b[0;31m---------------------------------------------------------------------------\u001b[0m",
      "\u001b[0;31mNameError\u001b[0m                                 Traceback (most recent call last)",
      "\u001b[0;32m<ipython-input-24-c28247a0c7a1>\u001b[0m in \u001b[0;36m<module>\u001b[0;34m\u001b[0m\n\u001b[0;32m----> 1\u001b[0;31m \u001b[0mword_id\u001b[0m\u001b[0;34m(\u001b[0m\u001b[0mKrankenhaus\u001b[0m\u001b[0;34m)\u001b[0m\u001b[0;34m\u001b[0m\u001b[0;34m\u001b[0m\u001b[0m\n\u001b[0m",
      "\u001b[0;31mNameError\u001b[0m: name 'Krankenhaus' is not defined"
     ]
    }
   ],
   "source": [
    "word_id(Krankenhaus)"
   ]
  },
  {
   "cell_type": "code",
   "execution_count": 9,
   "metadata": {},
   "outputs": [],
   "source": [
    "import wn\n",
    "#wn.download('odenet:1.3') "
   ]
  },
  {
   "cell_type": "markdown",
   "metadata": {},
   "source": [
    "PosixPath('/Users/carolinvogt/.wn_data/downloads/5ea523117df5b7db53b62a0ba3d26864dba8fdce')"
   ]
  },
  {
   "cell_type": "code",
   "execution_count": 34,
   "metadata": {},
   "outputs": [
    {
     "name": "stdout",
     "output_type": "stream",
     "text": [
      "Synset('odenet-664-n')\n",
      "None\n",
      "Synset('odenet-5267-n')\n",
      "das Angebot eines Zehntels eines Teils des persönlichen Einkommens.\n",
      "Synset('odenet-10289-n')\n",
      "None\n",
      "Synset('odenet-24723-n')\n",
      "None\n"
     ]
    }
   ],
   "source": [
    "s_list=wn.synsets('Steuer', lang=\"de\")\n",
    "for l in s_list:\n",
    "    print(l)\n",
    "    print(l.definition())"
   ]
  },
  {
   "cell_type": "code",
   "execution_count": 29,
   "metadata": {},
   "outputs": [],
   "source": [
    "OdeNet.word_info(\"odenet-11214-n\")"
   ]
  },
  {
   "cell_type": "code",
   "execution_count": 14,
   "metadata": {},
   "outputs": [],
   "source": [
    "word_id='odenet-14307-n'"
   ]
  },
  {
   "cell_type": "code",
   "execution_count": 17,
   "metadata": {},
   "outputs": [],
   "source": [
    "test=check_word_id(word_id)\n",
    "test"
   ]
  },
  {
   "cell_type": "code",
   "execution_count": 30,
   "metadata": {},
   "outputs": [
    {
     "name": "stdout",
     "output_type": "stream",
     "text": [
      "Steuer n \n",
      "------------------------\n",
      "SENSE: odenet-664-n\n",
      "ILI: i59545\n",
      "DEFINITION: []\n",
      "DE_DEFINITION: Ein Rad, das zum Steuern eines Autos verwendet wird.\n",
      "WORDS: ['Steuerrad', 'Lenker', 'Volant', 'Steuer', 'Lenkrad']\n",
      "RELATIONS: \n",
      "('hypernym', 'odenet-4311-n'): ['Steuerung', 'Angleichung', 'Aussteuerung']\n",
      "------------------------\n",
      "SENSE: odenet-5267-n\n",
      "ILI: i106395\n",
      "DEFINITION: []\n",
      "DE_DEFINITION: das Angebot eines Zehntels eines Teils des persönlichen Einkommens.\n",
      "WORDS: ['Steuer', 'Zehnt', 'Abgabe', 'Zehnter', 'Zent', 'Zehnte', 'Zehent']\n",
      "RELATIONS: \n",
      "('hyponym', 'odenet-28712-n'): ['Nebenwohnsitzsteuer', 'Zweitwohnungsabgabe', 'Zweitwohnungsteuer', 'Zweitwohnsitzsteuer', 'Nebenwohnungsteuer', 'Zweitwohnungssteuer']\n",
      "('hypernym', 'odenet-9595-n'): ['Preis', 'Gebühr', 'Abgabe', 'Taxe']\n",
      "------------------------\n",
      "SENSE: odenet-10289-n\n",
      "ILI: i58332\n",
      "DEFINITION: []\n",
      "DE_DEFINITION: Ein Gerät, das zum Steuern eines Schiffes oder Flugzeugs verwendet wird.\n",
      "WORDS: ['Steuer', 'Ruder', 'Steuerruder']\n",
      "RELATIONS: \n",
      "('hypernym', 'odenet-4311-n'): ['Steuerung', 'Angleichung', 'Aussteuerung']\n",
      "------------------------\n",
      "SENSE: odenet-24723-n\n",
      "ILI: i106626\n",
      "DEFINITION: []\n",
      "DE_DEFINITION: Gebühr für eine Person, eine Wohnung oder Eigentum zugunsten des Staates\n",
      "WORDS: ['Steuer', 'Tribut', 'Zwangsabgabe', 'Zwangsbeitrag']\n",
      "RELATIONS: \n",
      "('hypernym', 'odenet-9595-n'): ['Preis', 'Gebühr', 'Abgabe', 'Taxe']\n",
      "('hyponym', 'odenet-28712-n'): ['Nebenwohnsitzsteuer', 'Zweitwohnungsabgabe', 'Zweitwohnungsteuer', 'Zweitwohnsitzsteuer', 'Nebenwohnungsteuer', 'Zweitwohnungssteuer']\n",
      "------------------------\n",
      "LEMMA: Steuer\n",
      "POS: n\n",
      "SENSE ID: w3305_24723-n\n"
     ]
    }
   ],
   "source": [
    "OdeNet.word_info(\"Steuer\")"
   ]
  },
  {
   "cell_type": "code",
   "execution_count": 239,
   "metadata": {},
   "outputs": [],
   "source": [
    "from py_openthesaurus import OpenThesaurusDb"
   ]
  },
  {
   "cell_type": "code",
   "execution_count": null,
   "metadata": {},
   "outputs": [],
   "source": []
  }
 ],
 "metadata": {
  "kernelspec": {
   "display_name": "Python 3",
   "language": "python",
   "name": "python3"
  },
  "language_info": {
   "codemirror_mode": {
    "name": "ipython",
    "version": 3
   },
   "file_extension": ".py",
   "mimetype": "text/x-python",
   "name": "python",
   "nbconvert_exporter": "python",
   "pygments_lexer": "ipython3",
   "version": "3.8.3"
  }
 },
 "nbformat": 4,
 "nbformat_minor": 4
}
