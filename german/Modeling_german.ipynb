{
 "cells": [
  {
   "cell_type": "code",
   "execution_count": 5,
   "metadata": {},
   "outputs": [],
   "source": [
    "import pandas as pd\n",
    "from datetime import datetime\n",
    "import re"
   ]
  },
  {
   "cell_type": "code",
   "execution_count": 3,
   "metadata": {},
   "outputs": [],
   "source": [
    "df_model=pd.read_csv(\"/Users/carolinvogt/Becoming_Data_Analyst/vaccine_sentiment/german/df_model.csv\",index_col=0,lineterminator='\\n')\n",
    "#df_model"
   ]
  },
  {
   "cell_type": "code",
   "execution_count": 142,
   "metadata": {},
   "outputs": [],
   "source": [
    "df_model.drop_duplicates(inplace=True)"
   ]
  },
  {
   "cell_type": "code",
   "execution_count": 143,
   "metadata": {},
   "outputs": [
    {
     "data": {
      "text/html": [
       "<div>\n",
       "<style scoped>\n",
       "    .dataframe tbody tr th:only-of-type {\n",
       "        vertical-align: middle;\n",
       "    }\n",
       "\n",
       "    .dataframe tbody tr th {\n",
       "        vertical-align: top;\n",
       "    }\n",
       "\n",
       "    .dataframe thead th {\n",
       "        text-align: right;\n",
       "    }\n",
       "</style>\n",
       "<table border=\"1\" class=\"dataframe\">\n",
       "  <thead>\n",
       "    <tr style=\"text-align: right;\">\n",
       "      <th></th>\n",
       "      <th>url</th>\n",
       "      <th>original_headline</th>\n",
       "      <th>headline</th>\n",
       "      <th>date_published</th>\n",
       "      <th>channel</th>\n",
       "      <th>newspaper</th>\n",
       "      <th>vaccine</th>\n",
       "    </tr>\n",
       "  </thead>\n",
       "  <tbody>\n",
       "    <tr>\n",
       "      <th>0</th>\n",
       "      <td>http://www.zeit.de/kultur/2020-03/gesellschaft...</td>\n",
       "      <td>Noch 'ne Runde! tatsächlich auch für Erwachsen...</td>\n",
       "      <td>ne rundentatsächlich erwachsen langweilig 2 7 ...</td>\n",
       "      <td>2020-03-21</td>\n",
       "      <td>kultur</td>\n",
       "      <td>Die Zeit</td>\n",
       "      <td>NaN</td>\n",
       "    </tr>\n",
       "    <tr>\n",
       "      <th>1</th>\n",
       "      <td>http://www.zeit.de/kultur/2020-03/corona-quara...</td>\n",
       "      <td>Gewinnen ist was für Verlierer? mir schweigend...</td>\n",
       "      <td>gewinnen verliererschweigen möglichkeiten gut ...</td>\n",
       "      <td>2020-03-21</td>\n",
       "      <td>kultur</td>\n",
       "      <td>Die Zeit</td>\n",
       "      <td>NaN</td>\n",
       "    </tr>\n",
       "    <tr>\n",
       "      <th>2</th>\n",
       "      <td>http://www.zeit.de/kultur/2020-03/staat-ausnah...</td>\n",
       "      <td>Corona und der Staat dennoch nicht allzu vorsi...</td>\n",
       "      <td>corona staatdennoch allzu vorsichtig wer recht...</td>\n",
       "      <td>2020-03-21</td>\n",
       "      <td>kultur</td>\n",
       "      <td>Die Zeit</td>\n",
       "      <td>NaN</td>\n",
       "    </tr>\n",
       "    <tr>\n",
       "      <th>3</th>\n",
       "      <td>http://www.zeit.de/gesellschaft/zeitgeschehen/...</td>\n",
       "      <td>\"Kleine Änderungen im Alltag können viel bewir...</td>\n",
       "      <td>kleine änderungen alltag bewirkenprovisorisch ...</td>\n",
       "      <td>2020-03-21</td>\n",
       "      <td>gesellschaft</td>\n",
       "      <td>Die Zeit</td>\n",
       "      <td>NaN</td>\n",
       "    </tr>\n",
       "    <tr>\n",
       "      <th>4</th>\n",
       "      <td>http://www.zeit.de/campus/2020-03/auslandsseme...</td>\n",
       "      <td>\"Eigentlich wäre ich jetzt gerne bei meiner Fa...</td>\n",
       "      <td>eigentlich sein gerne familieeigentlich wollen...</td>\n",
       "      <td>2020-03-21</td>\n",
       "      <td>campus</td>\n",
       "      <td>Die Zeit</td>\n",
       "      <td>NaN</td>\n",
       "    </tr>\n",
       "    <tr>\n",
       "      <th>...</th>\n",
       "      <td>...</td>\n",
       "      <td>...</td>\n",
       "      <td>...</td>\n",
       "      <td>...</td>\n",
       "      <td>...</td>\n",
       "      <td>...</td>\n",
       "      <td>...</td>\n",
       "    </tr>\n",
       "    <tr>\n",
       "      <th>37827</th>\n",
       "      <td>https://www.faz.net/suche/streit-zwischen-astr...</td>\n",
       "      <td>Es knistert zwischen Astra-Zeneca und der EU  ...</td>\n",
       "      <td>knistern astra-zeneca eu schwedisch-britische ...</td>\n",
       "      <td>2021-01-27</td>\n",
       "      <td>NaN</td>\n",
       "      <td>Frankfurter Allgemeine</td>\n",
       "      <td>NaN</td>\n",
       "    </tr>\n",
       "    <tr>\n",
       "      <th>37828</th>\n",
       "      <td>https://www.faz.net/premiumContent?contentId=1...</td>\n",
       "      <td>Chef von Astra-Zeneca weist Vorwürfe der EU zu...</td>\n",
       "      <td>chef astra-zeneca weisen vorwürfe eu zurück eu...</td>\n",
       "      <td>2021-01-27</td>\n",
       "      <td>NaN</td>\n",
       "      <td>Frankfurter Allgemeine</td>\n",
       "      <td>NaN</td>\n",
       "    </tr>\n",
       "    <tr>\n",
       "      <th>37829</th>\n",
       "      <td>https://www.faz.net/premiumContent?contentId=1...</td>\n",
       "      <td>Macron warnt vor Artensterben        Auf dem K...</td>\n",
       "      <td>macron warnen artensterben klimagipfel paris g...</td>\n",
       "      <td>2021-01-11</td>\n",
       "      <td>NaN</td>\n",
       "      <td>Frankfurter Allgemeine</td>\n",
       "      <td>NaN</td>\n",
       "    </tr>\n",
       "    <tr>\n",
       "      <th>37830</th>\n",
       "      <td>https://www.faz.net/suche/impfstoff-von-astraz...</td>\n",
       "      <td>Kritik am Impfstoff von AstraZeneca        Es ...</td>\n",
       "      <td>kritik impfstoff astrazeneca sein basis völlig...</td>\n",
       "      <td>2020-11-27</td>\n",
       "      <td>NaN</td>\n",
       "      <td>Frankfurter Allgemeine</td>\n",
       "      <td>NaN</td>\n",
       "    </tr>\n",
       "    <tr>\n",
       "      <th>37831</th>\n",
       "      <td>https://www.faz.net/premiumContent?contentId=1...</td>\n",
       "      <td>Amerika beflügelt die Impfstoff-Suche        D...</td>\n",
       "      <td>amerika beflügeln impfstoff-suche amerikanisch...</td>\n",
       "      <td>2020-05-15</td>\n",
       "      <td>NaN</td>\n",
       "      <td>Frankfurter Allgemeine</td>\n",
       "      <td>NaN</td>\n",
       "    </tr>\n",
       "  </tbody>\n",
       "</table>\n",
       "<p>37830 rows × 7 columns</p>\n",
       "</div>"
      ],
      "text/plain": [
       "                                                     url  \\\n",
       "0      http://www.zeit.de/kultur/2020-03/gesellschaft...   \n",
       "1      http://www.zeit.de/kultur/2020-03/corona-quara...   \n",
       "2      http://www.zeit.de/kultur/2020-03/staat-ausnah...   \n",
       "3      http://www.zeit.de/gesellschaft/zeitgeschehen/...   \n",
       "4      http://www.zeit.de/campus/2020-03/auslandsseme...   \n",
       "...                                                  ...   \n",
       "37827  https://www.faz.net/suche/streit-zwischen-astr...   \n",
       "37828  https://www.faz.net/premiumContent?contentId=1...   \n",
       "37829  https://www.faz.net/premiumContent?contentId=1...   \n",
       "37830  https://www.faz.net/suche/impfstoff-von-astraz...   \n",
       "37831  https://www.faz.net/premiumContent?contentId=1...   \n",
       "\n",
       "                                       original_headline  \\\n",
       "0      Noch 'ne Runde! tatsächlich auch für Erwachsen...   \n",
       "1      Gewinnen ist was für Verlierer? mir schweigend...   \n",
       "2      Corona und der Staat dennoch nicht allzu vorsi...   \n",
       "3      \"Kleine Änderungen im Alltag können viel bewir...   \n",
       "4      \"Eigentlich wäre ich jetzt gerne bei meiner Fa...   \n",
       "...                                                  ...   \n",
       "37827  Es knistert zwischen Astra-Zeneca und der EU  ...   \n",
       "37828  Chef von Astra-Zeneca weist Vorwürfe der EU zu...   \n",
       "37829  Macron warnt vor Artensterben        Auf dem K...   \n",
       "37830  Kritik am Impfstoff von AstraZeneca        Es ...   \n",
       "37831  Amerika beflügelt die Impfstoff-Suche        D...   \n",
       "\n",
       "                                                headline date_published  \\\n",
       "0      ne rundentatsächlich erwachsen langweilig 2 7 ...     2020-03-21   \n",
       "1      gewinnen verliererschweigen möglichkeiten gut ...     2020-03-21   \n",
       "2      corona staatdennoch allzu vorsichtig wer recht...     2020-03-21   \n",
       "3      kleine änderungen alltag bewirkenprovisorisch ...     2020-03-21   \n",
       "4      eigentlich sein gerne familieeigentlich wollen...     2020-03-21   \n",
       "...                                                  ...            ...   \n",
       "37827  knistern astra-zeneca eu schwedisch-britische ...     2021-01-27   \n",
       "37828  chef astra-zeneca weisen vorwürfe eu zurück eu...     2021-01-27   \n",
       "37829  macron warnen artensterben klimagipfel paris g...     2021-01-11   \n",
       "37830  kritik impfstoff astrazeneca sein basis völlig...     2020-11-27   \n",
       "37831  amerika beflügeln impfstoff-suche amerikanisch...     2020-05-15   \n",
       "\n",
       "            channel               newspaper vaccine  \n",
       "0            kultur                Die Zeit     NaN  \n",
       "1            kultur                Die Zeit     NaN  \n",
       "2            kultur                Die Zeit     NaN  \n",
       "3      gesellschaft                Die Zeit     NaN  \n",
       "4            campus                Die Zeit     NaN  \n",
       "...             ...                     ...     ...  \n",
       "37827           NaN  Frankfurter Allgemeine     NaN  \n",
       "37828           NaN  Frankfurter Allgemeine     NaN  \n",
       "37829           NaN  Frankfurter Allgemeine     NaN  \n",
       "37830           NaN  Frankfurter Allgemeine     NaN  \n",
       "37831           NaN  Frankfurter Allgemeine     NaN  \n",
       "\n",
       "[37830 rows x 7 columns]"
      ]
     },
     "execution_count": 143,
     "metadata": {},
     "output_type": "execute_result"
    }
   ],
   "source": [
    "df_model"
   ]
  },
  {
   "cell_type": "code",
   "execution_count": 57,
   "metadata": {},
   "outputs": [
    {
     "data": {
      "text/plain": [
       "372"
      ]
     },
     "execution_count": 57,
     "metadata": {},
     "output_type": "execute_result"
    }
   ],
   "source": [
    "len(df_model[\"original_headline\"][0])"
   ]
  },
  {
   "cell_type": "code",
   "execution_count": 61,
   "metadata": {},
   "outputs": [
    {
     "name": "stdout",
     "output_type": "stream",
     "text": [
      "8722872\n"
     ]
    }
   ],
   "source": [
    "zeichen=0\n",
    "for i in range(len(df_model[\"original_headline\"])):\n",
    "    try:\n",
    "        zeichen=zeichen+len(df_model[\"original_headline\"][i])\n",
    "    except:\n",
    "        zeichen=zeichen\n",
    "print(zeichen)"
   ]
  },
  {
   "cell_type": "code",
   "execution_count": 60,
   "metadata": {},
   "outputs": [
    {
     "name": "stdout",
     "output_type": "stream",
     "text": [
      "<class 'pandas.core.frame.DataFrame'>\n",
      "Int64Index: 37818 entries, 0 to 37831\n",
      "Data columns (total 9 columns):\n",
      " #   Column             Non-Null Count  Dtype \n",
      "---  ------             --------------  ----- \n",
      " 0   url                37818 non-null  object\n",
      " 1   original_headline  37818 non-null  object\n",
      " 2   headline           37818 non-null  object\n",
      " 3   date_published     37818 non-null  object\n",
      " 4   channel            20758 non-null  object\n",
      " 5   newspaper          37818 non-null  object\n",
      " 6   vaccine            141 non-null    object\n",
      " 7   pos_1              37818 non-null  object\n",
      " 8   pos_2              37818 non-null  object\n",
      "dtypes: object(9)\n",
      "memory usage: 3.9+ MB\n"
     ]
    }
   ],
   "source": [
    "df_model.info()"
   ]
  },
  {
   "cell_type": "code",
   "execution_count": 155,
   "metadata": {},
   "outputs": [],
   "source": [
    "df_model.dropna(axis=0,subset=[\"original_headline\"],inplace=True)"
   ]
  },
  {
   "cell_type": "code",
   "execution_count": 156,
   "metadata": {},
   "outputs": [
    {
     "data": {
      "text/plain": [
       "url                      0\n",
       "original_headline        0\n",
       "headline                 0\n",
       "date_published           0\n",
       "channel              17060\n",
       "newspaper                0\n",
       "vaccine              37677\n",
       "dtype: int64"
      ]
     },
     "execution_count": 156,
     "metadata": {},
     "output_type": "execute_result"
    }
   ],
   "source": [
    "df_model.isna().sum()"
   ]
  },
  {
   "cell_type": "code",
   "execution_count": 157,
   "metadata": {},
   "outputs": [
    {
     "data": {
      "text/plain": [
       "biontech        44\n",
       "astrazeneca     35\n",
       "curevac         24\n",
       "astra-zeneca    19\n",
       "pfizer          10\n",
       "moderna          9\n",
       "Name: vaccine, dtype: int64"
      ]
     },
     "execution_count": 157,
     "metadata": {},
     "output_type": "execute_result"
    }
   ],
   "source": [
    "df_model[\"vaccine\"].value_counts()"
   ]
  },
  {
   "cell_type": "code",
   "execution_count": 158,
   "metadata": {},
   "outputs": [],
   "source": [
    "import spacy\n",
    "nlp = spacy.load('de_core_news_sm')"
   ]
  },
  {
   "cell_type": "code",
   "execution_count": 159,
   "metadata": {},
   "outputs": [
    {
     "data": {
      "text/plain": [
       "\"Noch 'ne Runde! tatsächlich auch für Erwachsene nicht langweilig. (Für 2 bis 7 Spieler, ab 4 Jahren)Simone Gaul Eine Krise braucht Bilder, muss begreifbar werden durch Metaphern. Die derzeitige Corona-Krise sickert nur Spätestens nach einem Tag Homeoffice und Homeschooling haben sich alle eine Partie Spaß verdient. Die Gesellschaftsspiele-Tipps der ZEIT ONLINE-Redaktion\""
      ]
     },
     "execution_count": 159,
     "metadata": {},
     "output_type": "execute_result"
    }
   ],
   "source": [
    "df_model[\"original_headline\"][0]"
   ]
  },
  {
   "cell_type": "code",
   "execution_count": 160,
   "metadata": {},
   "outputs": [
    {
     "name": "stdout",
     "output_type": "stream",
     "text": [
      "ADV\n",
      "ART\n",
      "NN\n",
      "$.\n",
      "ADJD\n",
      "ADV\n",
      "APPR\n",
      "NN\n",
      "PTKNEG\n",
      "ADJD\n",
      "$.\n",
      "$(\n",
      "APPR\n",
      "CARD\n",
      "KON\n",
      "CARD\n",
      "NN\n",
      "$,\n",
      "APPR\n",
      "CARD\n",
      "NN\n",
      "$(\n",
      "NN\n",
      "NE\n",
      "ART\n",
      "NN\n",
      "VVFIN\n",
      "NN\n",
      "$,\n",
      "VVFIN\n",
      "ADJD\n",
      "VAINF\n",
      "APPR\n",
      "NN\n",
      "$.\n",
      "ART\n",
      "ADJA\n",
      "NN\n",
      "VVFIN\n",
      "ADV\n",
      "ADV\n",
      "APPR\n",
      "ART\n",
      "NN\n",
      "NE\n",
      "KON\n",
      "NE\n",
      "VAFIN\n",
      "PRF\n",
      "PIS\n",
      "ART\n",
      "NN\n",
      "NN\n",
      "VVFIN\n",
      "$.\n",
      "ART\n",
      "NN\n",
      "ART\n",
      "NN\n",
      "NN\n"
     ]
    }
   ],
   "source": [
    "doc=nlp(df_model[\"original_headline\"][0])\n",
    "for token in doc:\n",
    "    print(token.tag_)"
   ]
  },
  {
   "cell_type": "code",
   "execution_count": 161,
   "metadata": {},
   "outputs": [
    {
     "data": {
      "text/plain": [
       "'foreign language material'"
      ]
     },
     "execution_count": 161,
     "metadata": {},
     "output_type": "execute_result"
    }
   ],
   "source": [
    "spacy.explain(\"FM\")"
   ]
  },
  {
   "cell_type": "markdown",
   "metadata": {},
   "source": [
    "**GLOSSARY** spaCy: https://github.com/explosion/spaCy/blob/master/spacy/glossary.py"
   ]
  },
  {
   "cell_type": "code",
   "execution_count": 162,
   "metadata": {},
   "outputs": [
    {
     "data": {
      "text/plain": [
       "[['Noch', 'ADV'],\n",
       " [\"'ne\", 'ART'],\n",
       " ['Runde', 'NN'],\n",
       " ['!', '$.'],\n",
       " ['tatsächlich', 'ADJD'],\n",
       " ['auch', 'ADV'],\n",
       " ['für', 'APPR'],\n",
       " ['Erwachsene', 'NN'],\n",
       " ['nicht', 'PTKNEG'],\n",
       " ['langweilig', 'ADJD'],\n",
       " ['.', '$.'],\n",
       " ['(', '$('],\n",
       " ['Für', 'APPR'],\n",
       " ['2', 'CARD'],\n",
       " ['bis', 'KON'],\n",
       " ['7', 'CARD'],\n",
       " ['Spieler', 'NN'],\n",
       " [',', '$,'],\n",
       " ['ab', 'APPR'],\n",
       " ['4', 'CARD'],\n",
       " ['Jahren', 'NN'],\n",
       " [')', '$('],\n",
       " ['Simone', 'NN'],\n",
       " ['Gaul', 'NE'],\n",
       " ['Eine', 'ART'],\n",
       " ['Krise', 'NN'],\n",
       " ['braucht', 'VVFIN'],\n",
       " ['Bilder', 'NN'],\n",
       " [',', '$,'],\n",
       " ['muss', 'VVFIN'],\n",
       " ['begreifbar', 'ADJD'],\n",
       " ['werden', 'VAINF'],\n",
       " ['durch', 'APPR'],\n",
       " ['Metaphern', 'NN'],\n",
       " ['.', '$.'],\n",
       " ['Die', 'ART'],\n",
       " ['derzeitige', 'ADJA'],\n",
       " ['Corona-Krise', 'NN'],\n",
       " ['sickert', 'VVFIN'],\n",
       " ['nur', 'ADV'],\n",
       " ['Spätestens', 'ADV'],\n",
       " ['nach', 'APPR'],\n",
       " ['einem', 'ART'],\n",
       " ['Tag', 'NN'],\n",
       " ['Homeoffice', 'NE'],\n",
       " ['und', 'KON'],\n",
       " ['Homeschooling', 'NE'],\n",
       " ['haben', 'VAFIN'],\n",
       " ['sich', 'PRF'],\n",
       " ['alle', 'PIS'],\n",
       " ['eine', 'ART'],\n",
       " ['Partie', 'NN'],\n",
       " ['Spaß', 'NN'],\n",
       " ['verdient', 'VVFIN'],\n",
       " ['.', '$.'],\n",
       " ['Die', 'ART'],\n",
       " ['Gesellschaftsspiele-Tipps', 'NN'],\n",
       " ['der', 'ART'],\n",
       " ['ZEIT', 'NN'],\n",
       " ['ONLINE-Redaktion', 'NN']]"
      ]
     },
     "execution_count": 162,
     "metadata": {},
     "output_type": "execute_result"
    }
   ],
   "source": [
    "def pos_headline(x):\n",
    "    doc=nlp(df_model[\"original_headline\"][0])\n",
    "    return [[token.text, token.tag_] for token in doc]\n",
    "\n",
    "pos_headline(df_model[\"original_headline\"][0])"
   ]
  },
  {
   "cell_type": "code",
   "execution_count": 163,
   "metadata": {},
   "outputs": [],
   "source": [
    "df_model[\"pos_1\"]=df_model[\"original_headline\"].apply(lambda x: pos_headline(x))"
   ]
  },
  {
   "cell_type": "code",
   "execution_count": 164,
   "metadata": {},
   "outputs": [
    {
     "data": {
      "text/plain": [
       "list"
      ]
     },
     "execution_count": 164,
     "metadata": {},
     "output_type": "execute_result"
    }
   ],
   "source": [
    "type(df_model[\"pos_1\"][0])"
   ]
  },
  {
   "cell_type": "code",
   "execution_count": 167,
   "metadata": {},
   "outputs": [
    {
     "data": {
      "text/plain": [
       "'ADV'"
      ]
     },
     "execution_count": 167,
     "metadata": {},
     "output_type": "execute_result"
    }
   ],
   "source": [
    "df_model[\"pos_1\"][0][0][1]"
   ]
  },
  {
   "cell_type": "code",
   "execution_count": 172,
   "metadata": {},
   "outputs": [],
   "source": [
    "pos_dict={}\n",
    "for pos in df_model[\"pos_1\"]:\n",
    "    for i in range(len(pos)):\n",
    "        #print(pos[i])\n",
    "        if pos[i][1] in pos_dict:\n",
    "            pos_dict[pos[i][1]]+=1\n",
    "        else:\n",
    "            pos_dict[pos[i][1]]=1"
   ]
  },
  {
   "cell_type": "code",
   "execution_count": 173,
   "metadata": {},
   "outputs": [
    {
     "data": {
      "text/plain": [
       "['$(',\n",
       " '$,',\n",
       " '$.',\n",
       " 'ADJA',\n",
       " 'ADJD',\n",
       " 'ADV',\n",
       " 'APPR',\n",
       " 'ART',\n",
       " 'CARD',\n",
       " 'KON',\n",
       " 'NE',\n",
       " 'NN',\n",
       " 'PIS',\n",
       " 'PRF',\n",
       " 'PTKNEG',\n",
       " 'VAFIN',\n",
       " 'VAINF',\n",
       " 'VVFIN']"
      ]
     },
     "execution_count": 173,
     "metadata": {},
     "output_type": "execute_result"
    }
   ],
   "source": [
    "sorted(pos_dict)"
   ]
  },
  {
   "cell_type": "markdown",
   "metadata": {},
   "source": [
    "'$(' = \"other sentence-internal punctuation mark\"\n",
    "\n",
    "'$,' = \"comma\"\n",
    "\n",
    "'$.' = \"sentence-final punctuation mark\"\n",
    "\n",
    "'ADJA' = \"adjective, attributive\"\n",
    "\n",
    "'ADJD' = \"adjective, adverbial or predicative\"\n",
    "\n",
    "'ADV' = \"adverb\"\n",
    "\n",
    "'APPR' = \"preposition; circumposition left\"\n",
    "\n",
    "'ART' = \"definite or indefinite article\"\n",
    "\n",
    "'CARD' = \"cardinal number\"\n",
    "\n",
    "'KON' = \"coordinate conjunction\"\n",
    "\n",
    "'NE' = \"proper noun\"\n",
    "\n",
    "'NN' = \"noun, singular or mass\"\n",
    "\n",
    "'PIS' = \"substituting indefinite pronoun\"\n",
    "\n",
    "'PRF' = \"reflexive personal pronoun\"\n",
    "\n",
    "'PTKNEG' = \"negative particle\"\n",
    "\n",
    "'VAFIN' = \"finite verb, auxiliary\"\n",
    "\n",
    "'VAINF' = \"infinitive, auxiliary\"\n",
    "\n",
    "'VVFIN' = \"finite verb, modal\""
   ]
  },
  {
   "cell_type": "code",
   "execution_count": 192,
   "metadata": {},
   "outputs": [],
   "source": [
    "def is_proper_noun(tag):\n",
    "    return tag in ['NE']\n",
    "def is_noun(tag):\n",
    "    return tag in ['NN']\n",
    "def is_verb(tag):\n",
    "    return tag in ['VAFIN', 'VAINF', 'VVFIN']\n",
    "def is_adverb(tag):\n",
    "    return tag in ['ADV']\n",
    "def is_adjective(tag):\n",
    "    return tag in [\"ADJA\", 'ADJD']\n",
    "\n",
    "def penn_to_pos(headline_list):\n",
    "    tagged_list = []\n",
    "    \n",
    "    for tag in headline_list:\n",
    "        tag = list(tag)\n",
    "        \n",
    "        if is_adjective(tag[1]):\n",
    "            tag[1] = \"ADJ\"\n",
    "            tagged_list.append(tag)\n",
    "        elif is_noun(tag[1]):\n",
    "            tag[1] = \"NOUN\"\n",
    "            tagged_list.append(tag)\n",
    "        elif is_adverb(tag[1]):\n",
    "            tag[1] = \"ADV\"\n",
    "            tagged_list.append(tag)\n",
    "        elif is_verb(tag[1]):\n",
    "            tag[1] = \"VERB\"\n",
    "            tagged_list.append(tag)\n",
    "        elif is_proper_noun(tag[1]):\n",
    "            tag[1] = 'NE'\n",
    "            tagged_list.append(tag)\n",
    "        else:\n",
    "            continue\n",
    "\n",
    "    return tagged_list"
   ]
  },
  {
   "cell_type": "code",
   "execution_count": 191,
   "metadata": {
    "scrolled": true
   },
   "outputs": [
    {
     "name": "stdout",
     "output_type": "stream",
     "text": [
      "[['Noch', 'ADV'], [\"'ne\", 'ART'], ['Runde', 'NN'], ['!', '$.'], ['tatsächlich', 'ADJD'], ['auch', 'ADV'], ['für', 'APPR'], ['Erwachsene', 'NN'], ['nicht', 'PTKNEG'], ['langweilig', 'ADJD'], ['.', '$.'], ['(', '$('], ['Für', 'APPR'], ['2', 'CARD'], ['bis', 'KON'], ['7', 'CARD'], ['Spieler', 'NN'], [',', '$,'], ['ab', 'APPR'], ['4', 'CARD'], ['Jahren', 'NN'], [')', '$('], ['Simone', 'NN'], ['Gaul', 'NE'], ['Eine', 'ART'], ['Krise', 'NN'], ['braucht', 'VVFIN'], ['Bilder', 'NN'], [',', '$,'], ['muss', 'VVFIN'], ['begreifbar', 'ADJD'], ['werden', 'VAINF'], ['durch', 'APPR'], ['Metaphern', 'NN'], ['.', '$.'], ['Die', 'ART'], ['derzeitige', 'ADJA'], ['Corona-Krise', 'NN'], ['sickert', 'VVFIN'], ['nur', 'ADV'], ['Spätestens', 'ADV'], ['nach', 'APPR'], ['einem', 'ART'], ['Tag', 'NN'], ['Homeoffice', 'NE'], ['und', 'KON'], ['Homeschooling', 'NE'], ['haben', 'VAFIN'], ['sich', 'PRF'], ['alle', 'PIS'], ['eine', 'ART'], ['Partie', 'NN'], ['Spaß', 'NN'], ['verdient', 'VVFIN'], ['.', '$.'], ['Die', 'ART'], ['Gesellschaftsspiele-Tipps', 'NN'], ['der', 'ART'], ['ZEIT', 'NN'], ['ONLINE-Redaktion', 'NN']]\n",
      "['Noch', 'ADV']\n",
      "[\"'ne\", 'ART']\n",
      "['Runde', 'NN']\n",
      "['!', '$.']\n",
      "['tatsächlich', 'ADJD']\n",
      "['auch', 'ADV']\n",
      "['für', 'APPR']\n",
      "['Erwachsene', 'NN']\n",
      "['nicht', 'PTKNEG']\n",
      "['langweilig', 'ADJD']\n",
      "['.', '$.']\n",
      "['(', '$(']\n",
      "['Für', 'APPR']\n",
      "['2', 'CARD']\n",
      "['bis', 'KON']\n",
      "['7', 'CARD']\n",
      "['Spieler', 'NN']\n",
      "[',', '$,']\n",
      "['ab', 'APPR']\n",
      "['4', 'CARD']\n",
      "['Jahren', 'NN']\n",
      "[')', '$(']\n",
      "['Simone', 'NN']\n",
      "['Gaul', 'NE']\n",
      "['Eine', 'ART']\n",
      "['Krise', 'NN']\n",
      "['braucht', 'VVFIN']\n",
      "['Bilder', 'NN']\n",
      "[',', '$,']\n",
      "['muss', 'VVFIN']\n",
      "['begreifbar', 'ADJD']\n",
      "['werden', 'VAINF']\n",
      "['durch', 'APPR']\n",
      "['Metaphern', 'NN']\n",
      "['.', '$.']\n",
      "['Die', 'ART']\n",
      "['derzeitige', 'ADJA']\n",
      "['Corona-Krise', 'NN']\n",
      "['sickert', 'VVFIN']\n",
      "['nur', 'ADV']\n",
      "['Spätestens', 'ADV']\n",
      "['nach', 'APPR']\n",
      "['einem', 'ART']\n",
      "['Tag', 'NN']\n",
      "['Homeoffice', 'NE']\n",
      "['und', 'KON']\n",
      "['Homeschooling', 'NE']\n",
      "['haben', 'VAFIN']\n",
      "['sich', 'PRF']\n",
      "['alle', 'PIS']\n",
      "['eine', 'ART']\n",
      "['Partie', 'NN']\n",
      "['Spaß', 'NN']\n",
      "['verdient', 'VVFIN']\n",
      "['.', '$.']\n",
      "['Die', 'ART']\n",
      "['Gesellschaftsspiele-Tipps', 'NN']\n",
      "['der', 'ART']\n",
      "['ZEIT', 'NN']\n",
      "['ONLINE-Redaktion', 'NN']\n"
     ]
    }
   ],
   "source": [
    "headline_list=df_model[\"pos_1\"][0]\n",
    "print(headline_list)\n",
    "\n",
    "for tag in headline_list:\n",
    "    tag = list(tag)\n",
    "    print(tag)\n",
    "    if len(tag[1]) == 0:\n",
    "        temporary_list.append('n/a')\n",
    "    elif is_adjective(tag[1]):\n",
    "         temporary_list.append(\"ADJ\")\n",
    "    elif is_noun(tag[1]):\n",
    "        temporary_list.append(\"NOUN\")\n",
    "    elif is_adverb(tag[1]):\n",
    "        temporary_list.append(\"ADV\")\n",
    "    elif is_verb(tag[1]):\n",
    "        temporary_list.append(\"VERB\")\n",
    "    elif is_proper_noun(tag[1]):\n",
    "        temporary_list.append('NE')"
   ]
  },
  {
   "cell_type": "code",
   "execution_count": 124,
   "metadata": {
    "collapsed": true
   },
   "outputs": [
    {
     "data": {
      "text/plain": [
       "['ADV',\n",
       " 'NOUN',\n",
       " 'ADJ',\n",
       " 'ADV',\n",
       " 'NOUN',\n",
       " 'ADJ',\n",
       " 'NOUN',\n",
       " 'NOUN',\n",
       " 'NOUN',\n",
       " 'NE',\n",
       " 'NOUN',\n",
       " 'VERB',\n",
       " 'NOUN',\n",
       " 'VERB',\n",
       " 'ADJ',\n",
       " 'VERB',\n",
       " 'NOUN',\n",
       " 'ADJ',\n",
       " 'NOUN',\n",
       " 'VERB',\n",
       " 'ADV',\n",
       " 'ADV',\n",
       " 'NOUN',\n",
       " 'NE',\n",
       " 'NE',\n",
       " 'VERB',\n",
       " 'NOUN',\n",
       " 'NOUN',\n",
       " 'VERB',\n",
       " 'NOUN',\n",
       " 'NOUN',\n",
       " 'NOUN']"
      ]
     },
     "execution_count": 124,
     "metadata": {},
     "output_type": "execute_result"
    }
   ],
   "source": [
    "temporary_list"
   ]
  },
  {
   "cell_type": "code",
   "execution_count": 193,
   "metadata": {},
   "outputs": [],
   "source": [
    "df_model[\"pos_2\"]=df_model[\"pos_1\"].apply(lambda x: penn_to_pos(x))"
   ]
  },
  {
   "cell_type": "code",
   "execution_count": 194,
   "metadata": {
    "collapsed": true
   },
   "outputs": [
    {
     "data": {
      "text/html": [
       "<div>\n",
       "<style scoped>\n",
       "    .dataframe tbody tr th:only-of-type {\n",
       "        vertical-align: middle;\n",
       "    }\n",
       "\n",
       "    .dataframe tbody tr th {\n",
       "        vertical-align: top;\n",
       "    }\n",
       "\n",
       "    .dataframe thead th {\n",
       "        text-align: right;\n",
       "    }\n",
       "</style>\n",
       "<table border=\"1\" class=\"dataframe\">\n",
       "  <thead>\n",
       "    <tr style=\"text-align: right;\">\n",
       "      <th></th>\n",
       "      <th>url</th>\n",
       "      <th>original_headline</th>\n",
       "      <th>headline</th>\n",
       "      <th>date_published</th>\n",
       "      <th>channel</th>\n",
       "      <th>newspaper</th>\n",
       "      <th>vaccine</th>\n",
       "      <th>pos_1</th>\n",
       "      <th>pos_2</th>\n",
       "    </tr>\n",
       "  </thead>\n",
       "  <tbody>\n",
       "    <tr>\n",
       "      <th>0</th>\n",
       "      <td>http://www.zeit.de/kultur/2020-03/gesellschaft...</td>\n",
       "      <td>Noch 'ne Runde! tatsächlich auch für Erwachsen...</td>\n",
       "      <td>ne rundentatsächlich erwachsen langweilig 2 7 ...</td>\n",
       "      <td>2020-03-21</td>\n",
       "      <td>kultur</td>\n",
       "      <td>Die Zeit</td>\n",
       "      <td>NaN</td>\n",
       "      <td>[[Noch, ADV], ['ne, ART], [Runde, NN], [!, $.]...</td>\n",
       "      <td>[[Noch, ADV], [Runde, NOUN], [tatsächlich, ADJ...</td>\n",
       "    </tr>\n",
       "    <tr>\n",
       "      <th>1</th>\n",
       "      <td>http://www.zeit.de/kultur/2020-03/corona-quara...</td>\n",
       "      <td>Gewinnen ist was für Verlierer? mir schweigend...</td>\n",
       "      <td>gewinnen verliererschweigen möglichkeiten gut ...</td>\n",
       "      <td>2020-03-21</td>\n",
       "      <td>kultur</td>\n",
       "      <td>Die Zeit</td>\n",
       "      <td>NaN</td>\n",
       "      <td>[[Noch, ADV], ['ne, ART], [Runde, NN], [!, $.]...</td>\n",
       "      <td>[[Noch, ADV], [Runde, NOUN], [tatsächlich, ADJ...</td>\n",
       "    </tr>\n",
       "    <tr>\n",
       "      <th>2</th>\n",
       "      <td>http://www.zeit.de/kultur/2020-03/staat-ausnah...</td>\n",
       "      <td>Corona und der Staat dennoch nicht allzu vorsi...</td>\n",
       "      <td>corona staatdennoch allzu vorsichtig wer recht...</td>\n",
       "      <td>2020-03-21</td>\n",
       "      <td>kultur</td>\n",
       "      <td>Die Zeit</td>\n",
       "      <td>NaN</td>\n",
       "      <td>[[Noch, ADV], ['ne, ART], [Runde, NN], [!, $.]...</td>\n",
       "      <td>[[Noch, ADV], [Runde, NOUN], [tatsächlich, ADJ...</td>\n",
       "    </tr>\n",
       "    <tr>\n",
       "      <th>3</th>\n",
       "      <td>http://www.zeit.de/gesellschaft/zeitgeschehen/...</td>\n",
       "      <td>\"Kleine Änderungen im Alltag können viel bewir...</td>\n",
       "      <td>kleine änderungen alltag bewirkenprovisorisch ...</td>\n",
       "      <td>2020-03-21</td>\n",
       "      <td>gesellschaft</td>\n",
       "      <td>Die Zeit</td>\n",
       "      <td>NaN</td>\n",
       "      <td>[[Noch, ADV], ['ne, ART], [Runde, NN], [!, $.]...</td>\n",
       "      <td>[[Noch, ADV], [Runde, NOUN], [tatsächlich, ADJ...</td>\n",
       "    </tr>\n",
       "    <tr>\n",
       "      <th>4</th>\n",
       "      <td>http://www.zeit.de/campus/2020-03/auslandsseme...</td>\n",
       "      <td>\"Eigentlich wäre ich jetzt gerne bei meiner Fa...</td>\n",
       "      <td>eigentlich sein gerne familieeigentlich wollen...</td>\n",
       "      <td>2020-03-21</td>\n",
       "      <td>campus</td>\n",
       "      <td>Die Zeit</td>\n",
       "      <td>NaN</td>\n",
       "      <td>[[Noch, ADV], ['ne, ART], [Runde, NN], [!, $.]...</td>\n",
       "      <td>[[Noch, ADV], [Runde, NOUN], [tatsächlich, ADJ...</td>\n",
       "    </tr>\n",
       "    <tr>\n",
       "      <th>...</th>\n",
       "      <td>...</td>\n",
       "      <td>...</td>\n",
       "      <td>...</td>\n",
       "      <td>...</td>\n",
       "      <td>...</td>\n",
       "      <td>...</td>\n",
       "      <td>...</td>\n",
       "      <td>...</td>\n",
       "      <td>...</td>\n",
       "    </tr>\n",
       "    <tr>\n",
       "      <th>37827</th>\n",
       "      <td>https://www.faz.net/suche/streit-zwischen-astr...</td>\n",
       "      <td>Es knistert zwischen Astra-Zeneca und der EU  ...</td>\n",
       "      <td>knistern astra-zeneca eu schwedisch-britische ...</td>\n",
       "      <td>2021-01-27</td>\n",
       "      <td>NaN</td>\n",
       "      <td>Frankfurter Allgemeine</td>\n",
       "      <td>NaN</td>\n",
       "      <td>[[Noch, ADV], ['ne, ART], [Runde, NN], [!, $.]...</td>\n",
       "      <td>[[Noch, ADV], [Runde, NOUN], [tatsächlich, ADJ...</td>\n",
       "    </tr>\n",
       "    <tr>\n",
       "      <th>37828</th>\n",
       "      <td>https://www.faz.net/premiumContent?contentId=1...</td>\n",
       "      <td>Chef von Astra-Zeneca weist Vorwürfe der EU zu...</td>\n",
       "      <td>chef astra-zeneca weisen vorwürfe eu zurück eu...</td>\n",
       "      <td>2021-01-27</td>\n",
       "      <td>NaN</td>\n",
       "      <td>Frankfurter Allgemeine</td>\n",
       "      <td>NaN</td>\n",
       "      <td>[[Noch, ADV], ['ne, ART], [Runde, NN], [!, $.]...</td>\n",
       "      <td>[[Noch, ADV], [Runde, NOUN], [tatsächlich, ADJ...</td>\n",
       "    </tr>\n",
       "    <tr>\n",
       "      <th>37829</th>\n",
       "      <td>https://www.faz.net/premiumContent?contentId=1...</td>\n",
       "      <td>Macron warnt vor Artensterben        Auf dem K...</td>\n",
       "      <td>macron warnen artensterben klimagipfel paris g...</td>\n",
       "      <td>2021-01-11</td>\n",
       "      <td>NaN</td>\n",
       "      <td>Frankfurter Allgemeine</td>\n",
       "      <td>NaN</td>\n",
       "      <td>[[Noch, ADV], ['ne, ART], [Runde, NN], [!, $.]...</td>\n",
       "      <td>[[Noch, ADV], [Runde, NOUN], [tatsächlich, ADJ...</td>\n",
       "    </tr>\n",
       "    <tr>\n",
       "      <th>37830</th>\n",
       "      <td>https://www.faz.net/suche/impfstoff-von-astraz...</td>\n",
       "      <td>Kritik am Impfstoff von AstraZeneca        Es ...</td>\n",
       "      <td>kritik impfstoff astrazeneca sein basis völlig...</td>\n",
       "      <td>2020-11-27</td>\n",
       "      <td>NaN</td>\n",
       "      <td>Frankfurter Allgemeine</td>\n",
       "      <td>NaN</td>\n",
       "      <td>[[Noch, ADV], ['ne, ART], [Runde, NN], [!, $.]...</td>\n",
       "      <td>[[Noch, ADV], [Runde, NOUN], [tatsächlich, ADJ...</td>\n",
       "    </tr>\n",
       "    <tr>\n",
       "      <th>37831</th>\n",
       "      <td>https://www.faz.net/premiumContent?contentId=1...</td>\n",
       "      <td>Amerika beflügelt die Impfstoff-Suche        D...</td>\n",
       "      <td>amerika beflügeln impfstoff-suche amerikanisch...</td>\n",
       "      <td>2020-05-15</td>\n",
       "      <td>NaN</td>\n",
       "      <td>Frankfurter Allgemeine</td>\n",
       "      <td>NaN</td>\n",
       "      <td>[[Noch, ADV], ['ne, ART], [Runde, NN], [!, $.]...</td>\n",
       "      <td>[[Noch, ADV], [Runde, NOUN], [tatsächlich, ADJ...</td>\n",
       "    </tr>\n",
       "  </tbody>\n",
       "</table>\n",
       "<p>37818 rows × 9 columns</p>\n",
       "</div>"
      ],
      "text/plain": [
       "                                                     url  \\\n",
       "0      http://www.zeit.de/kultur/2020-03/gesellschaft...   \n",
       "1      http://www.zeit.de/kultur/2020-03/corona-quara...   \n",
       "2      http://www.zeit.de/kultur/2020-03/staat-ausnah...   \n",
       "3      http://www.zeit.de/gesellschaft/zeitgeschehen/...   \n",
       "4      http://www.zeit.de/campus/2020-03/auslandsseme...   \n",
       "...                                                  ...   \n",
       "37827  https://www.faz.net/suche/streit-zwischen-astr...   \n",
       "37828  https://www.faz.net/premiumContent?contentId=1...   \n",
       "37829  https://www.faz.net/premiumContent?contentId=1...   \n",
       "37830  https://www.faz.net/suche/impfstoff-von-astraz...   \n",
       "37831  https://www.faz.net/premiumContent?contentId=1...   \n",
       "\n",
       "                                       original_headline  \\\n",
       "0      Noch 'ne Runde! tatsächlich auch für Erwachsen...   \n",
       "1      Gewinnen ist was für Verlierer? mir schweigend...   \n",
       "2      Corona und der Staat dennoch nicht allzu vorsi...   \n",
       "3      \"Kleine Änderungen im Alltag können viel bewir...   \n",
       "4      \"Eigentlich wäre ich jetzt gerne bei meiner Fa...   \n",
       "...                                                  ...   \n",
       "37827  Es knistert zwischen Astra-Zeneca und der EU  ...   \n",
       "37828  Chef von Astra-Zeneca weist Vorwürfe der EU zu...   \n",
       "37829  Macron warnt vor Artensterben        Auf dem K...   \n",
       "37830  Kritik am Impfstoff von AstraZeneca        Es ...   \n",
       "37831  Amerika beflügelt die Impfstoff-Suche        D...   \n",
       "\n",
       "                                                headline date_published  \\\n",
       "0      ne rundentatsächlich erwachsen langweilig 2 7 ...     2020-03-21   \n",
       "1      gewinnen verliererschweigen möglichkeiten gut ...     2020-03-21   \n",
       "2      corona staatdennoch allzu vorsichtig wer recht...     2020-03-21   \n",
       "3      kleine änderungen alltag bewirkenprovisorisch ...     2020-03-21   \n",
       "4      eigentlich sein gerne familieeigentlich wollen...     2020-03-21   \n",
       "...                                                  ...            ...   \n",
       "37827  knistern astra-zeneca eu schwedisch-britische ...     2021-01-27   \n",
       "37828  chef astra-zeneca weisen vorwürfe eu zurück eu...     2021-01-27   \n",
       "37829  macron warnen artensterben klimagipfel paris g...     2021-01-11   \n",
       "37830  kritik impfstoff astrazeneca sein basis völlig...     2020-11-27   \n",
       "37831  amerika beflügeln impfstoff-suche amerikanisch...     2020-05-15   \n",
       "\n",
       "            channel               newspaper vaccine  \\\n",
       "0            kultur                Die Zeit     NaN   \n",
       "1            kultur                Die Zeit     NaN   \n",
       "2            kultur                Die Zeit     NaN   \n",
       "3      gesellschaft                Die Zeit     NaN   \n",
       "4            campus                Die Zeit     NaN   \n",
       "...             ...                     ...     ...   \n",
       "37827           NaN  Frankfurter Allgemeine     NaN   \n",
       "37828           NaN  Frankfurter Allgemeine     NaN   \n",
       "37829           NaN  Frankfurter Allgemeine     NaN   \n",
       "37830           NaN  Frankfurter Allgemeine     NaN   \n",
       "37831           NaN  Frankfurter Allgemeine     NaN   \n",
       "\n",
       "                                                   pos_1  \\\n",
       "0      [[Noch, ADV], ['ne, ART], [Runde, NN], [!, $.]...   \n",
       "1      [[Noch, ADV], ['ne, ART], [Runde, NN], [!, $.]...   \n",
       "2      [[Noch, ADV], ['ne, ART], [Runde, NN], [!, $.]...   \n",
       "3      [[Noch, ADV], ['ne, ART], [Runde, NN], [!, $.]...   \n",
       "4      [[Noch, ADV], ['ne, ART], [Runde, NN], [!, $.]...   \n",
       "...                                                  ...   \n",
       "37827  [[Noch, ADV], ['ne, ART], [Runde, NN], [!, $.]...   \n",
       "37828  [[Noch, ADV], ['ne, ART], [Runde, NN], [!, $.]...   \n",
       "37829  [[Noch, ADV], ['ne, ART], [Runde, NN], [!, $.]...   \n",
       "37830  [[Noch, ADV], ['ne, ART], [Runde, NN], [!, $.]...   \n",
       "37831  [[Noch, ADV], ['ne, ART], [Runde, NN], [!, $.]...   \n",
       "\n",
       "                                                   pos_2  \n",
       "0      [[Noch, ADV], [Runde, NOUN], [tatsächlich, ADJ...  \n",
       "1      [[Noch, ADV], [Runde, NOUN], [tatsächlich, ADJ...  \n",
       "2      [[Noch, ADV], [Runde, NOUN], [tatsächlich, ADJ...  \n",
       "3      [[Noch, ADV], [Runde, NOUN], [tatsächlich, ADJ...  \n",
       "4      [[Noch, ADV], [Runde, NOUN], [tatsächlich, ADJ...  \n",
       "...                                                  ...  \n",
       "37827  [[Noch, ADV], [Runde, NOUN], [tatsächlich, ADJ...  \n",
       "37828  [[Noch, ADV], [Runde, NOUN], [tatsächlich, ADJ...  \n",
       "37829  [[Noch, ADV], [Runde, NOUN], [tatsächlich, ADJ...  \n",
       "37830  [[Noch, ADV], [Runde, NOUN], [tatsächlich, ADJ...  \n",
       "37831  [[Noch, ADV], [Runde, NOUN], [tatsächlich, ADJ...  \n",
       "\n",
       "[37818 rows x 9 columns]"
      ]
     },
     "execution_count": 194,
     "metadata": {},
     "output_type": "execute_result"
    }
   ],
   "source": [
    "df_model"
   ]
  },
  {
   "cell_type": "code",
   "execution_count": 243,
   "metadata": {},
   "outputs": [
    {
     "name": "stdout",
     "output_type": "stream",
     "text": [
      "Sucessfully saved\n"
     ]
    }
   ],
   "source": [
    "#df_model.to_csv(\"/Users/carolinvogt/Becoming_Data_Analyst/vaccine_sentiment/german/df_model_2.csv\")\n",
    "\n",
    "print(\"Sucessfully saved\")"
   ]
  },
  {
   "cell_type": "code",
   "execution_count": 6,
   "metadata": {},
   "outputs": [],
   "source": [
    "df_model=pd.read_csv(\"/Users/carolinvogt/Becoming_Data_Analyst/vaccine_sentiment/german/df_model_2.csv\",index_col=0,lineterminator='\\n')\n",
    "#df_model"
   ]
  },
  {
   "cell_type": "markdown",
   "metadata": {},
   "source": [
    "## Translation for vaccine headlines"
   ]
  },
  {
   "cell_type": "code",
<<<<<<< HEAD
=======
   "execution_count": 7,
   "metadata": {},
   "outputs": [],
   "source": [
    "#pip install pydeepl"
   ]
  },
  {
   "cell_type": "code",
   "execution_count": 8,
   "metadata": {},
   "outputs": [
    {
     "data": {
      "text/html": [
       "<div>\n",
       "<style scoped>\n",
       "    .dataframe tbody tr th:only-of-type {\n",
       "        vertical-align: middle;\n",
       "    }\n",
       "\n",
       "    .dataframe tbody tr th {\n",
       "        vertical-align: top;\n",
       "    }\n",
       "\n",
       "    .dataframe thead th {\n",
       "        text-align: right;\n",
       "    }\n",
       "</style>\n",
       "<table border=\"1\" class=\"dataframe\">\n",
       "  <thead>\n",
       "    <tr style=\"text-align: right;\">\n",
       "      <th></th>\n",
       "      <th>url</th>\n",
       "      <th>original_headline</th>\n",
       "      <th>headline</th>\n",
       "      <th>date_published</th>\n",
       "      <th>channel</th>\n",
       "      <th>newspaper</th>\n",
       "      <th>vaccine</th>\n",
       "      <th>pos_1</th>\n",
       "      <th>pos_2</th>\n",
       "    </tr>\n",
       "  </thead>\n",
       "  <tbody>\n",
       "    <tr>\n",
       "      <th>2049</th>\n",
       "      <td>http://www.zeit.de/wissen/gesundheit/2020-05/p...</td>\n",
       "      <td>Pfizer rechnet mit Corona-Impfstoff zuerst für...</td>\n",
       "      <td>pfizer rechnen corona-impfstoff zuerst westlic...</td>\n",
       "      <td>2020-05-28</td>\n",
       "      <td>wissen</td>\n",
       "      <td>Die Zeit</td>\n",
       "      <td>pfizer</td>\n",
       "      <td>[['Noch', 'ADV'], [\"'ne\", 'ART'], ['Runde', 'N...</td>\n",
       "      <td>[['Noch', 'ADV'], ['Runde', 'NOUN'], ['tatsäch...</td>\n",
       "    </tr>\n",
       "    <tr>\n",
       "      <th>2732</th>\n",
       "      <td>http://www.zeit.de/wissen/gesundheit/2020-06/c...</td>\n",
       "      <td>CureVac darf möglichen Corona-Impfstoff klinis...</td>\n",
       "      <td>curevac dürfen möglich corona-impfstoff klinis...</td>\n",
       "      <td>2020-06-17</td>\n",
       "      <td>wissen</td>\n",
       "      <td>Die Zeit</td>\n",
       "      <td>curevac</td>\n",
       "      <td>[['Noch', 'ADV'], [\"'ne\", 'ART'], ['Runde', 'N...</td>\n",
       "      <td>[['Noch', 'ADV'], ['Runde', 'NOUN'], ['tatsäch...</td>\n",
       "    </tr>\n",
       "    <tr>\n",
       "      <th>4062</th>\n",
       "      <td>http://www.zeit.de/wirtschaft/unternehmen/2020...</td>\n",
       "      <td>CureVac startet mit Kurssprung an der Börse Au...</td>\n",
       "      <td>curevac starten kurssprung börseausgabepreises...</td>\n",
       "      <td>2020-08-14</td>\n",
       "      <td>wirtschaft</td>\n",
       "      <td>Die Zeit</td>\n",
       "      <td>curevac</td>\n",
       "      <td>[['Noch', 'ADV'], [\"'ne\", 'ART'], ['Runde', 'N...</td>\n",
       "      <td>[['Noch', 'ADV'], ['Runde', 'NOUN'], ['tatsäch...</td>\n",
       "    </tr>\n",
       "    <tr>\n",
       "      <th>4169</th>\n",
       "      <td>http://www.zeit.de/wissen/2020-08/coronavirus-...</td>\n",
       "      <td>CureVac plant Tests von Corona-Impfstoff in Br...</td>\n",
       "      <td>curevac planen tests corona-impfstoff brasilie...</td>\n",
       "      <td>2020-08-11</td>\n",
       "      <td>wissen</td>\n",
       "      <td>Die Zeit</td>\n",
       "      <td>curevac</td>\n",
       "      <td>[['Noch', 'ADV'], [\"'ne\", 'ART'], ['Runde', 'N...</td>\n",
       "      <td>[['Noch', 'ADV'], ['Runde', 'NOUN'], ['tatsäch...</td>\n",
       "    </tr>\n",
       "    <tr>\n",
       "      <th>4559</th>\n",
       "      <td>http://www.zeit.de/wissen/gesundheit/2020-09/c...</td>\n",
       "      <td>CureVac erhält Millionenförderung vom BundDas ...</td>\n",
       "      <td>curevac erhalten millionenförderung bundtübing...</td>\n",
       "      <td>2020-09-04</td>\n",
       "      <td>wissen</td>\n",
       "      <td>Die Zeit</td>\n",
       "      <td>curevac</td>\n",
       "      <td>[['Noch', 'ADV'], [\"'ne\", 'ART'], ['Runde', 'N...</td>\n",
       "      <td>[['Noch', 'ADV'], ['Runde', 'NOUN'], ['tatsäch...</td>\n",
       "    </tr>\n",
       "    <tr>\n",
       "      <th>...</th>\n",
       "      <td>...</td>\n",
       "      <td>...</td>\n",
       "      <td>...</td>\n",
       "      <td>...</td>\n",
       "      <td>...</td>\n",
       "      <td>...</td>\n",
       "      <td>...</td>\n",
       "      <td>...</td>\n",
       "      <td>...</td>\n",
       "    </tr>\n",
       "    <tr>\n",
       "      <th>37657</th>\n",
       "      <td>https://www.faz.net/suche/curevac-und-biontec-...</td>\n",
       "      <td>Curevac, Biontec – wie liegen die Deutschen im...</td>\n",
       "      <td>curevac biontec – liegen deutsch impfstoffrenn...</td>\n",
       "      <td>2020-07-10</td>\n",
       "      <td>NaN</td>\n",
       "      <td>Frankfurter Allgemeine</td>\n",
       "      <td>curevac</td>\n",
       "      <td>[['Noch', 'ADV'], [\"'ne\", 'ART'], ['Runde', 'N...</td>\n",
       "      <td>[['Noch', 'ADV'], ['Runde', 'NOUN'], ['tatsäch...</td>\n",
       "    </tr>\n",
       "    <tr>\n",
       "      <th>37791</th>\n",
       "      <td>https://www.faz.net/suche/astra-zeneca-droht-r...</td>\n",
       "      <td>Astra-Zeneca droht Rechtsstreit        Wegen L...</td>\n",
       "      <td>astra-zeneca drohen rechtsstreit wegen liefera...</td>\n",
       "      <td>2021-03-18</td>\n",
       "      <td>NaN</td>\n",
       "      <td>Frankfurter Allgemeine</td>\n",
       "      <td>astra-zeneca</td>\n",
       "      <td>[['Noch', 'ADV'], [\"'ne\", 'ART'], ['Runde', 'N...</td>\n",
       "      <td>[['Noch', 'ADV'], ['Runde', 'NOUN'], ['tatsäch...</td>\n",
       "    </tr>\n",
       "    <tr>\n",
       "      <th>37794</th>\n",
       "      <td>https://www.faz.net/suche/astrazeneca-laut-hau...</td>\n",
       "      <td>Ohne Astra-Zeneca keine schnelle Herdenimmunit...</td>\n",
       "      <td>astra-zeneca schnellen herdenimmunität vorsitz...</td>\n",
       "      <td>2021-03-18</td>\n",
       "      <td>NaN</td>\n",
       "      <td>Frankfurter Allgemeine</td>\n",
       "      <td>astra-zeneca</td>\n",
       "      <td>[['Noch', 'ADV'], [\"'ne\", 'ART'], ['Runde', 'N...</td>\n",
       "      <td>[['Noch', 'ADV'], ['Runde', 'NOUN'], ['tatsäch...</td>\n",
       "    </tr>\n",
       "    <tr>\n",
       "      <th>37819</th>\n",
       "      <td>https://www.faz.net/suche/astrazeneca-liefert-...</td>\n",
       "      <td>Astra-Zeneca liefert der EU nun doch mehr Impf...</td>\n",
       "      <td>astra-zeneca liefern eu mehr impfstoff kommiss...</td>\n",
       "      <td>2021-02-01</td>\n",
       "      <td>NaN</td>\n",
       "      <td>Frankfurter Allgemeine</td>\n",
       "      <td>astra-zeneca</td>\n",
       "      <td>[['Noch', 'ADV'], [\"'ne\", 'ART'], ['Runde', 'N...</td>\n",
       "      <td>[['Noch', 'ADV'], ['Runde', 'NOUN'], ['tatsäch...</td>\n",
       "    </tr>\n",
       "    <tr>\n",
       "      <th>37820</th>\n",
       "      <td>https://www.faz.net/premiumContent?contentId=1...</td>\n",
       "      <td>Astra-Zeneca liefert der EU nun doch mehr Impf...</td>\n",
       "      <td>astra-zeneca liefern eu mehr impfstoff streit ...</td>\n",
       "      <td>2021-01-31</td>\n",
       "      <td>NaN</td>\n",
       "      <td>Frankfurter Allgemeine</td>\n",
       "      <td>astra-zeneca</td>\n",
       "      <td>[['Noch', 'ADV'], [\"'ne\", 'ART'], ['Runde', 'N...</td>\n",
       "      <td>[['Noch', 'ADV'], ['Runde', 'NOUN'], ['tatsäch...</td>\n",
       "    </tr>\n",
       "  </tbody>\n",
       "</table>\n",
       "<p>141 rows × 9 columns</p>\n",
       "</div>"
      ],
      "text/plain": [
       "                                                     url  \\\n",
       "2049   http://www.zeit.de/wissen/gesundheit/2020-05/p...   \n",
       "2732   http://www.zeit.de/wissen/gesundheit/2020-06/c...   \n",
       "4062   http://www.zeit.de/wirtschaft/unternehmen/2020...   \n",
       "4169   http://www.zeit.de/wissen/2020-08/coronavirus-...   \n",
       "4559   http://www.zeit.de/wissen/gesundheit/2020-09/c...   \n",
       "...                                                  ...   \n",
       "37657  https://www.faz.net/suche/curevac-und-biontec-...   \n",
       "37791  https://www.faz.net/suche/astra-zeneca-droht-r...   \n",
       "37794  https://www.faz.net/suche/astrazeneca-laut-hau...   \n",
       "37819  https://www.faz.net/suche/astrazeneca-liefert-...   \n",
       "37820  https://www.faz.net/premiumContent?contentId=1...   \n",
       "\n",
       "                                       original_headline  \\\n",
       "2049   Pfizer rechnet mit Corona-Impfstoff zuerst für...   \n",
       "2732   CureVac darf möglichen Corona-Impfstoff klinis...   \n",
       "4062   CureVac startet mit Kurssprung an der Börse Au...   \n",
       "4169   CureVac plant Tests von Corona-Impfstoff in Br...   \n",
       "4559   CureVac erhält Millionenförderung vom BundDas ...   \n",
       "...                                                  ...   \n",
       "37657  Curevac, Biontec – wie liegen die Deutschen im...   \n",
       "37791  Astra-Zeneca droht Rechtsstreit        Wegen L...   \n",
       "37794  Ohne Astra-Zeneca keine schnelle Herdenimmunit...   \n",
       "37819  Astra-Zeneca liefert der EU nun doch mehr Impf...   \n",
       "37820  Astra-Zeneca liefert der EU nun doch mehr Impf...   \n",
       "\n",
       "                                                headline date_published  \\\n",
       "2049   pfizer rechnen corona-impfstoff zuerst westlic...     2020-05-28   \n",
       "2732   curevac dürfen möglich corona-impfstoff klinis...     2020-06-17   \n",
       "4062   curevac starten kurssprung börseausgabepreises...     2020-08-14   \n",
       "4169   curevac planen tests corona-impfstoff brasilie...     2020-08-11   \n",
       "4559   curevac erhalten millionenförderung bundtübing...     2020-09-04   \n",
       "...                                                  ...            ...   \n",
       "37657  curevac biontec – liegen deutsch impfstoffrenn...     2020-07-10   \n",
       "37791  astra-zeneca drohen rechtsstreit wegen liefera...     2021-03-18   \n",
       "37794  astra-zeneca schnellen herdenimmunität vorsitz...     2021-03-18   \n",
       "37819  astra-zeneca liefern eu mehr impfstoff kommiss...     2021-02-01   \n",
       "37820  astra-zeneca liefern eu mehr impfstoff streit ...     2021-01-31   \n",
       "\n",
       "          channel               newspaper       vaccine  \\\n",
       "2049       wissen                Die Zeit        pfizer   \n",
       "2732       wissen                Die Zeit       curevac   \n",
       "4062   wirtschaft                Die Zeit       curevac   \n",
       "4169       wissen                Die Zeit       curevac   \n",
       "4559       wissen                Die Zeit       curevac   \n",
       "...           ...                     ...           ...   \n",
       "37657         NaN  Frankfurter Allgemeine       curevac   \n",
       "37791         NaN  Frankfurter Allgemeine  astra-zeneca   \n",
       "37794         NaN  Frankfurter Allgemeine  astra-zeneca   \n",
       "37819         NaN  Frankfurter Allgemeine  astra-zeneca   \n",
       "37820         NaN  Frankfurter Allgemeine  astra-zeneca   \n",
       "\n",
       "                                                   pos_1  \\\n",
       "2049   [['Noch', 'ADV'], [\"'ne\", 'ART'], ['Runde', 'N...   \n",
       "2732   [['Noch', 'ADV'], [\"'ne\", 'ART'], ['Runde', 'N...   \n",
       "4062   [['Noch', 'ADV'], [\"'ne\", 'ART'], ['Runde', 'N...   \n",
       "4169   [['Noch', 'ADV'], [\"'ne\", 'ART'], ['Runde', 'N...   \n",
       "4559   [['Noch', 'ADV'], [\"'ne\", 'ART'], ['Runde', 'N...   \n",
       "...                                                  ...   \n",
       "37657  [['Noch', 'ADV'], [\"'ne\", 'ART'], ['Runde', 'N...   \n",
       "37791  [['Noch', 'ADV'], [\"'ne\", 'ART'], ['Runde', 'N...   \n",
       "37794  [['Noch', 'ADV'], [\"'ne\", 'ART'], ['Runde', 'N...   \n",
       "37819  [['Noch', 'ADV'], [\"'ne\", 'ART'], ['Runde', 'N...   \n",
       "37820  [['Noch', 'ADV'], [\"'ne\", 'ART'], ['Runde', 'N...   \n",
       "\n",
       "                                                   pos_2  \n",
       "2049   [['Noch', 'ADV'], ['Runde', 'NOUN'], ['tatsäch...  \n",
       "2732   [['Noch', 'ADV'], ['Runde', 'NOUN'], ['tatsäch...  \n",
       "4062   [['Noch', 'ADV'], ['Runde', 'NOUN'], ['tatsäch...  \n",
       "4169   [['Noch', 'ADV'], ['Runde', 'NOUN'], ['tatsäch...  \n",
       "4559   [['Noch', 'ADV'], ['Runde', 'NOUN'], ['tatsäch...  \n",
       "...                                                  ...  \n",
       "37657  [['Noch', 'ADV'], ['Runde', 'NOUN'], ['tatsäch...  \n",
       "37791  [['Noch', 'ADV'], ['Runde', 'NOUN'], ['tatsäch...  \n",
       "37794  [['Noch', 'ADV'], ['Runde', 'NOUN'], ['tatsäch...  \n",
       "37819  [['Noch', 'ADV'], ['Runde', 'NOUN'], ['tatsäch...  \n",
       "37820  [['Noch', 'ADV'], ['Runde', 'NOUN'], ['tatsäch...  \n",
       "\n",
       "[141 rows x 9 columns]"
      ]
     },
     "execution_count": 8,
     "metadata": {},
     "output_type": "execute_result"
    }
   ],
   "source": [
    "df_translate=df_model[df_model[\"vaccine\"].notna()]\n",
    "df_translate"
   ]
  },
  {
   "cell_type": "code",
   "execution_count": 9,
   "metadata": {},
   "outputs": [],
   "source": [
    "index_translate=list(df_translate.index)"
   ]
  },
  {
   "cell_type": "code",
   "execution_count": 10,
   "metadata": {},
   "outputs": [
    {
     "name": "stdout",
     "output_type": "stream",
     "text": [
      "40302\n"
     ]
    }
   ],
   "source": [
    "zeichen=0\n",
    "for i in index_translate:\n",
    "    try:\n",
    "        zeichen=zeichen+len(df_translate[\"original_headline\"][i])\n",
    "    except:\n",
    "        zeichen=zeichen\n",
    "print(zeichen)"
   ]
  },
  {
   "cell_type": "code",
   "execution_count": 11,
   "metadata": {},
   "outputs": [],
   "source": [
    "#!pip install googletrans\n",
    "#!pip uninstall googletrans --y\n",
    "#!pip install googletrans==3.1.0a0"
   ]
  },
  {
   "cell_type": "code",
   "execution_count": 12,
   "metadata": {},
   "outputs": [
    {
     "data": {
      "text/plain": [
       "['Pfizer rechnet mit Corona-Impfstoff zuerst für westliche LänderDer US-Pharmahersteller Pfizer rechnet damit, dass westliche Länder als erste bedient werden, sobald ein Corona-Impfstoff auf dem Markt ist. Das liege an der nötigen Technologie, sagte Pfizer-Chef Noch gibt es keinen Impfstoff gegen Sars-CoV-2. Doch der US-Pharmakonzern ist sich sicher, wer ihn zuerst erhalten wird – und verweist auf bestehende Technologien.',\n",
       " 'CureVac darf möglichen Corona-Impfstoff klinisch testenDas Tübinger Unternehmen CureVac darf mit der klinischen Prüfung seines Impfstoffkandidaten gegen Corona beginnen. Das zuständige Paul-Ehrlich-Institut (PEI) in Langen erteilte dem Unternehmen die Das Tübinger Unternehmen kann seinen Impfstoffkandidaten nun an Freiwilligen überprüfen. Es ist die zweite deutsche Firma mit einer entsprechenden Zulassung.',\n",
       " 'CureVac startet mit Kurssprung an der Börse Ausgabepreises. Dabei waren sie mit 16 Dollar schon am oberen Ende der Preisspanne ausgegeben worden. Fortschritte bei der Entwicklung des Corona-Impfstoffs hatten das Interesse der Anleger geweckt. Schon zum Das Tübinger Biotechunternehmen hat an der US-Börse Nasdaq zum Handelsstart seinen Ausgabepreis mehr als verdreifacht. Die Anleger hoffen auf einen Corona-Impfstoff.',\n",
       " 'CureVac plant Tests von Corona-Impfstoff in Brasilien und BioNTech/Pfizer laufen bereits.\\xa0 Neben den USA ist Brasilien derzeit einer der Brennpunkte der Corona-Pandemie. Mehr als drei Millionen Menschen haben sich nach offiziellen Angaben mit dem Testlabor Brasilien: Nach AstraZeneca, Sinovac und Pfizer will auch das Tübinger Unternehmen die Wirksamkeit seines Impfstoffs dort testen. Im Herbst soll es losgehen.',\n",
       " 'CureVac erhält Millionenförderung vom BundDas Tübinger Biotechunternehmen CureVac erhält für die Forschung an einem Corona-Impfstoff eine Förderung des Bundes in Höhe von 252 Millionen Euro. Ein Sprecher des Unternehmens, an dem sich auch Der Bund unterstützt die Forschung des Biotechunternehmens mit 252 Millionen Euro. Der Impfstoffkandidat von CureVac wird derzeit an gesunden Erwachsenen getestet.',\n",
       " 'AstraZeneca setzt Tests von Corona-Impfstoff aus zunehmenden politischen Debatte zur baldigen Verfügbarkeit einer Corona-Impfung\\xa0hatte AstraZeneca zuvor zusammen mit acht konkurrierenden Pharma- und Biotechunternehmen versprochen, bei der Entwicklung und Eine der wichtigsten Impfstoffstudien steht vor Problemen: Ein Proband ist erkrankt. Weitere Tests werden vorerst gestoppt. Der Aktienkurs des Herstellers bricht ein.',\n",
       " 'BioNTech und Pfizer starten Corona-Impfstoffstudie in Deutschland Unternehmen bis zu 100 Millionen Impfstoffdosen bis Ende 2020 und über 1,3 Milliarden bis Ende 2021 herstellen. Weltweit gibt es nach Angaben der Weltgesundheitsorganisation WHO gegenwärtig 176 Corona An rund 30.000 Menschen wird der Impfstoffkandidat mit dem Namen BNT162b2 derzeit getestet. Im Idealfall könnte schon im Oktober eine Zulassung beantragt werden.',\n",
       " 'BioNTech will Werk für mögliche Impfstoffproduktion übernehmenDas Mainzer Unternehmen BioNTech plant bereits für die Phase der Herstellung seines möglichen Corona-Impfstoffs und will hierzu die Produktionsstätte des Schweizer Pharmakonzerns Novartis in Marburg Seit Anfang September testet BioNTech einen Impfstoffkandidaten. Im Falle eines Erfolges könnte das Unternehmen im ersten Halbjahr bis zu 250 Millionen Dosen herstellen.',\n",
       " 'BioNTech will USA bei Corona-Impfstoff nicht bevorzugenDas Mainzer Pharmaunternehmen BioNTech hat sich gegen eine bevorzugte Verteilung des von ihm zusammen mit dem US-Konzern Pfizer entwickelten Corona-Impfstoffs zunächst in den USA ausgesprochen. \"Wir Der Impfstoff von BioNTech soll \"gleichmäßig und gerecht\" verteilt werden, sagt Finanzvorstand Sierk Poetting. Die Impfziele der Bundesregierung seien realistisch.',\n",
       " 'BioNTech meldet 90-prozentige Wirksamkeit von ImpfstoffDas Mainzer Biotechunternehmen BioNTech steht mit seinem potenziellen Corona-Impfstoff offenbar vor dem Durchbruch. Aus der entscheidenden Studie mit der Impfung legten BioNTech und sein US-Partner Laut Zwischenergebnissen der Zulassungsstudie senkt der Impfkandidat der Mainzer Firma das Risiko, an Covid-19 zu erkranken, deutlich. Das wäre ein Durchbruch.',\n",
       " 'BioNTech und Pfizer beantragen US-NotfallzulassungDie Mainzer Firma BioNTech und das US-Pharmaunternehmen Pfizer werden bei der US-Arzneimittelbehörde FDA eine Notfallzulassung für ihren Corona-Impfstoff beantragen. Das gaben die Unternehmen Vor Tagen hatte ihr Impfstoff die Phase-3-Studie beendet. Jetzt wollen ihn die deutsche Pharmafirma und ihre US-Partner bei der US-Arzneimittelbehörde genehmigen lassen.',\n",
       " 'Auch AstraZeneca meldet Studienerfolg für hauseigenen ImpfstoffDer von der Universität Oxford und dem Pharmaunternehmen AstraZeneca entwickelte Corona-Impfstoff erreicht nach vorläufigen Studien eine Wirksamkeit von bis zu 90 Prozent. Allerdings unterscheidet Auf der Suche nach einem Corona-Impfstoff erzielten nun auch AstraZeneca und die Uni Oxford einen Durchbruch: Beide meldeten eine Wirksamkeit von bis zu 90 Prozent.',\n",
       " 'Moderna will noch heute EU-Zulassung für Corona-Impfstoff beantragenDer US-Pharmakonzern Moderna will als erstes Unternehmen die Zulassung für einen Corona-Impfstoff in der Europäischen Union beantragen. Der Antrag auf eine bedingte Zulassung solle im Laufe des Tages Mit dem Antrag bei der Ema rückt auch eine Zulassung in Deutschland näher. Die EU-Kommission hat sich bereits 160 Millionen Impfdosen bei dem US-Unternehmen gesichert.',\n",
       " 'CureVac und Bayer schließen Kooperationsvertrag für Corona-ImpfstoffDer Pharmakonzern Bayer und das Tübinger Biotech-Unternehmen CureVac haben einen Kooperations- und Servicevertrag über die Entwicklung eines Corona-Impfstoffes geschlossen. Das teilten die beiden Der Bayer-Konzern will CureVac bei der Auslieferung und Entwicklung des Impfstoffes unterstützen. Im Fall einer Zulassung hat sich die EU 405 Millionen Dosen gesichert.',\n",
       " 'Pfizer reduziert Impfstoff-Lieferungen auch an DeutschlandDer US-Pharmakonzern Pfizer liefert vorübergehend weniger Corona-Impfstoff nach Europa. Angaben der Bundesregierung zufolge ist auch Deutschland betroffen. Grund seien Umbaumaßnahmen im Pfizer-Werk Um mehr Impfstoff herstellen zu können, muss Pfizer die Produktion nach eigenen Angaben zunächst herunterfahren. Ab Ende Februar stünde dann mehr zur Verfügung.',\n",
       " 'AstraZeneca weist Verantwortung zurückDer Chef des Impfstoffherstellers AstraZeneca hat den Verdacht zurückgewiesen, sein Unternehmen liefere für die EU bestimmte Corona-Impfdosen an andere Länder wie Großbritannien. \"Ich denke, wir An den Lieferengpässen des Impfstoffherstellers soll ein verzögerter Vertragsabschluss mit der EU schuld sein. Der Konflikt mit Brüssel spitzt sich weiter zu.',\n",
       " 'AstraZeneca weist Bericht über geringe Wirksamkeit bei Älteren zurück mitgeteilt, der EU zunächst weniger Corona-Impfdosen liefern zu können als vorgesehen. Grund seien Probleme in \"einem Werk in unserer europäischen Lieferkette\". Eine Woche zuvor hatte bereits Pfizer über Laut einem Bericht ist der Corona-Impfstoff von AstraZeneca bei Senioren weniger wirksam. Die EU verlangt wegen Lieferverzögerungen Einblick in die Firmendaten.',\n",
       " 'BioNTech will mehr Impfstoff an die EU liefernBioNTech will im Frühjahr die Lieferung des gemeinsam mit Pfizer entwickelten Corona-Impfstoffs an die Europäische Union erweitern. \"Im zweiten Quartal können bis zu 75 Millionen mehr Impfeinheiten Das Mainzer Unternehmen plant, seine Produktion um mehr als die Hälfte zu steigern. Davon soll bald auch die EU profitieren – mit bis zu 75 Millionen zusätzlichen Dosen.',\n",
       " 'AstraZeneca ist laut Studie mit längerem Impfintervall wirksamerEine umfangreiche neue Studie legt nahe, dass der vom Konzern AstraZeneca und der Oxford-Universität entwickelte Corona-Impfstoff wirksamer ist, wenn zwischen der ersten und der zweiten Impfung mehr Wird erst nach drei Monaten erneut geimpft, bietet die Vakzine den Wissenschaftlern zufolge einen höheren Schutz. Es wären dann auch zunächst mehr Dosen verfügbar.',\n",
       " 'AstraZeneca verteidigt Impfstoff gegen KritikerDer britisch-schwedische Pharmakonzern AstraZeneca hat seinen Corona-Impfstoff gegen die Kritik verteidigt, dieser sei nicht wirksam genug. Tatsächlich schütze die Vakzine zu beinahe hundert Prozent Nach Impfreaktionen wehrt sich AstraZeneca: Sein Corona-Impfstoff sei sicher und effektiv. Vor schweren Verläufen einer Erkrankung schütze das Mittel fast vollständig.',\n",
       " 'AstraZeneca kündigt erneut Kürzung der Impfstofflieferung an EU an Lieferungen zu beschleunigen, muss AstraZeneca enttäuschenderweise eine Kürzung der geplanten Corona-Impfstofflieferungen in die EU ankündigen\", hieß es in einer Mitteilung des Unternehmens. Eigentlich wollte Im ersten Halbjahr sollen 100 Millionen Impfdosen an die EU-Staaten verteilt werden. Geplant waren 220 Millionen. Exportbeschränkungen würden das aber verhindern.',\n",
       " 'Pfizer rechnet mit Corona-Impfstoff zuerst für westliche Länder derzeit knapp ein Dutzend Wirkstoffe in klinischen Studien geprüft werden. Das britisch-schwedische Unternehmen AstraZeneca hofft, sein Produkt Ende des Jahres auf den Markt bringen zu können, sagte Noch gibt es keinen Impfstoff gegen Sars-CoV-2. Doch der US-Pharmakonzern ist sich sicher, wer ihn zuerst erhalten wird – und verweist auf bestehende Technologien.',\n",
       " 'CureVac plant Tests von Corona-Impfstoff in Brasilien von CureVac, der Deutschen Presse-Agentur. Demnach soll die Studie im September oder Oktober beginnen. Damit wird Brasilien zum Testlabor der Welt: Erste Testreihen der Unternehmen AstraZeneca, Sinovac Testlabor Brasilien: Nach AstraZeneca, Sinovac und Pfizer will auch das Tübinger Unternehmen die Wirksamkeit seines Impfstoffs dort testen. Im Herbst soll es losgehen.',\n",
       " 'AstraZeneca setzt Tests von Corona-Impfstoff ausDer Pharmakonzern AstraZeneca hat seine Studien zu einem möglichen Impfstoff gegen das Coronavirus vorübergehend gestoppt. Man müsse den Fall eines Patienten untersuchen, bei dem eine mögliche Eine der wichtigsten Impfstoffstudien steht vor Problemen: Ein Proband ist erkrankt. Weitere Tests werden vorerst gestoppt. Der Aktienkurs des Herstellers bricht ein.',\n",
       " 'BioNTech meldet 90-prozentige Wirksamkeit von Impfstoff britische Arzneimittelhersteller AstraZeneca und der US-Biotechkonzern Moderna zum Kreis der führenden Unternehmen im Rennen um einen Impfstoff. Nach Schätzung der Weltgesundheitsorganisation WHO befinden Laut Zwischenergebnissen der Zulassungsstudie senkt der Impfkandidat der Mainzer Firma das Risiko, an Covid-19 zu erkranken, deutlich. Das wäre ein Durchbruch.',\n",
       " 'AstraZeneca kürzt Impfstofflieferungen in die EU drastischDer britische Pharmakonzern AstraZeneca kürzt die Lieferungen seines Impfstoffs gegen das Coronavirus an die Europäische Union nach Angaben aus EU-Kreisen drastisch. Sollte AstraZeneca die EU Nach Lieferengpässen bei BioNTech gibt es auch mit dem britischen Hersteller AstraZeneca Probleme. Laut einem Insider verspricht er nur noch 31 statt 80 Millionen Dosen.',\n",
       " 'AstraZeneca dementiert Absage von Krisentreffen mit der EUDer britisch-schwedische Impfstoffhersteller AstraZeneca hat die Absage eines Krisentreffens zurückgezogen und will nun doch an dem für diesen Abend geplanten Gespräch teilnehmen. Wie die Deutsche Der Pharmakonzern widerspricht Berichten, wonach ein für Mittwochabend geplantes Treffen mit der EU nicht stattfinden wird. Man werde wie geplant teilnehmen.',\n",
       " 'AstraZeneca weist Bericht über geringe Wirksamkeit bei Älteren zurückDer Impfstoffhersteller AstraZeneca weist Berichte über eine deutlich reduzierte Wirksamkeit seines Impfstoffes bei Menschen über 65 zurück. Die Angaben seien komplett falsch, teilte der Konzern mit Laut einem Bericht ist der Corona-Impfstoff von AstraZeneca bei Senioren weniger wirksam. Die EU verlangt wegen Lieferverzögerungen Einblick in die Firmendaten.',\n",
       " 'BioNTech will mehr Impfstoff an die EU liefern herstellen. Am Sonntag war bereits bekannt geworden, dass die EU etwas mehr Dosen des britisch-schwedischen Impfstoffherstellers AstraZeneca erhalten soll als zuletzt befürchtet. Statt der versprochenen 80 Das Mainzer Unternehmen plant, seine Produktion um mehr als die Hälfte zu steigern. Davon soll bald auch die EU profitieren – mit bis zu 75 Millionen zusätzlichen Dosen.',\n",
       " 'BioNTech und Bayern entwickeln Software zur Impfstoffverteilung Impfstoffe abgeschlossen. Sowohl Pfizer/BioNTech als auch der britische Hersteller AstraZeneca meldeten im Januar jedoch Liefer- und Produktionsengpässe, die dazu führen, dass die vertraglich vereinbarten Wo wird Impfstoff knapp, wo fehlen Mitarbeiter in Impfzentren? All dies soll künftig eine Software erfassen und steuern. Der \"grobe Rahmen\" stehe, teilte BioNTech mit.',\n",
       " 'AstraZeneca kündigt erneut Kürzung der Impfstofflieferung an EU anDas britisch-schwedische Pharmaunternehmen AstraZeneca hat erneut eine Kürzung seiner Impfstofflieferungen in die Europäische Union (EU) angekündigt. Wie das Unternehmen mitteilte, sollten im ersten Im ersten Halbjahr sollen 100 Millionen Impfdosen an die EU-Staaten verteilt werden. Geplant waren 220 Millionen. Exportbeschränkungen würden das aber verhindern.',\n",
       " 'CureVac darf möglichen Corona-Impfstoff klinisch testen Biontech die Genehmigung erhalten, seinen Wirkstoff an gesunden Freiwilligen zu testen. Daneben genehmigte das PEI im April und Mai klinische Studien mit dem Blutplasma von genesenen Corona-Infizierten als Das Tübinger Unternehmen kann seinen Impfstoffkandidaten nun an Freiwilligen überprüfen. Es ist die zweite deutsche Firma mit einer entsprechenden Zulassung.',\n",
       " 'CureVac erhält Millionenförderung vom Bund gestartet. Ende Juli hatte das Ministerium dann mitgeteilt, dass neben CureVac auch die Mainzer Firma BioNTech und das Unternehmen IDT Biologika aus Dessau-Roßlau \"von einem Expertenbeirat\" zur Förderung Der Bund unterstützt die Forschung des Biotechunternehmens mit 252 Millionen Euro. Der Impfstoffkandidat von CureVac wird derzeit an gesunden Erwachsenen getestet.',\n",
       " 'AstraZeneca setzt Tests von Corona-Impfstoff aus Covid-19-Impfstoffe geprüft und letztlich zugelassen werden könnten\", hieß es laut den Unternehmenschefs. Die beteiligten Firmen waren neben AstraZeneca BioNTech, GlaxoSmithKline, Johnson & Johnson, Merck Eine der wichtigsten Impfstoffstudien steht vor Problemen: Ein Proband ist erkrankt. Weitere Tests werden vorerst gestoppt. Der Aktienkurs des Herstellers bricht ein.',\n",
       " 'BioNTech und Pfizer starten Corona-Impfstoffstudie in DeutschlandDas Biotechunternehmen BioNTech testet seinen potenziellen Coronavirus-Impfstoff nun auch in Deutschland. Vom zuständigen Paul-Ehrlich-Institut erhielten die Mainzer Firma und ihr Partner Pfizer An rund 30.000 Menschen wird der Impfstoffkandidat mit dem Namen BNT162b2 derzeit getestet. Im Idealfall könnte schon im Oktober eine Zulassung beantragt werden.',\n",
       " 'Auch AstraZeneca meldet Studienerfolg für hauseigenen Impfstoff Prozent. Das teilte der Pharmakonzern nun mit. Eine mit knapp 95 Prozent noch etwas höher liegende Effektivität hatten vergangene Woche die Mitbewerber Biontech und Pfizer sowie Moderna gemeldet. Bei Auf der Suche nach einem Corona-Impfstoff erzielten nun auch AstraZeneca und die Uni Oxford einen Durchbruch: Beide meldeten eine Wirksamkeit von bis zu 90 Prozent.',\n",
       " 'Moderna will noch heute EU-Zulassung für Corona-Impfstoff beantragen Zulassung erhält. Auch der Mainzer Hersteller BioNTech hat zusammen mit dem US-Konzern Pfizer ein solches Verfahren laufen. BioNTech und Pfizer haben zwar bereits in den USA eine Notfallzulassung beantragt Mit dem Antrag bei der Ema rückt auch eine Zulassung in Deutschland näher. Die EU-Kommission hat sich bereits 160 Millionen Impfdosen bei dem US-Unternehmen gesichert.',\n",
       " 'CureVac und Bayer schließen Kooperationsvertrag für Corona-Impfstoff mit größeren Konzernen zusammenschließen. Die Impfstoffe von BioNTech/Pfizer und von Moderna sind in der EU bereits zugelassen, zudem wird mit der Zulassung von Produkten anderer Wettbewerber gerechnet Der Bayer-Konzern will CureVac bei der Auslieferung und Entwicklung des Impfstoffes unterstützen. Im Fall einer Zulassung hat sich die EU 405 Millionen Dosen gesichert.',\n",
       " 'Pfizer reduziert Impfstoff-Lieferungen auch an Deutschland, dass Pfizer die Liefermenge seines gemeinsam mit BioNTech entwickelten Corona-Impfstoffes an europäische Länder senken werde. \"Die zeitweise Senkung wird alle europäischen Länder betreffen\", hieß es Um mehr Impfstoff herstellen zu können, muss Pfizer die Produktion nach eigenen Angaben zunächst herunterfahren. Ab Ende Februar stünde dann mehr zur Verfügung.',\n",
       " 'AstraZeneca kürzt Impfstofflieferungen in die EU drastisch genutzt. Für kommende Woche wird auch eine Zulassung in der Europäischen Union erwartet. In dieser Woche ist es bereits zu einem Lieferengpass der Impfstoffhersteller BioNTech und Pfizer gekommen Nach Lieferengpässen bei BioNTech gibt es auch mit dem britischen Hersteller AstraZeneca Probleme. Laut einem Insider verspricht er nur noch 31 statt 80 Millionen Dosen.',\n",
       " 'AstraZeneca weist Bericht über geringe Wirksamkeit bei Älteren zurück Vakzine ist einfacher zu transportieren als etwa der Impfstoff der Hersteller BioNTech und Pfizer. Auf Anfrage habe AstraZeneca erklärt, dass die ersten veröffentlichten Daten über die Wirkung des Laut einem Bericht ist der Corona-Impfstoff von AstraZeneca bei Senioren weniger wirksam. Die EU verlangt wegen Lieferverzögerungen Einblick in die Firmendaten.',\n",
       " 'BioNTech und Bayern entwickeln Software zur ImpfstoffverteilungDer Mainzer Impfstoffhersteller BioNTech entwickelt zusammen mit dem Land Bayern eine Software zur besseren Steuerung der Impfstoffverteilung. \"Der grobe Rahmen dafür steht\", sagte eine Wo wird Impfstoff knapp, wo fehlen Mitarbeiter in Impfzentren? All dies soll künftig eine Software erfassen und steuern. Der \"grobe Rahmen\" stehe, teilte BioNTech mit.',\n",
       " 'BioNTech startet Impfstoffproduktion in MarburgDas Mainzer Pharmaunternehmen BioNTech hat mit der Impfstoffproduktion in seiner neuen Produktionsstätte im hessischen Marburg begonnen. Dort werde nun zunächst der mRNA-Wirkstoff hergestellt, von Zunächst wird in den ehemaligen Behringwerken nur der mRNA-Wirkstoff hergestellt. Später sollen es jährlich bis zu 750 Millionen Impfdosen sein.',\n",
       " 'AstraZeneca verteidigt Impfstoff gegen Kritiker Vorbehalte, weil seine Wirksamkeit beim Schutz vor einer Corona-Infektion mit rund 70 Prozent angegeben wird – die Produkte von BioNTech/Pfizer und Moderna sollen dagegen einen mehr als 90-prozentigen Schutz Nach Impfreaktionen wehrt sich AstraZeneca: Sein Corona-Impfstoff sei sicher und effektiv. Vor schweren Verläufen einer Erkrankung schütze das Mittel fast vollständig.',\n",
       " 'AstraZeneca kündigt erneut Kürzung der Impfstofflieferung an EU an) gibt es auch bei anderen Herstellern Unsicherheiten über die Liefermenge. Im zweiten Quartal sollen demnach etwa 40 der erwarteten 60 Millionen Impfdosen von BioNTech und Pfizer eintreffen. Auch der erst Im ersten Halbjahr sollen 100 Millionen Impfdosen an die EU-Staaten verteilt werden. Geplant waren 220 Millionen. Exportbeschränkungen würden das aber verhindern.',\n",
       " 'CureVac startet mit Kurssprung an der BörseDas Tübinger Biotechunternehmen CureVac hat ein starkes Debüt an der US-Technologiebörse Nasdaq absolviert. Die Aktien notierten im frühen Handel bei knapp 49 Dollar mit mehr als dem Dreifachen ihres Das Tübinger Biotechunternehmen hat an der US-Börse Nasdaq zum Handelsstart seinen Ausgabepreis mehr als verdreifacht. Die Anleger hoffen auf einen Corona-Impfstoff.',\n",
       " 'CureVac plant Tests von Corona-Impfstoff in BrasilienDas deutsche Biotech-Unternehmen CureVac will die Wirksam- und Verträglichkeit seines Coronavirus-Impfstoffes in Brasilien testen. Dies sagte die Infektiologin Sue Ann Clemens, Mitglied des Komitees Testlabor Brasilien: Nach AstraZeneca, Sinovac und Pfizer will auch das Tübinger Unternehmen die Wirksamkeit seines Impfstoffs dort testen. Im Herbst soll es losgehen.',\n",
       " 'BioNTech und Pfizer starten Corona-Impfstoffstudie in Deutschland-Impfstoffprojekte, davon befinden sich 34 in der klinischen Erprobung am Menschen.\\xa0 BioNTech war neben dem Tübinger Biotechunternehmen CureVac und dem Unternehmen IDT Biologika aus Dessau-Roßlau für eine Förderung An rund 30.000 Menschen wird der Impfstoffkandidat mit dem Namen BNT162b2 derzeit getestet. Im Idealfall könnte schon im Oktober eine Zulassung beantragt werden.',\n",
       " 'Pfizer rechnet mit Corona-Impfstoff zuerst für westliche Länder, Forschungschef des Gesundheitskonzerns Johnson & Johnson. Der Preis einer Impfdosis werde voraussichtlich nur wenige Dollar betragen, sagte AstraZeneca-Chef Soriot. Noch gibt es keinen Impfstoff gegen Sars-CoV-2. Doch der US-Pharmakonzern ist sich sicher, wer ihn zuerst erhalten wird – und verweist auf bestehende Technologien.',\n",
       " 'AstraZeneca kündigt erneut Kürzung der Impfstofflieferung an EU an Ende der Woche zugelassene Impfstoff von Johnson & Johnson werde frühestens Mitte oder Ende April eintreffen, sagte Spahn in der ARD. Die EU hatte sowohl den USA als auch Großbritannien vorgeworfen Im ersten Halbjahr sollen 100 Millionen Impfdosen an die EU-Staaten verteilt werden. Geplant waren 220 Millionen. Exportbeschränkungen würden das aber verhindern.',\n",
       " 'AstraZeneca setzt Tests von Corona-Impfstoff aus, Moderna, Novavax, Pfizer und Sanofi. Vor allem in den USA ist die Zulassung eines Impfstoffs zuletzt immer mehr zu einem Politikum geworden. US-Präsident Donald Trump verspricht fast täglich, dass es bis Eine der wichtigsten Impfstoffstudien steht vor Problemen: Ein Proband ist erkrankt. Weitere Tests werden vorerst gestoppt. Der Aktienkurs des Herstellers bricht ein.',\n",
       " 'BioNTech und Pfizer beantragen US-Notfallzulassung mRNA-Impfstoff von Moderna. Das Bostoner Unternehmen hatte Anfang der Woche positive Zwischenergebnisse verkündet, wonach sein Impfstoffkandidat eine Effektivität von mehr als 94 Prozent zeige. Moderna Vor Tagen hatte ihr Impfstoff die Phase-3-Studie beendet. Jetzt wollen ihn die deutsche Pharmafirma und ihre US-Partner bei der US-Arzneimittelbehörde genehmigen lassen.',\n",
       " 'AstraZeneca weist Bericht über geringe Wirksamkeit bei Älteren zurück EU noch nicht zugelassen. Am Freitag könnte die EU-Arzneimittelbehörde Ema aber dem entsprechenden Antrag stattgeben. Es wäre der dritte Impfstoff nach BioNTech/Pfizer und Moderna, der in der EU Laut einem Bericht ist der Corona-Impfstoff von AstraZeneca bei Senioren weniger wirksam. Die EU verlangt wegen Lieferverzögerungen Einblick in die Firmendaten.',\n",
       " 'biontech mainzer unternehmen startet internationale impfstudie mit bis zu 30000 menschen',\n",
       " 'curevac impfstoffhersteller ist jetzt doppelt soviel wert wie lufthansa',\n",
       " 'astrazeneca stoppt studien mit coronaimpfstoff der rückschlag',\n",
       " 'biontech euarzneibehörde startet begutachtung von coronavirusimpfstoff',\n",
       " 'biontech und pfizer euvertrag für coronaimpfstoff ausgehandelt',\n",
       " 'biontech und co wo die welt im impfstoffrennen steht',\n",
       " 'astrazeneca und uni oxford der impfstoff für pragmatiker',\n",
       " 'mit biontech/pfizervakzine impfungen in deutschland sollen am 27 dezember starten',\n",
       " 'moderna eubehörde beschleunigt zulassung von usimpfstoff',\n",
       " 'biontech impfstoff könnte für mehr dosen reichen als gedacht',\n",
       " 'biontech pocht auf veränderung bei zulassung mehr dosen aus den fläschchen',\n",
       " 'astrazeneca warum ein weniger wirksamer impfstoff besser ist als gar keiner',\n",
       " 'biontech/pfizerimpfstoff ema genehmigt sechs statt fünf impfdosen pro ampulle',\n",
       " 'astrazeneca berichte über schwachen impfschutz bei senioren sind laut hersteller falsch',\n",
       " 'biontech & co danke liebe reiche',\n",
       " 'von biontech oder astrazeneca ikea bietet kunden in israel coronaimpfungen an',\n",
       " 'biontech und co hände weg von den impfstofflizenzen',\n",
       " 'astrazeneca dänemark setzt coronaimpfungen vorsichtshalber aus',\n",
       " 'astrazeneca usa streiten über impfstoffexporte nach europa',\n",
       " 'astrazeneca der stiefimpfstoff',\n",
       " 'astrazeneca schutz geht vor schaden',\n",
       " 'Astra-Zeneca in der Regel nur noch für Menschen über 60        Der Impfstoff soll von Mittwoch an überwiegend bei Menschen über 60 verwendet werden. Gesundheitsminister Spahn: Ohne Frage ein Rückschlag.',\n",
       " 'Astra-Zeneca nur noch für Menschen ab 60 Jahren        Die Ständige Impfkommission empfiehlt den Corona-Impfstoff von Astrazeneca nur noch für Menschen ab 60 Jahren. Hintergrund seien Daten zum Auftreten seltener, aber sehr schwerer thromboembolischer Nebenwirkungen bei jüngeren Geimpften. ',\n",
       " 'Biontech und Pfizer prüfen Impfstoff an Kindern        Nach Astra-Zeneca prüft nun auch Biontech-Pfizer die Wirkung und Sicherheit ihres RNA-Impfstoffs an jüngeren Kindern. Mit der Impfung könnte Anfang 2022 begonnen werden.     ',\n",
       " 'Biontech/Pfizer testen Corona-Impfstoff an Kindern        Schon seit Herbst prüfen die beiden Unternehmen ihren Impfstoff an Jugendlichen zwischen 12 und 15 Jahren. Jetzt sind auch die Jüngeren dran. In Phase 1 geht es zunächst um die richtige Dosis.',\n",
       " 'Astra-Zeneca lagert fast 30 Millionen Impfdosen in Italien        Der Pharmahersteller hortet Corona-Impfstoff südlich von Rom. Der EVP-Fraktionsvorsitzende ist empört. Das Unternehmen gibt eine Erklärung ab.',\n",
       " 'Astra-Zeneca ist im Labor effektiv gegen die Mutante P.1        Brasilien hat die Corona-Krise nicht nur schlecht gemanagt, auch eine gefährliche Mutante ist dort zuerst aufgetreten. Der brasilianische Virologe Atila Iamarino spricht im Interview über die Variante und Drohungen gegen Forscher.',\n",
       " 'Moderna testet Corona-Impfstoff an Kindern        Der Pharmakonzern Moderna prüft die Wirksamkeit und Verträglichkeit seines Corona-Impfstoffs bei Kindern. Insgesamt sollen mehr als 6000 unter Zwölfjährige an den klinischen Tests teilnehmen.',\n",
       " 'Astra-Zeneca geht (vorerst) und die dritte Welle kommt        Wie es nach dem Impfstopp für das Astra-Zeneca-Vakzin weitergeht. Und welche Erfolge die Berliner Polizei im Kampf gegen Clan-Kriminalität feiert. Der Newsletter für Deutschland.',\n",
       " 'Astra-Zeneca liefert noch weniger        Ursprünglich wollte Astra-Zeneca der EU bis Jahresmitte 300 Millionen Dosen liefern. Mittlerweile kalkuliert der Hersteller nur noch mit 100 Millionen. Derweil reagiert auch Irland auf Zweifel an der Verträglichkeit.',\n",
       " 'Astra-Zeneca kündigt weitere Kürzungen seiner Lieferungen an        Der britisch-schwedische Konzern ist bei den Lieferungen seines Vakzins bereits deutlich im Verzug. Jetzt hat er abermals enttäuschenderweise Kürzungen für die EU angekündigt. Als Grund nennt Astra-Zeneca Exportverbote.',\n",
       " 'Astra-Zeneca auch bei älteren Menschen hochwirksam        Die Impfstoffe von Biontech/Pfizer sowie von Astra-Zeneca haben sich in einer umfangreichen, britischen Studie als hochwirksam bei älteren Menschen erwiesen. Der britische Gesundheitsminister spricht von einer extrem gute Nachricht.\\r',\n",
       " 'Moderna greift Corona-Mutationen an        Impfstoffhersteller Moderna arbeitet gegen Corona-Varianten und weitet die Produktion aus. Im F.A.Z.-Gespräch sagt der Europachef, wie es um Impfstoffe für Kinder steht.',\n",
       " 'Hat Astra-Zeneca schon wieder zu viel versprochen?        Der Pharmakonzern Astra-Zeneca produziert wohl auch im zweiten Quartal weniger als zugesagt. Gesundheitsminister Jens Spahn versucht zu beruhigen.\\r',\n",
       " 'Biontech wehrt sich gegen Wucherpreis-Berichte        Wollte Biontech die EU mit einem Wucherpreis von 54,08 Euro je Dosis über den Tisch ziehen? Der Chef des Mainzer Impfstoffherstellers weist das entschieden zurück – und erklärt die erste Preisberechnung.',\n",
       " 'Curevac startet Zulassungsverfahren mit Europäischer Arzneimittelbehörde        Im Rennen um den Covid-Impfstoff ist das Unternehmen im Rückstand. Aber jetzt geht es in die entscheidende Phase für die Marktzulassung seines Impfstoffes in Europa.',\n",
       " 'Astra-Zeneca ist im Aufschwung        Der Pharmakonzern meldet einen zweistelligem Umsatz- und Gewinnsprung. Für künftige Corona-Mutationen verspricht er neue Impfstoffe innerhalb von sechs bis neun Monaten.',\n",
       " 'Biontech startet Produktion in Marburg        Sobald das neue Werk voll betriebsbereit sei, werde es mit einer jährlichen Kapazität von bis zu 750 Millionen Dosen eine der größten mRNA-Produktionsanlagen in Europa sein, teilt Biontech mit.',\n",
       " 'Astra-Zeneca will mit neuem Partner produzieren        Der britisch-schwedische Pharmakonzern will die Herstellung seines Coronavirus-Vakzins ausweiten. Aber bis die Partnerfirma IDT Biologika produzieren kann, wird es wohl noch etwas dauern.',\n",
       " 'Biontech nimmt Impfstoff-Produktion in Marburg auf        Der Mainzer Wirkstoff-Entwickler Biontech hat die Produktion seines Corona-Impfstoffs in Marburg aufgenommen. Derweil meldet das RKI weniger neue Covid-19-Fälle für Hessen als vor einer Woche.',\n",
       " 'Biontech bekommt Platz        Der Impfstoffhersteller Biontech wächst weiter. Jetzt kann sich das börsendotierte Unternehmen auf einem kaum mehr benötigten Kasernengelände in Mainz ausbreiten. ',\n",
       " 'Pfizer zieht Antrag auf Notfallzulassung zurück        Der Konzern hat einen schnellen Zulassungsweg gesucht, die indischen Behörden verlangen aber zusätzliche Tests. Im Land wird der Impfstoff dringend benötigt – denn schon die Hälfte der Bevölkerung könnte sich mit Corona infiziert haben.\\r',\n",
       " 'Curevac will mit Glaxo-Smith-Kline Impfstoff entwickeln        Das Tübinger Biopharma-Unternehmen schließt eine Kooperation mit dem britischen Pharma-Konzern Glaxo-Smith-Kline, um einen Super-Impfstoff für die aufkommenden Mutanten zu entwickeln.',\n",
       " 'Pfizer rechnet mit 15 Milliarden Dollar Umsatz        Der amerikanische Pharmakonzern hob seine Ziele für das laufende Jahr weiter an. Dabei soll allein das Corona-Vakzin rund ein Viertel der Gesamtumsätze in die Kassen spülen. \\r',\n",
       " 'Biontech verspricht 75 Millionen mehr Impfdosen        Vor dem Corona-Impfgipfel von Bund und Ländern hat das deutsche Pharmaunternehmen Biontech die Lieferung von bis zu 75 Millionen mehr Impfdosen seines Corona-Vakzins für die Europäische Union im zweiten Quartal versprochen. ',\n",
       " 'Curevac plant Kapitalerhöhung        Der Tübinger Impfstoffentwickler testet seinen Impfstoff derzeit noch. Zum ersten Mal seit seinem Börsengang im August will das Unternehmen jetzt frisches Geld von Aktionären einsammeln.',\n",
       " 'Pfizer liefert weniger Impf-Ampullen aus        Der Pharmakonzern Pfizer liefert weniger Ampullen seines Corona-Impfstoffs an die Besteller-Länder aus. Der Konzern beruft sich darauf, dass nun aus jedem Fläschchen bis zu sechs Impfdosen gezogen werden könnten.  ',\n",
       " 'Astra-Zeneca beantragt Zulassung in der EU        Der nächste Corona-Impfstoff steht nach der Beantragung von Astra-Zeneca vor einer Zulassung in der EU. Die EMA-Entscheidung darüber kommt voraussichtlich schon Ende Januar.',\n",
       " 'Curevac und Bayer schließen Impfstoff-Partnerschaft        Im Rennen um die schnellstmögliche Bereitstellung eines Corona-Impfstoffs hat sich der Tübinger Entwickler Curevac die Unterstützung des Pharmariesen Bayer gesichert. ',\n",
       " 'Biontech darf nicht die nächste MP3-Geschichte werden        Matthias Berninger vertritt als Cheflobbyist Bayers Interessen in Washington. Der \\rfrühere Grünen-Politiker erklärt, wie er nach dem Monsanto-Eklat Vertrauen schaffen will und weshalb er sich um die Zukunft der Forschung in Europa sorgt.\\r',\n",
       " 'Curevac geht in die Massentests        Der Tübinger Hersteller arbeitet mit der gleichen Technologie wie Biontech. Der Impfstoff hat dabei aber auch einen großen Vorteil gegenüber dem Konkurrenten. ',\n",
       " 'AstraZeneca kauft Biotechunternehmen Alexion        Schon länger wurde das amerikanische Unternehmen als Übernahmekandidat gehandelt. Jetzt hat der britische Impfstoffhersteller zugeschlagen und baut sein Geschäft im Bereich Immunologie und seltene Erkrankungen aus.',\n",
       " 'Pfizer halbiert Lieferziel für Covid-Impfstoff        Die ursprünglich geplanten 100 Millionen Impfdosen wird Pfizer in diesem Jahr nicht mehr ausliefern können. Ein anfängliches Qualitätsproblem bei den Ausgangsstoffen habe den Aufbau der Lieferkette verlangsamt. ',\n",
       " 'Wie Biontech in Mainz den Grundstein legte        Die Mainzer Uni-Medizin hat Biontech in den Gründungsjahren wegweisend begleitet. Die Fashion Week in Frankfurt ist ein Lichtblick für das kommende Jahr. Die F.A.Z.-Hauptwache blickt auf die Themen des Tages.',\n",
       " 'Auch Biontech beantragt europäische Zulassung        Das Mainzer Unternehmen und Partner Pfizer haben am Montag die Unterlagen für eine bedingte Marktzulassung ihres Corona-Vakzins bei der europäischen Arzneimittelbehörde eingereicht – die will spätestens am 29. Dezember entscheiden. ',\n",
       " 'Moderna beantragt Notfallzulassung in Amerika        Wird die Zulassung zeitnah erteilt, könnten noch vor Jahresende die ersten amerikanischen Bürger gegen Covid-19 geimpft werden. Die Vereinigten Staaten sind das von der Pandemie am verheerendsten betroffene Land.',\n",
       " 'Moderna will noch heute EU-Zulassung für Corona-Impfstoff beantragen        Der amerikanische Pharmakonzern Moderna will als erstes Unternehmen die Zulassung für einen Corona-Impfstoff in der EU beantragen. Erste Impfungen noch in diesem Jahr rücken damit näher.',\n",
       " 'Astra-Zeneca kämpft gegen Zweifel am Impfstoff        Unterschiedliche Ergebnisse zur Wirksamkeit des Impfstoffs des britischen Pharmakonzerns hatten für Verwirrung und Zweifel gesorgt. Nun will Astra-Zeneca die 90-prozentige Wirksamkeit mit einem weiteren Test rasch bestätigen.',\n",
       " 'AstraZeneca und Universität Oxford melden Durchbruch        Nach Angaben des Unternehmens zeigt der Impfstoff im Durchschnitt eine 70-prozentige Wirksamkeit gegen das Corona-Virus.',\n",
       " 'Biontech und Pfizer beantragen Notzulassung in Amerika        Noch in diesem Jahr könnten in Amerika die ersten Impfdosen von Biontech aus Mainz und dem amerikanischen Unternehmen Pfizer ausgeliefert werden. Nach jüngsten Veröffentlichungen sollen die Vakzine eine Wirksamkeitsrate von 95 Prozent haben. ',\n",
       " 'Auch Moderna meldet Erfolg mit Corona-Impfstoff        Bislang ist international noch kein Impfstoff gegen das Coronavirus, an dem weltweit mehr als 1,3 Millionen Menschen gestorben sind, auf dem Markt.',\n",
       " 'Biontech will dieses Jahr bis zu 50 Millionen Dosen liefern        Das Mainzer Biotechunternehmen hält das Impfziel der Bundesregierung, bis zum Sommer 70 Prozent der Bürger zu impfen, für realistisch. BioNTech will seinen Corona-Impfstoff nach eigenen Angaben unterhalb des üblichen Marktpreises verkaufen.',\n",
       " 'Curevac meldet sehr ermutigende Daten        Das Tübinger Biotechunternehmen hat positive Ergebnisse aus der ersten klinischen Studienphase mit dem potentiellen Corona-Impfstoff veröffentlicht. Noch vor Ende des Jahres soll ein groß angelegter Test mit zig tausend Probanden starten.',\n",
       " 'Curevac testet Dosis für Corona-Impfstoff        Reichen 6 Mikrogramm gegen Covid-19? Das Tübinger Biopharma-Unternehmen startet die nächste klinische Studie. Andere Unternehmen sind allerdings schon weiter.',\n",
       " 'Biontech will Werk für mögliche Impfstoffproduktion übernehmen        Biontech will künftig einen möglichen Corona-Impfstoff in Marburg herstellen. Auch der amerikanische Präsident Trump setzt offenbar Hoffnungen auf die Mainzer.',\n",
       " 'AstraZeneca und Universität Oxford setzen Studie fort        Die Universität Oxford hat eine Wiederaufnahme der Tests für ihre Corona-Impfstoffentwicklung mit dem Pharmakonzern AstraZeneca angekündigt. Die Studie war vor wenigen Tagen unterbrochen worden, weil bei einer britischen Probandin mögliche Nebenwirkungen vermeldet worden waren.',\n",
       " 'AstraZeneca setzt Test von Corona-Impfstoff aus        Bei der Suche nach einem Impfstoff gegen Corona gibt es einen möglichen Dämpfer. AstraZeneca stoppt die letzte Testphase, weil ein Proband erkrankt ist. Ob die Krankheit mit der Impfung in Zusammenhang steht, ist aber unklar.',\n",
       " 'AstraZeneca setzt Test von Corona-Impfstoff aus        Bei der Suche nach einem Impfstoff gegen Corona gibt es einen möglichen Dämpfer. AstraZeneca stoppt die letzte Testphase, weil ein Proband erkrankt ist. Ob die Krankheit mit der Impfung in Zusammenhang steht, ist aber unklar.',\n",
       " 'Curevac startet fulminant an der Börse        Das Tübinger Biotech-Unternehmen hat mit dem Börsengang mehr als 200 Millionen Dollar erlöst. Der erste Handelstag startete sehr stark, der Aktienkurs lag weit über dem Ausgabepreis.',\n",
       " 'Biontech mit Liefervereinbarung, Curevac mit Partner        Biontech will mit einem Partner möglicherweise schon von diesem Jahr an 30 Millionen Dosen des Corona-Impfstoffkandidaten BNT162 an Großbritannien liefern. Derweil steigt Pharmakonzern GSK bei Curevac ein.  ',\n",
       " 'Astrazeneca lotet angeblich Fusion mit Gilead aus        In der Pharmabranche könnte es zu einem großen Zusammenschluss kommen: Die Nachrichtenagentur Bloomberg berichtet, der britische Konzern Astrazeneca sei an den Biotech-Rivalen Gilead Sciences aus den Vereinigten Staaten herangetreten.',\n",
       " 'Pfizer bereitet Werke auf Produktion von Corona-Impfstoff vor        Der amerikanische Pharmakonzern arbeitet an einem Impfstoff gegen Corona. Um im Erfolgsfall schnell große Mengen herstellen zu können, will Pfizer Kapazitäten in den eigenen Werken frei machen.',\n",
       " 'Biontech und Pfizer starten klinische Studie für Corona        Laut Paul-Ehrlich-Institut soll der mögliche Impfstoff zunächst an 200 gesunden Personen getestet werden. ',\n",
       " 'Curevac hat kein Angebot von der US-Regierung erhalten        Der angebliche Griff von Donald Trump nach dem an einem Corona-Impfstoff forschenden Unternehmen sorgte für Schlagzeilen. Jetzt sorgt Curevac selbst dafür, dass man sich fragt, was an dieser Sache Fake News sein könnte.\\r',\n",
       " 'Wie Biontech gegen Corona kämpft        Das Biotechunternehmen kooperiert für eine Impfung jetzt mit dem Fosun-Konzern aus China. Bald sollen klinische Tests starten. \\r\\r',\n",
       " 'Biontech muss Apotheke nicht mit Impfstoff beliefern        Die Impfkampagne der Bundesregierung kommt nur schleppend voran. Eine Apotheke wollte ihre Kunden daher selbst mit Impfstoff versorgen und klagte. Doch eine Pflicht zum Vertragsabschluss besteht laut Gericht nicht.',\n",
       " 'Moderna plant Impfstoffwerk im Osten Deutschlands        In zwei Jahren soll ein neues Moderna-Werk in Deutschland die Produktion aufnehmen. Doch das Verhältnis zur Bundesregierung ist angespannt – sie knüpft ihre Unterstützung an eine Bedingung.',\n",
       " 'Biontech will bis zu 75 Millionen Impfdosen mehr an EU liefern        Neue Hoffnung auf mehr Impfstoff: Der Mainzer Hersteller stellt den Europäern mehr Mittel in Aussicht – wenige Stunden vor dem Impfgipfel.',\n",
       " 'Astra-Zeneca will Streit mit der EU beilegen        Im Streit zwischen der EU und dem Impfstoffhersteller Astra-Zeneca zeichnet sich eine Annäherung ab. Brüssel zeigt sich vorsichtig optimistisch, aber beharrt auf seinen Forderungen an das Unternehmen. ',\n",
       " 'Astra-Zeneca will mehr Impfstoff liefern und Vertrag veröffentlichen        Wie die F.A.Z. aus EU-Kreisen erfahren hat, lenkt Astra-Zeneca im Impfstoff-Streit mit der EU ein. Unternehmenschef Pascal Soriot schlug demnach in einem Gespräch beschwichtigende Töne an und will mehr Dosen liefern – aber wie viel mehr? ',\n",
       " 'Curevac startet Studie mit Klinikpersonal        Mit einer neuen Studie erhofft sich Curevac zusätzliche Erkenntnisse über den Impfschutz für besonders gefährdete Bevölkerungsgruppen. Los geht es am Dienstag.',\n",
       " 'Biontech sieht Wendepunkt        Das Mainzer Unternehmen Biontech hat am Dienstag positive Studienergebnisse zur Impfung gegen Covid-19 als Wendepunkt für das Unternehmen bezeichnet. Sein Impfstoff soll eine Wirksamkeitsrate von rund 90 Prozent haben. ',\n",
       " 'Curevac steht kurz vor Börsengang        Das Tübinger Unternehmen startet an diesem Freitag an der Nasdaq. Für Biotechunternehmen bietet die amerikanische Technologiebörse seit Jahren das attraktivere Umfeld.',\n",
       " 'Curevac, Biontec – wie liegen die Deutschen im Impfstoffrennen?        Wer in den vergangenen Monaten in Aktien des Mainzer Unternehmens Biontec investiert hat, ist fein raus. Bei Curevac aus Tübingen ist direkt der deutsche Staat eingestiegen. Der Grund ist immer die Hoffnung auf einen Impfstoff gegen Covid-19.',\n",
       " 'Astra-Zeneca droht Rechtsstreit        Wegen Lieferausfällen möchte die EU-Kommission gegen den Hersteller  Astra-Zeneca (AZ) juristisch vorgehen. Ob AZ gerichtlich zur Verantwortung gezogen werden könnte, ist umstritten. ',\n",
       " 'Ohne Astra-Zeneca keine schnelle Herdenimmunität        Der Vorsitzende des Hausärzteverbandes Berlin und Brandenburg, Dr. Wolfang Kreischer, findet: Mit Astra-Zeneca muss wieder geimpft werden; mit Einschränkungen wenn nötig – Hauptsache impfen. ',\n",
       " 'Astra-Zeneca liefert der EU nun doch mehr Impfstoff        Kommissionspräsidentin Ursula von der Leyen sagte auf Twitter, das Unternehmen werde die EU mit zusätzlichen neun Millionen Impfdosen im ersten Quartal versorgen.',\n",
       " 'Astra-Zeneca liefert der EU nun doch mehr Impfstoff        Nach dem Streit zwischen der Europäischen Union und Astra-Zeneca wird der Hersteller nun doch mehr Dosen liefern. Nun soll immerhin die Hälfte der ursprünglich anvisierten Menge an die EU gehen.']"
      ]
     },
     "execution_count": 12,
     "metadata": {},
     "output_type": "execute_result"
    }
   ],
   "source": [
    "test=[df_translate[\"original_headline\"][i] for i in index_translate]\n",
    "test"
   ]
  },
  {
   "cell_type": "code",
   "execution_count": 13,
   "metadata": {},
   "outputs": [],
   "source": [
    "from googletrans import Translator"
   ]
  },
  {
   "cell_type": "code",
   "execution_count": 14,
   "metadata": {},
   "outputs": [],
   "source": [
    "translator = Translator()\n",
    "translations = translator.translate(test, dest='en')"
   ]
  },
  {
   "cell_type": "code",
   "execution_count": 18,
   "metadata": {},
   "outputs": [
    {
     "data": {
      "text/plain": [
       "141"
      ]
     },
     "execution_count": 18,
     "metadata": {},
     "output_type": "execute_result"
    }
   ],
   "source": [
    "len(translations)"
   ]
  },
  {
   "cell_type": "code",
   "execution_count": 19,
   "metadata": {
    "scrolled": true
   },
   "outputs": [
    {
     "name": "stdout",
     "output_type": "stream",
     "text": [
      "Pfizer expects corona vaccine first for western countries US pharmaceutical company Pfizer expects western countries to be served first as soon as a corona vaccine is on the market. This is due to the technology required, said Pfizer boss. There is still no vaccine against Sars-CoV-2. But the US pharmaceutical company is certain who will receive it first - and is referring to existing technologies.\n",
      "------\n",
      "CureVac may clinically test possible corona vaccine The Tübingen-based company CureVac may begin clinical testing of its vaccine candidate against corona. The responsible Paul Ehrlich Institute (PEI) in Langen granted the company the The Tübingen company can now test its vaccine candidate on volunteers. It is the second German company with a corresponding approval.\n",
      "------\n",
      "CureVac starts with a price jump on the stock exchange issue price. At 16 dollars, they were already at the upper end of the price range. Advances in the development of the corona vaccine had piqued investor interest. The Tübingen-based biotech company more than tripled its issue price on the Nasdaq stock exchange at the start of trading. Investors hope for a corona vaccine.\n",
      "------\n",
      "CureVac plans to test corona vaccine in Brazil and BioNTech / Pfizer are already underway. In addition to the USA, Brazil is currently one of the hot spots of the corona pandemic. According to official information, more than three million people have contacted the test laboratory in Brazil: after AstraZeneca, Sinovac and Pfizer, the Tübingen-based company also wants to test the effectiveness of its vaccine there. It should start in autumn.\n",
      "------\n",
      "The Tübingen-based biotech company CureVac receives federal funding of 252 million euros for research into a corona vaccine. A spokesman for the company, to which the federal government supports the research of the biotech company with 252 million euros. CureVac's vaccine candidate is currently being tested in healthy adults.\n",
      "------\n",
      "AstraZeneca suspends tests of corona vaccine from increasing political debate about the imminent availability of a corona vaccine, AstraZeneca had previously promised together with eight competing pharmaceutical and biotech companies that one of the most important vaccine studies is facing problems: a test person is ill. Further tests will be stopped for the time being. The manufacturer's share price collapses.\n",
      "------\n",
      "BioNTech and Pfizer start corona vaccine study in Germany Companies will manufacture up to 100 million vaccine doses by the end of 2020 and over 1.3 billion by the end of 2021. According to the World Health Organization, there are currently 176 coronaviruses worldwide. The vaccine candidate with the name BNT162b2 is currently being tested on around 30,000 people. Ideally, approval could be applied for as early as October.\n",
      "------\n",
      "BioNTech wants to take over plant for possible vaccine production The Mainz-based company BioNTech is already planning the production phase of its possible corona vaccine and wants the production facility of the Swiss pharmaceutical company Novartis in Marburg. BioNTech has been testing a vaccine candidate since the beginning of September. If successful, the company could manufacture up to 250 million cans in the first half of the year.\n",
      "------\n",
      "BioNTech does not want to give preference to the USA for corona vaccines The Mainz-based pharmaceutical company BioNTech has initially spoken out against preferential distribution of the corona vaccine it has developed together with the US company Pfizer in the USA. \"We BioNTech's vaccine should be distributed\" evenly and fairly, \"says CFO Sierk Poetting, adding that the federal government's vaccination targets are realistic.\n",
      "------\n",
      "BioNTech reports vaccine is 90 percent effective The Mainz biotech company BioNTech is apparently on the verge of a breakthrough with its potential corona vaccine. BioNTech and its US partner based the crucial study with the vaccination. According to the interim results of the approval study, the Mainz company's vaccination candidate significantly reduces the risk of developing Covid-19. That would be a breakthrough.\n",
      "------\n",
      "BioNTech and Pfizer apply for US emergency approval The Mainz-based company BioNTech and the US pharmaceutical company Pfizer will apply to the US FDA for emergency approval for their corona vaccine. The companies announced Days ago, their vaccine had completed the phase 3 study. Now the German pharmaceutical company and its US partners want to have it approved by the US Medicines Agency.\n",
      "------\n",
      "AstraZeneca also reports study success for in-house vaccine The corona vaccine developed by Oxford University and the pharmaceutical company AstraZeneca achieves an effectiveness of up to 90 percent according to preliminary studies. However, in the search for a corona vaccine, AstraZeneca and the University of Oxford have now also achieved a breakthrough: Both reported an effectiveness of up to 90 percent.\n",
      "------\n",
      "Moderna wants to apply for EU approval for corona vaccine today The US pharmaceutical company Moderna wants to be the first company to apply for approval for a corona vaccine in the European Union. The application for a conditional admission should be in the course of the day. With the application to Ema, admission in Germany is getting closer. The EU Commission has already secured 160 million vaccine doses from the US company.\n",
      "------\n",
      "The pharmaceutical company Bayer and the Tübingen-based biotech company CureVac have signed a cooperation and service agreement for the development of a corona vaccine. The two shared that The Bayer Group wants to support CureVac with the delivery and development of the vaccine. In the event of approval, the EU has secured 405 million doses.\n",
      "------\n",
      "Pfizer is also reducing vaccine deliveries to Germany The US pharmaceutical company Pfizer is temporarily delivering fewer corona vaccines to Europe. According to the federal government, Germany is also affected. The reason is rebuilding measures at the Pfizer plant. According to its own statements, Pfizer must first shut down production in order to be able to produce more vaccine. More would then be available from the end of February.\n",
      "------\n",
      "AstraZeneca rejects responsibility: The boss of the vaccine manufacturer AstraZeneca has denied the suspicion that his company supplies corona vaccine doses intended for the EU to other countries such as the UK. \"I think we are to blame for the vaccine manufacturer's delivery bottlenecks, a delay in signing a contract with the EU. The conflict with Brussels is worsening.\n",
      "------\n",
      "AstraZeneca rejects report on low efficacy in the elderly and has announced that it will initially be able to deliver fewer corona vaccine doses to the EU than planned. The reason is problems in \"a plant in our European supply chain\". A week earlier, Pfizer had already had over, according to a report, AstraZeneca's corona vaccine is less effective in seniors. Due to delivery delays, the EU requires insight into company data.\n",
      "------\n",
      "BioNTech wants to deliver more vaccine to the EUBioNTech wants to expand the delivery of the corona vaccine developed together with Pfizer to the European Union in the spring. \"Up to 75 million more vaccination units can be used in the second quarter. The Mainz-based company is planning to increase its production by more than half. The EU should soon benefit from this - with up to 75 million additional doses.\n",
      "------\n",
      "AstraZeneca is more effective, according to study with longer vaccination intervals A comprehensive new study suggests that the corona vaccine developed by the AstraZeneca corporation and Oxford University is more effective if more between the first and second vaccination According to the scientists, vaccines provide greater protection. Initially, more cans would then also be available.\n",
      "------\n",
      "AstraZeneca defends vaccine against critics The British-Swedish pharmaceutical company AstraZeneca has defended its corona vaccine against criticism that it is not effective enough. In fact, the vaccine protects almost one hundred percent. After vaccination reactions, AstraZeneca defends itself: Its corona vaccine is safe and effective. The remedy almost completely protects against severe disease.\n",
      "------\n",
      "AstraZeneca announces again cuts in vaccine deliveries to EU to accelerate deliveries, disappointingly AstraZeneca has to announce a cut in planned corona vaccine deliveries to the EU \", it said in a message from the company. States are to be distributed. 220 million were planned, but export restrictions would prevent that.\n",
      "------\n",
      "Pfizer expects corona vaccine to be tested in clinical trials first for western countries. The British-Swedish company AstraZeneca hopes to bring its product to market by the end of the year, said there is still no vaccine against Sars-CoV-2. But the US pharmaceutical company is certain who will receive it first - and is referring to existing technologies.\n",
      "------\n",
      "CureVac is planning tests of corona vaccine in Brazil by CureVac, the German press agency. Accordingly, the study should begin in September or October. This makes Brazil the world's test laboratory: First series of tests by the companies AstraZeneca, Sinovac Test laboratory Brazil: After AstraZeneca, Sinovac and Pfizer, the Tübingen-based company also wants to test the effectiveness of its vaccine there. It should start in autumn.\n",
      "------\n",
      "AstraZeneca suspends testing of corona vaccine The pharmaceutical company AstraZeneca has temporarily stopped its studies on a possible vaccine against the corona virus. One of the most important vaccine studies is facing problems: a subject is ill. Further tests will be stopped for the time being. The manufacturer's share price collapses.\n",
      "------\n",
      "BioNTech announces 90 percent effectiveness of vaccine British drug manufacturer AstraZeneca and US biotech group Moderna are among the leaders in the race for a vaccine. According to estimates by the World Health Organization, according to the interim results of the approval study, the vaccine candidate from the Mainz-based company significantly reduces the risk of developing Covid-19. That would be a breakthrough.\n",
      "------\n",
      "AstraZeneca drastically cuts vaccine deliveries to the EU According to information from EU circles, the British pharmaceutical company AstraZeneca is drastically cutting deliveries of its vaccine against the coronavirus to the European Union. Should AstraZeneca join the EU After delivery bottlenecks at BioNTech, there are also problems with the British manufacturer AstraZeneca. According to an insider, he promises only 31 instead of 80 million doses.\n",
      "------\n",
      "AstraZeneca denies cancellation of crisis meeting with the EU The British-Swedish vaccine manufacturer AstraZeneca has withdrawn the cancellation of a crisis meeting and now wants to take part in the conversation planned for this evening. How the German pharmaceutical company contradicts reports that a meeting with the EU scheduled for Wednesday evening will not take place. One will participate as planned.\n",
      "------\n",
      "AstraZeneca rejects report of poor efficacy in the elderly Vaccine maker AstraZeneca rejects reports of significantly reduced efficacy of its vaccine in people over 65. The information is completely wrong, the company said. According to a report, AstraZeneca's corona vaccine is less effective in seniors. Due to delivery delays, the EU requires insight into company data.\n",
      "------\n",
      "BioNTech wants to supply more vaccine to the EU. On Sunday it became known that the EU should receive slightly more doses from the British-Swedish vaccine manufacturer AstraZeneca than recently feared. Instead of the promised 80, the Mainz-based company plans to increase its production by more than half. The EU should also benefit from this soon - with up to 75 million additional doses.\n",
      "------\n",
      "BioNTech and Bavaria develop software for vaccine distribution Vaccines completed. However, both Pfizer / BioNTech and the British manufacturer AstraZeneca reported supply and production bottlenecks in January, which are leading to the contractually agreed Where is vaccine scarce, where is there a shortage of employees in vaccination centers? All of this is to be recorded and controlled by software in the future. BioNTech announced that the \"rough framework\" was in place.\n",
      "------\n",
      "AstraZeneca announces another cut in vaccine deliveries to the EU The British-Swedish pharmaceutical company AstraZeneca has again announced a cut in its vaccine deliveries to the European Union (EU). As the company announced, 100 million vaccine doses should be distributed to the EU countries in the first half of the year. 220 million were planned. However, export restrictions would prevent that.\n",
      "------\n",
      "CureVac may clinically test possible corona vaccine Biontech received approval to test its active ingredient on healthy volunteers. In addition, the PEI approved clinical studies with the blood plasma of recovered corona infected people in April and May as the Tübingen-based company can now test its vaccine candidate on volunteers. It is the second German company with a corresponding approval.\n",
      "------\n",
      "CureVac receives millions in funding from the federal government. At the end of July, the ministry announced that, in addition to CureVac, the Mainz company BioNTech and the company IDT Biologika from Dessau-Roßlau were \"from an expert advisory board\" for funding. The federal government is supporting the research of the biotech company with 252 million euros. CureVac's vaccine candidate is currently being tested in healthy adults.\n",
      "------\n",
      "AstraZeneca continues tests of corona vaccine from Covid-19 vaccines could be examined and ultimately approved \", it said according to the company bosses. The companies involved were AstraZeneca BioNTech, GlaxoSmithKline, Johnson & Johnson, Merck One of the most important vaccine studies is facing problems: A test person fell ill. Further tests were stopped for the time being. The manufacturer's share price collapsed.\n",
      "------\n",
      "BioNTech and Pfizer start corona vaccine study in Germany The biotech company BioNTech is now testing its potential coronavirus vaccine in Germany. The Mainz-based company and its partner Pfizer received from the responsible Paul Ehrlich Institute the vaccine candidate with the name BNT162b2 is currently being tested on around 30,000 people. Ideally, approval could be applied for as early as October.\n",
      "------\n",
      "AstraZeneca also reports study success for in-house vaccine percent. The pharmaceutical company has now announced this. Last week, competitors Biontech and Pfizer as well as Moderna reported a slightly higher effectiveness of almost 95 percent. In their search for a corona vaccine, AstraZeneca and Oxford University have now achieved a breakthrough: Both reported an effectiveness of up to 90 percent.\n",
      "------\n",
      "Moderna wants to apply for EU approval for corona vaccine today. Approval received. The Mainz-based manufacturer BioNTech has also run such a process together with the US company Pfizer. BioNTech and Pfizer have already applied for emergency approval in the USA. With the application to Ema, approval in Germany is also getting closer. The EU Commission has already secured 160 million vaccine doses from the US company.\n",
      "------\n",
      "CureVac and Bayer enter into cooperation agreement for corona vaccine with larger corporations. The vaccines from BioNTech / Pfizer and Moderna are already approved in the EU, and products from other competitors are expected to be approved. The Bayer Group wants to support CureVac in the delivery and development of the vaccine. In the event of approval, the EU has secured 405 million doses.\n",
      "------\n",
      "Pfizer is also reducing vaccine deliveries to Germany, saying that Pfizer will reduce the delivery volume of its corona vaccine, which it developed together with BioNTech, to European countries. \"The temporary reduction will affect all European countries,\" it said. In order to be able to produce more vaccine, Pfizer must first shut down production according to its own information. More would then be available from the end of February.\n",
      "------\n",
      "AstraZeneca drastically cuts vaccine shipments to the EU. Approval in the European Union is also expected for the coming week. This week the vaccine manufacturers BioNTech and Pfizer already experienced a delivery bottleneck. After delivery bottlenecks at BioNTech, there are also problems with the British manufacturer AstraZeneca. According to an insider, he promises only 31 instead of 80 million doses.\n",
      "------\n",
      "AstraZeneca rejects report of low efficacy in the elderly. Vaccine is easier to transport than vaccines from manufacturers BioNTech and Pfizer. Upon request, AstraZeneca stated that the first published data on the effects of the AstraZeneca corona vaccine is less effective in seniors, according to a report. Due to delivery delays, the EU requires insight into company data.\n",
      "------\n",
      "BioNTech and Bavaria develop software for vaccine distributionThe Mainz vaccine manufacturer BioNTech is working with the State of Bavaria to develop software for better control of vaccine distribution. \"The rough framework for this is in place,\" said one Where is vaccine scarce, where is there a lack of staff in vaccination centers? All of this is to be recorded and controlled by software in the future. BioNTech announced that the \"rough framework\" was in place.\n",
      "------\n",
      "BioNTech starts vaccine production in Marburg The Mainz-based pharmaceutical company BioNTech has started vaccine production in its new production facility in Marburg, Hesse. There, the mRNA active ingredient is first produced, by First only the mRNA active ingredient is produced in the former Behring works. Later it should be up to 750 million vaccine doses annually.\n",
      "------\n",
      "AstraZeneca defends vaccine against critics' reservations because its effectiveness in protecting against corona infection is reported to be around 70 percent - the products from BioNTech / Pfizer and Moderna, on the other hand, are said to provide more than 90 percent protection. Vaccine is safe and effective. The remedy almost completely protects against severe disease.\n",
      "------\n",
      "AstraZeneca announces another cut in vaccine deliveries to the EU) There are also uncertainties about the delivery quantity from other manufacturers. In the second quarter, about 40 of the expected 60 million vaccine doses from BioNTech and Pfizer are expected to arrive. Also in the first half of the year 100 million vaccine doses are to be distributed to the EU countries. 220 million were planned. However, export restrictions would prevent that.\n",
      "------\n",
      "The Tübingen-based biotech company CureVac made a strong debut on the US technology exchange Nasdaq. In early trading, the shares were quoted at just under $ 49, which is more than three times their value. The Tübingen-based biotech company more than tripled its issue price on the Nasdaq stock exchange at the start of trading. Investors hope for a corona vaccine.\n",
      "------\n",
      "CureVac plans tests of corona vaccine in Brazil The German biotech company CureVac wants to test the effectiveness and tolerability of its coronavirus vaccine in Brazil. This is what the infectiologist Sue Ann Clemens, member of the Brazil Test Laboratory Committee, said: After AstraZeneca, Sinovac and Pfizer, the Tübingen-based company also wants to test the effectiveness of its vaccine there. It should start in autumn.\n",
      "------\n",
      "BioNTech and Pfizer start corona vaccine study in Germany vaccine projects, 34 of which are in clinical trials on humans. BioNTech was next to the Tübingen biotech company CureVac and the company IDT Biologika from Dessau-Roßlau for funding. The vaccine candidate with the name BNT162b2 is currently being tested on around 30,000 people. Ideally, approval could be applied for as early as October.\n",
      "------\n",
      "Pfizer expects corona vaccine first for western countries, head of research at the health company Johnson & Johnson. The price of a vaccine dose is expected to be only a few dollars, said AstraZeneca boss Soriot. There is still no vaccine against Sars-CoV-2. But the US pharmaceutical company is certain who will receive it first - and is referring to existing technologies.\n",
      "------\n",
      "AstraZeneca announces again cuts in vaccine deliveries to the EU at the end of the week, vaccine from Johnson & Johnson will arrive at the earliest in mid or late April, Spahn said on ARD. The EU had accused both the USA and Great Britain. In the first half of the year, 100 million vaccine doses are to be distributed to the EU countries. 220 million were planned. However, export restrictions would prevent that.\n",
      "------\n",
      "AstraZeneca suspends corona vaccine testing, Moderna, Novavax, Pfizer, and Sanofi. In the USA in particular, the approval of a vaccine has recently become more and more of a political issue. Almost every day, US President Donald Trump promises that one of the most important vaccine studies is facing problems: a subject is ill. Further tests will be stopped for the time being. The manufacturer's share price collapses.\n",
      "------\n",
      "BioNTech and Pfizer apply for US emergency approval mRNA vaccine from Moderna. The Boston company had announced positive interim results earlier this week, according to which its vaccine candidate showed an effectiveness of more than 94 percent. Moderna Days ago her vaccine had finished the phase 3 study. Now the German pharmaceutical company and its US partners want to have it approved by the US Medicines Agency.\n",
      "------\n",
      "AstraZeneca rejects report of low efficacy in the elderly EU not yet approved. On Friday, however, the EU Medicines Agency Ema could grant the corresponding application. It would be the third vaccine after BioNTech / Pfizer and Moderna to be available in the EU, AstraZeneca's corona vaccine is less effective in seniors, according to a report. Due to delivery delays, the EU requires insight into company data.\n",
      "------\n",
      "biontech mainzer company starts international vaccination study with up to 30,000 people\n",
      "------\n",
      "curevac vaccine manufacturer is now worth twice as much as lufthansa\n",
      "------\n",
      "astrazeneca stops studies with corona vaccine the setback\n",
      "------\n",
      "biontech eu drug authority starts assessment of coronavirus vaccine\n",
      "------\n",
      "biontech and pfizer negotiated eu contract for corona vaccine\n",
      "------\n",
      "biontech and co where the world is in the vaccine race\n",
      "------\n",
      "astrazeneca and uni oxford the vaccine for pragmatic people\n",
      "------\n",
      "biontech / pfizervakzine vaccinations in germany should start on december 27th\n",
      "------\n",
      "moderna eu authority accelerates approval of us vaccine\n",
      "------\n",
      "biontech vaccine could be enough for more doses than expected\n",
      "------\n",
      "biontech insists on changes if more doses are approved from the bottles\n",
      "------\n",
      "astrazeneca why a less effective vaccine is better than none at all\n",
      "------\n",
      "biontech / pfizer vaccine ema approves six instead of five vaccine doses per ampoule\n",
      "------\n",
      "astrazeneca reports about poor vaccination protection in seniors are wrong according to the manufacturer\n",
      "------\n",
      "biontech & co thank you dear rich\n",
      "------\n",
      "from biontech or astrazeneca ikea offers customers in israel corona vaccinations\n",
      "------\n",
      "biontech and co hands away from vaccine licenses\n",
      "------\n",
      "astrazeneca denmark is suspending corona vaccinations as a precaution\n",
      "------\n",
      "astrazeneca usa dispute over vaccine exports to europe\n",
      "------\n",
      "astrazeneca the step vaccine\n",
      "------\n",
      "astrazeneca protection takes precedence over damage\n",
      "------\n",
      "Astra-Zeneca usually only for people over 60. From Wednesday onwards, the vaccine will mainly be used in people over 60. Health Minister Spahn: Without a doubt, a setback.\n",
      "------\n",
      "Astra-Zeneca only for people over 60 years of age The Standing Vaccination Commission recommends Astrazeneca's corona vaccine only for people over 60 years of age. The background is data on the occurrence of rare but very severe thromboembolic side effects in younger people who have been vaccinated.\n",
      "------\n",
      "Biontech and Pfizer test vaccine on children After Astra-Zeneca, Biontech-Pfizer is now also testing the effectiveness and safety of its RNA vaccine on younger children. Vaccination could start in early 2022.\n",
      "------\n",
      "Biontech / Pfizer test corona vaccine on children The two companies have been testing their vaccine on adolescents between 12 and 15 years of age since autumn. Now it's the turn of the younger ones too. Phase 1 is all about the right dose.\n",
      "------\n",
      "Astra-Zeneca stores almost 30 million vaccine doses in Italy The pharmaceutical manufacturer is hoarding corona vaccine south of Rome. The Chairman of the EPP Group is outraged. The company makes a statement.\n",
      "------\n",
      "Astra-Zeneca is effective in the laboratory against mutant P.1 Brazil not only managed the corona crisis poorly, a dangerous mutant also appeared there first. The Brazilian virologist Atila Iamarino speaks in an interview about the variant and threats against researchers.\n",
      "------\n",
      "Moderna tests corona vaccine on children The pharmaceutical company Moderna is testing the effectiveness and tolerability of its corona vaccine in children. In total, more than 6,000 under twelve-year-olds will take part in the clinical tests.\n",
      "------\n",
      "Astra-Zeneca is going (for the time being) and the third wave is coming How things will continue after the vaccination stop for the Astra-Zeneca vaccine. And what success the Berlin police are celebrating in the fight against clan crime. The newsletter for Germany.\n",
      "------\n",
      "Astra-Zeneca delivers even less Originally, Astra-Zeneca wanted to deliver 300 million cans to the EU by the middle of the year. The manufacturer now only calculates at 100 million. In the meantime, Ireland is also reacting to doubts about compatibility.\n",
      "------\n",
      "Astra-Zeneca announces further cuts in its deliveries The British-Swedish group is already significantly behind with deliveries of its vaccine. Now, disappointingly, he has announced cuts for the EU. Astra-Zeneca cites export bans as the reason.\n",
      "------\n",
      "Astra-Zeneca also highly effective in older people The vaccines from Biontech / Pfizer and Astra-Zeneca have been shown to be highly effective in older people in an extensive British study. The British Minister of Health speaks of extremely good news.\n",
      "------\n",
      "Moderna attacks corona mutations Vaccine manufacturer Moderna is working against corona variants and is expanding production. In the F.A.Z. conversation, the European boss says what about vaccines for children.\n",
      "------\n",
      "Has Astra-Zeneca promised too much again? The pharmaceutical company Astra-Zeneca will probably produce less than promised in the second quarter as well. Health Minister Jens Spahn tries to calm down.\n",
      "------\n",
      "Biontech defends itself against exorbitant price reports Did Biontech want to riot the EU with an exorbitant price of 54.08 euros per dose? The head of the Mainz vaccine manufacturer rejects this decidedly - and explains the first price calculation.\n",
      "------\n",
      "Curevac starts approval process with European Medicines Agency The company is behind in the race for the Covid vaccine. But now the crucial phase for the marketing approval of his vaccine in Europe is about to begin.\n",
      "------\n",
      "Astra-Zeneca is on the upswing The pharmaceutical company reports a double-digit jump in sales and profits. For future corona mutations, he promises new vaccines within six to nine months.\n",
      "------\n",
      "Biontech starts production in Marburg As soon as the new plant is fully operational, it will be one of the largest mRNA production facilities in Europe with an annual capacity of up to 750 million doses, Biontech announced.\n",
      "------\n",
      "Astra-Zeneca wants to produce with a new partner The British-Swedish pharmaceutical company wants to expand the production of its coronavirus vaccine. But it will take some time before the partner company IDT can produce biologics.\n",
      "------\n",
      "Biontech starts vaccine production in Marburg The Mainz-based drug developer Biontech has started production of its corona vaccine in Marburg. Meanwhile, the RKI reports fewer new Covid-19 cases for Hesse than a week ago.\n",
      "------\n",
      "Biontech gets space The vaccine manufacturer Biontech continues to grow. Now the listed company can expand on a barracks site in Mainz that is hardly needed any more.\n",
      "------\n",
      "Pfizer withdraws application for emergency approval The company has sought a quick approval route, but the Indian authorities are demanding additional tests. The vaccine is urgently needed in the country - because half of the population could have been infected with Corona.\n",
      "------\n",
      "Curevac wants to develop vaccine with Glaxo-Smith-Kline The Tübingen-based biopharmaceutical company enters into a cooperation with the British pharmaceutical company Glaxo-Smith-Kline to develop a super vaccine for the emerging mutants.\n",
      "------\n",
      "Pfizer expects sales of $ 15 billion. The American pharmaceutical company raised its targets for the current year. The corona vaccine alone is said to flush around a quarter of total sales into the coffers.\n",
      "------\n",
      "Biontech promises 75 million more vaccine doses Before the federal and state corona vaccination summit, the German pharmaceutical company Biontech promised to deliver up to 75 million more doses of its corona vaccine for the European Union in the second quarter.\n",
      "------\n",
      "Curevac plans capital increase The vaccine developer from Tübingen is currently still testing its vaccine. For the first time since going public in August, the company is now looking to raise fresh money from shareholders.\n",
      "------\n",
      "Pfizer delivers fewer vaccine ampoules The pharmaceutical company Pfizer is delivering fewer ampoules of its corona vaccine to the ordering countries. The group claims that up to six vaccine doses can now be drawn from each bottle.\n",
      "------\n",
      "Astra-Zeneca applies for approval in the EU The next corona vaccine is about to be approved in the EU after the application by Astra-Zeneca. The EMA decision on this is expected to come at the end of January.\n",
      "------\n",
      "Curevac and Bayer enter into vaccine partnership In the race to provide a corona vaccine as quickly as possible, the Tübingen-based developer Curevac has secured the support of the pharmaceutical giant Bayer.\n",
      "------\n",
      "Biontech must not become the next MP3 story Matthias Berninger represents Bayer's interests in Washington as chief lobbyist. Of the\r",
      "former Green politician explains how he wants to build trust after the Monsanto scandal and why he is concerned about the future of research in Europe.\n",
      "------\n",
      "Curevac goes into mass tests The Tübingen manufacturer works with the same technology as Biontech. The vaccine also has a major advantage over its competitor.\n",
      "------\n",
      "AstraZeneca buys biotech company Alexion The American company has long been considered a takeover candidate. Now the British vaccine manufacturer has struck and is expanding its immunology and rare diseases business.\n",
      "------\n",
      "Pfizer halves delivery target for Covid vaccine Pfizer will no longer be able to deliver the originally planned 100 million vaccine doses this year. An initial quality problem with the raw materials slowed down the development of the supply chain.\n",
      "------\n",
      "How Biontech laid the foundation stone in Mainz Mainz University Medical Center supported Biontech in a pioneering manner during the founding years. The Fashion Week in Frankfurt is a bright spot for the coming year. The F.A.Z.-Hauptwache looks at the topics of the day.\n",
      "------\n",
      "Biontech also applies for European approval The Mainz-based company and partner Pfizer submitted the documents for a conditional market approval of their corona vaccine to the European Medicines Agency on Monday - which will decide by December 29th at the latest.\n",
      "------\n",
      "Moderna applies for emergency approval in America If approval is granted promptly, the first American citizens could be vaccinated against Covid-19 before the end of the year. The United States is the country most devastated by the pandemic.\n",
      "------\n",
      "Moderna wants to apply for EU approval for corona vaccine today The American pharmaceutical company Moderna wants to be the first company to apply for approval for a corona vaccine in the EU. The first vaccinations this year are getting closer.\n",
      "------\n",
      "Astra-Zeneca fights against doubts about vaccine Different results on the effectiveness of the vaccine of the British pharmaceutical company had caused confusion and doubts. Now Astra-Zeneca wants to quickly confirm the 90 percent effectiveness with another test.\n",
      "------\n",
      "AstraZeneca and Oxford University Report Breakthrough According to the company, the vaccine shows an average of 70 percent effectiveness against the corona virus.\n",
      "------\n",
      "Biontech and Pfizer apply for emergency approval in America The first vaccination doses from Biontech from Mainz and the American company Pfizer could be delivered in America this year. According to recent publications, the vaccines are said to have an effectiveness rate of 95 percent.\n",
      "------\n",
      "Moderna also reports success with corona vaccine So far, there is still no international vaccine against the corona virus, from which more than 1.3 million people have died worldwide, on the market.\n",
      "------\n",
      "Biontech wants to deliver up to 50 million doses this year The Mainz-based biotech company considers the federal government's vaccination target of vaccinating 70 percent of the population by the summer to be realistic. BioNTech wants to sell its corona vaccine below the usual market price according to its own information.\n",
      "------\n",
      "Curevac reports very encouraging data The Tübingen-based biotech company has published positive results from the first phase of clinical trials with the potential corona vaccine. Before the end of the year, a large-scale test with tens of thousands of test subjects should start.\n",
      "------\n",
      "Curevac tests dose for corona vaccine Are 6 micrograms enough against Covid-19? The Tübingen-based biopharmaceutical company is starting the next clinical study. However, other companies are already further.\n",
      "------\n",
      "Biontech wants to take over the plant for possible vaccine production Biontech wants to manufacture a possible corona vaccine in Marburg in the future. The American President Trump also apparently has hopes for the Mainz team.\n",
      "------\n",
      "AstraZeneca and Oxford University continue study Oxford University has announced a resumption of testing for its corona vaccine development with pharmaceutical company AstraZeneca. The study had been interrupted a few days ago because possible side effects had been reported in a British subject.\n",
      "------\n",
      "AstraZeneca Suspends Corona Vaccine Testing There is a possible damper in the search for a corona vaccine. AstraZeneca stops the final test phase because a test person is ill. It is unclear whether the disease is vaccinated or not.\n",
      "------\n",
      "AstraZeneca Suspends Corona Vaccine Testing There is a possible damper in the search for a corona vaccine. AstraZeneca stops the final test phase because a test person is ill. It is unclear whether the disease is vaccinated or not.\n",
      "------\n",
      "Curevac has a brilliant start on the stock exchange The Tübingen-based biotech company raised more than 200 million dollars with the IPO. The first day of trading got off to a strong start, with the share price well above the issue price.\n",
      "------\n",
      "Biontech with a supply agreement, Curevac with partner Biontech and a partner may want to deliver 30 million doses of the corona vaccine candidate BNT162 to Great Britain as early as this year. Meanwhile, pharmaceutical company GSK is investing in Curevac.\n",
      "------\n",
      "Astrazeneca allegedly explores merger with Gilead A major merger could occur in the pharmaceutical industry: The Bloomberg news agency reports that the British company Astrazeneca has approached biotech rival Gilead Sciences from the United States.\n",
      "------\n",
      "Pfizer prepares plants for production of corona vaccine The American pharmaceutical company is working on a vaccine against corona. In order to be able to produce large quantities quickly if it is successful, Pfizer wants to free up capacities in its own factories.\n",
      "------\n",
      "Biontech and Pfizer start clinical study for Corona According to the Paul Ehrlich Institute, the possible vaccine should first be tested on 200 healthy people.\n",
      "------\n",
      "Curevac has not received an offer from the US government Donald Trump's alleged grip on the corona vaccine research company made headlines. Now Curevac itself is making sure that one wonders what could be fake news about this matter.\n",
      "------\n",
      "How Biontech is fighting against Corona The biotech company is now cooperating with the Fosun Group from China for a vaccination. Clinical tests are due to start soon.\n",
      "------\n",
      "Biontech does not have to supply pharmacies with vaccines The federal government's vaccination campaign is making slow progress. A pharmacy wanted to supply its customers with vaccine itself and complained. However, according to the court, there is no obligation to conclude a contract.\n",
      "------\n",
      "Moderna plans vaccine plant in eastern Germany A new Moderna plant in Germany should start production in two years. But the relationship with the federal government is strained - it ties its support to one condition.\n",
      "------\n",
      "Biontech wants to deliver up to 75 million more vaccine doses to the EU New hope for more vaccines: The Mainz manufacturer promises Europeans more funding - a few hours before the vaccination summit.\n",
      "------\n",
      "Astra-Zeneca wants to settle the dispute with the EU In the dispute between the EU and the vaccine manufacturer Astra-Zeneca, a rapprochement is emerging. Brussels is cautiously optimistic, but insists on its demands on the company.\n",
      "------\n",
      "Astra-Zeneca wants to deliver more vaccine and publish contract As the F.A.Z. has learned from EU circles, Astra-Zeneca gives in in the vaccine dispute with the EU. Company boss Pascal Soriot therefore struck soothing tones in a conversation and wants to deliver more cans - but how much more?\n",
      "------\n",
      "Curevac starts study with clinical staff With a new study, Curevac hopes to gain additional knowledge about vaccination protection for particularly vulnerable population groups. It starts on Tuesday.\n",
      "------\n",
      "Biontech sees turning point The Mainz-based company Biontech described positive study results on vaccination against Covid-19 as a turning point for the company on Tuesday. His vaccine is said to have an effectiveness rate of around 90 percent.\n",
      "------\n",
      "Curevac is about to go public. The Tübingen-based company is starting this Friday on the Nasdaq. The American technology exchange has offered a more attractive environment for biotech companies for years.\n",
      "------\n",
      "Curevac, Biontec - how are Germans doing in the vaccine race? Anyone who has invested in shares in the Mainz-based company Biontec in the past few months is fine. At Curevac from Tübingen, the German state got involved directly. The reason is always the hope of a vaccine against Covid-19.\n",
      "------\n",
      "Astra-Zeneca threatens legal dispute The EU Commission would like to take legal action against the manufacturer Astra-Zeneca (AZ) because of delivery failures. Whether AZ could be held responsible in court is controversial.\n",
      "------\n",
      "No rapid herd immunity without Astra-Zeneca The chairman of the Association of General Practitioners in Berlin and Brandenburg, Dr. Wolfang Kreischer thinks: Astra-Zeneca has to be vaccinated again; with restrictions if necessary - the main thing is to vaccinate.\n",
      "------\n",
      "Astra-Zeneca is now delivering more vaccine to the EU Commission President Ursula von der Leyen said on Twitter that the company would provide the EU with an additional nine million vaccine doses in the first quarter.\n",
      "------\n",
      "Astra-Zeneca now delivers more vaccine to the EU After the dispute between the European Union and Astra-Zeneca, the manufacturer will now deliver more doses. At least half of the originally targeted amount should now go to the EU.\n",
      "------\n"
     ]
    }
   ],
   "source": [
    "for translation in translations:\n",
    "    print(translation.text)\n",
    "    print(\"------\")"
   ]
  },
  {
   "cell_type": "code",
   "execution_count": 20,
   "metadata": {},
   "outputs": [
    {
     "data": {
      "text/plain": [
       "141"
      ]
     },
     "execution_count": 20,
     "metadata": {},
     "output_type": "execute_result"
    }
   ],
   "source": [
    "translation_text=[translation.text for translation in translations]\n",
    "len(translation_text)"
   ]
  },
  {
   "cell_type": "code",
   "execution_count": 22,
   "metadata": {},
   "outputs": [
    {
     "data": {
      "text/html": [
       "<div>\n",
       "<style scoped>\n",
       "    .dataframe tbody tr th:only-of-type {\n",
       "        vertical-align: middle;\n",
       "    }\n",
       "\n",
       "    .dataframe tbody tr th {\n",
       "        vertical-align: top;\n",
       "    }\n",
       "\n",
       "    .dataframe thead th {\n",
       "        text-align: right;\n",
       "    }\n",
       "</style>\n",
       "<table border=\"1\" class=\"dataframe\">\n",
       "  <thead>\n",
       "    <tr style=\"text-align: right;\">\n",
       "      <th></th>\n",
       "      <th>original_headline_en</th>\n",
       "    </tr>\n",
       "    <tr>\n",
       "      <th>index</th>\n",
       "      <th></th>\n",
       "    </tr>\n",
       "  </thead>\n",
       "  <tbody>\n",
       "    <tr>\n",
       "      <th>2049</th>\n",
       "      <td>Pfizer expects corona vaccine first for wester...</td>\n",
       "    </tr>\n",
       "    <tr>\n",
       "      <th>2732</th>\n",
       "      <td>CureVac may clinically test possible corona va...</td>\n",
       "    </tr>\n",
       "    <tr>\n",
       "      <th>4062</th>\n",
       "      <td>CureVac starts with a price jump on the stock ...</td>\n",
       "    </tr>\n",
       "    <tr>\n",
       "      <th>4169</th>\n",
       "      <td>CureVac plans to test corona vaccine in Brazil...</td>\n",
       "    </tr>\n",
       "    <tr>\n",
       "      <th>4559</th>\n",
       "      <td>The Tübingen-based biotech company CureVac rec...</td>\n",
       "    </tr>\n",
       "    <tr>\n",
       "      <th>...</th>\n",
       "      <td>...</td>\n",
       "    </tr>\n",
       "    <tr>\n",
       "      <th>37657</th>\n",
       "      <td>Curevac, Biontec - how are Germans doing in th...</td>\n",
       "    </tr>\n",
       "    <tr>\n",
       "      <th>37791</th>\n",
       "      <td>Astra-Zeneca threatens legal dispute The EU Co...</td>\n",
       "    </tr>\n",
       "    <tr>\n",
       "      <th>37794</th>\n",
       "      <td>No rapid herd immunity without Astra-Zeneca Th...</td>\n",
       "    </tr>\n",
       "    <tr>\n",
       "      <th>37819</th>\n",
       "      <td>Astra-Zeneca is now delivering more vaccine to...</td>\n",
       "    </tr>\n",
       "    <tr>\n",
       "      <th>37820</th>\n",
       "      <td>Astra-Zeneca now delivers more vaccine to the ...</td>\n",
       "    </tr>\n",
       "  </tbody>\n",
       "</table>\n",
       "<p>141 rows × 1 columns</p>\n",
       "</div>"
      ],
      "text/plain": [
       "                                    original_headline_en\n",
       "index                                                   \n",
       "2049   Pfizer expects corona vaccine first for wester...\n",
       "2732   CureVac may clinically test possible corona va...\n",
       "4062   CureVac starts with a price jump on the stock ...\n",
       "4169   CureVac plans to test corona vaccine in Brazil...\n",
       "4559   The Tübingen-based biotech company CureVac rec...\n",
       "...                                                  ...\n",
       "37657  Curevac, Biontec - how are Germans doing in th...\n",
       "37791  Astra-Zeneca threatens legal dispute The EU Co...\n",
       "37794  No rapid herd immunity without Astra-Zeneca Th...\n",
       "37819  Astra-Zeneca is now delivering more vaccine to...\n",
       "37820  Astra-Zeneca now delivers more vaccine to the ...\n",
       "\n",
       "[141 rows x 1 columns]"
      ]
     },
     "execution_count": 22,
     "metadata": {},
     "output_type": "execute_result"
    }
   ],
   "source": [
    "df_temp=pd.DataFrame()\n",
    "\n",
    "df_temp[\"index\"]=[i for i in index_translate]\n",
    "df_temp[\"original_headline_en\"]=[i for i in translation_text]\n",
    "df_temp.set_index('index', inplace=True)\n",
    "\n",
    "df_temp"
   ]
  },
  {
   "cell_type": "code",
   "execution_count": 29,
   "metadata": {},
   "outputs": [
    {
     "data": {
      "text/plain": [
       "(141, 10)"
      ]
     },
     "execution_count": 29,
     "metadata": {},
     "output_type": "execute_result"
    }
   ],
   "source": [
    "#df_translate=df_translate.join(df_temp, on=None, how='left')\n",
    "df_translate.shape"
   ]
  },
  {
   "cell_type": "code",
   "execution_count": null,
   "metadata": {},
   "outputs": [],
   "source": [
    "df_translate.to_csv(\"/Users/carolinvogt/Becoming_Data_Analyst/vaccine_sentiment/german/df_translate_vaccine.csv\")\n",
    "\n",
    "print(\"Sucessfully saved\")"
   ]
  },
  {
   "cell_type": "markdown",
   "metadata": {},
   "source": [
    "### Translation all headlines"
   ]
  },
  {
   "cell_type": "code",
   "execution_count": 30,
   "metadata": {},
   "outputs": [],
   "source": [
    "#df_model"
   ]
  },
  {
   "cell_type": "code",
   "execution_count": 25,
   "metadata": {},
   "outputs": [
    {
     "data": {
      "text/plain": [
       "37818"
      ]
     },
     "execution_count": 25,
     "metadata": {},
     "output_type": "execute_result"
    }
   ],
   "source": [
    "index_covid=list(df_model.index)\n",
    "len(index_covid)"
   ]
  },
  {
   "cell_type": "code",
   "execution_count": 26,
   "metadata": {},
   "outputs": [
    {
     "data": {
      "text/plain": [
       "37818"
      ]
     },
     "execution_count": 26,
     "metadata": {},
     "output_type": "execute_result"
    }
   ],
   "source": [
    "to_translate=[df_model[\"original_headline\"][i] for i in index_covid]\n",
    "len(to_translate)"
   ]
  },
  {
   "cell_type": "code",
   "execution_count": 31,
   "metadata": {},
   "outputs": [
    {
     "ename": "KeyboardInterrupt",
     "evalue": "",
     "output_type": "error",
     "traceback": [
      "\u001b[0;31m---------------------------------------------------------------------------\u001b[0m",
      "\u001b[0;31mKeyboardInterrupt\u001b[0m                         Traceback (most recent call last)",
      "\u001b[0;32m<ipython-input-31-ae41b8298a62>\u001b[0m in \u001b[0;36m<module>\u001b[0;34m\u001b[0m\n\u001b[1;32m      1\u001b[0m \u001b[0mtranslator\u001b[0m \u001b[0;34m=\u001b[0m \u001b[0mTranslator\u001b[0m\u001b[0;34m(\u001b[0m\u001b[0;34m)\u001b[0m\u001b[0;34m\u001b[0m\u001b[0;34m\u001b[0m\u001b[0m\n\u001b[0;32m----> 2\u001b[0;31m \u001b[0mtranslations2\u001b[0m \u001b[0;34m=\u001b[0m \u001b[0mtranslator\u001b[0m\u001b[0;34m.\u001b[0m\u001b[0mtranslate\u001b[0m\u001b[0;34m(\u001b[0m\u001b[0mto_translate\u001b[0m\u001b[0;34m,\u001b[0m \u001b[0mdest\u001b[0m\u001b[0;34m=\u001b[0m\u001b[0;34m'en'\u001b[0m\u001b[0;34m)\u001b[0m\u001b[0;34m\u001b[0m\u001b[0;34m\u001b[0m\u001b[0m\n\u001b[0m\u001b[1;32m      3\u001b[0m \u001b[0mlen\u001b[0m\u001b[0;34m(\u001b[0m\u001b[0mtranslations2\u001b[0m\u001b[0;34m)\u001b[0m\u001b[0;34m\u001b[0m\u001b[0;34m\u001b[0m\u001b[0m\n",
      "\u001b[0;32m~/opt/anaconda3/lib/python3.8/site-packages/googletrans/client.py\u001b[0m in \u001b[0;36mtranslate\u001b[0;34m(self, text, dest, src, **kwargs)\u001b[0m\n\u001b[1;32m    203\u001b[0m             \u001b[0mresult\u001b[0m \u001b[0;34m=\u001b[0m \u001b[0;34m[\u001b[0m\u001b[0;34m]\u001b[0m\u001b[0;34m\u001b[0m\u001b[0;34m\u001b[0m\u001b[0m\n\u001b[1;32m    204\u001b[0m             \u001b[0;32mfor\u001b[0m \u001b[0mitem\u001b[0m \u001b[0;32min\u001b[0m \u001b[0mtext\u001b[0m\u001b[0;34m:\u001b[0m\u001b[0;34m\u001b[0m\u001b[0;34m\u001b[0m\u001b[0m\n\u001b[0;32m--> 205\u001b[0;31m                 \u001b[0mtranslated\u001b[0m \u001b[0;34m=\u001b[0m \u001b[0mself\u001b[0m\u001b[0;34m.\u001b[0m\u001b[0mtranslate\u001b[0m\u001b[0;34m(\u001b[0m\u001b[0mitem\u001b[0m\u001b[0;34m,\u001b[0m \u001b[0mdest\u001b[0m\u001b[0;34m=\u001b[0m\u001b[0mdest\u001b[0m\u001b[0;34m,\u001b[0m \u001b[0msrc\u001b[0m\u001b[0;34m=\u001b[0m\u001b[0msrc\u001b[0m\u001b[0;34m,\u001b[0m \u001b[0;34m**\u001b[0m\u001b[0mkwargs\u001b[0m\u001b[0;34m)\u001b[0m\u001b[0;34m\u001b[0m\u001b[0;34m\u001b[0m\u001b[0m\n\u001b[0m\u001b[1;32m    206\u001b[0m                 \u001b[0mresult\u001b[0m\u001b[0;34m.\u001b[0m\u001b[0mappend\u001b[0m\u001b[0;34m(\u001b[0m\u001b[0mtranslated\u001b[0m\u001b[0;34m)\u001b[0m\u001b[0;34m\u001b[0m\u001b[0;34m\u001b[0m\u001b[0m\n\u001b[1;32m    207\u001b[0m             \u001b[0;32mreturn\u001b[0m \u001b[0mresult\u001b[0m\u001b[0;34m\u001b[0m\u001b[0;34m\u001b[0m\u001b[0m\n",
      "\u001b[0;32m~/opt/anaconda3/lib/python3.8/site-packages/googletrans/client.py\u001b[0m in \u001b[0;36mtranslate\u001b[0;34m(self, text, dest, src, **kwargs)\u001b[0m\n\u001b[1;32m    208\u001b[0m \u001b[0;34m\u001b[0m\u001b[0m\n\u001b[1;32m    209\u001b[0m         \u001b[0morigin\u001b[0m \u001b[0;34m=\u001b[0m \u001b[0mtext\u001b[0m\u001b[0;34m\u001b[0m\u001b[0;34m\u001b[0m\u001b[0m\n\u001b[0;32m--> 210\u001b[0;31m         \u001b[0mdata\u001b[0m\u001b[0;34m,\u001b[0m \u001b[0mresponse\u001b[0m \u001b[0;34m=\u001b[0m \u001b[0mself\u001b[0m\u001b[0;34m.\u001b[0m\u001b[0m_translate\u001b[0m\u001b[0;34m(\u001b[0m\u001b[0mtext\u001b[0m\u001b[0;34m,\u001b[0m \u001b[0mdest\u001b[0m\u001b[0;34m,\u001b[0m \u001b[0msrc\u001b[0m\u001b[0;34m,\u001b[0m \u001b[0mkwargs\u001b[0m\u001b[0;34m)\u001b[0m\u001b[0;34m\u001b[0m\u001b[0;34m\u001b[0m\u001b[0m\n\u001b[0m\u001b[1;32m    211\u001b[0m \u001b[0;34m\u001b[0m\u001b[0m\n\u001b[1;32m    212\u001b[0m         \u001b[0;31m# this code will be updated when the format is changed.\u001b[0m\u001b[0;34m\u001b[0m\u001b[0;34m\u001b[0m\u001b[0;34m\u001b[0m\u001b[0m\n",
      "\u001b[0;32m~/opt/anaconda3/lib/python3.8/site-packages/googletrans/client.py\u001b[0m in \u001b[0;36m_translate\u001b[0;34m(self, text, dest, src, override)\u001b[0m\n\u001b[1;32m    106\u001b[0m \u001b[0;34m\u001b[0m\u001b[0m\n\u001b[1;32m    107\u001b[0m         \u001b[0murl\u001b[0m \u001b[0;34m=\u001b[0m \u001b[0murls\u001b[0m\u001b[0;34m.\u001b[0m\u001b[0mTRANSLATE\u001b[0m\u001b[0;34m.\u001b[0m\u001b[0mformat\u001b[0m\u001b[0;34m(\u001b[0m\u001b[0mhost\u001b[0m\u001b[0;34m=\u001b[0m\u001b[0mself\u001b[0m\u001b[0;34m.\u001b[0m\u001b[0m_pick_service_url\u001b[0m\u001b[0;34m(\u001b[0m\u001b[0;34m)\u001b[0m\u001b[0;34m)\u001b[0m\u001b[0;34m\u001b[0m\u001b[0;34m\u001b[0m\u001b[0m\n\u001b[0;32m--> 108\u001b[0;31m         \u001b[0mr\u001b[0m \u001b[0;34m=\u001b[0m \u001b[0mself\u001b[0m\u001b[0;34m.\u001b[0m\u001b[0mclient\u001b[0m\u001b[0;34m.\u001b[0m\u001b[0mget\u001b[0m\u001b[0;34m(\u001b[0m\u001b[0murl\u001b[0m\u001b[0;34m,\u001b[0m \u001b[0mparams\u001b[0m\u001b[0;34m=\u001b[0m\u001b[0mparams\u001b[0m\u001b[0;34m)\u001b[0m\u001b[0;34m\u001b[0m\u001b[0;34m\u001b[0m\u001b[0m\n\u001b[0m\u001b[1;32m    109\u001b[0m \u001b[0;34m\u001b[0m\u001b[0m\n\u001b[1;32m    110\u001b[0m         \u001b[0;32mif\u001b[0m \u001b[0mr\u001b[0m\u001b[0;34m.\u001b[0m\u001b[0mstatus_code\u001b[0m \u001b[0;34m==\u001b[0m \u001b[0;36m200\u001b[0m\u001b[0;34m:\u001b[0m\u001b[0;34m\u001b[0m\u001b[0;34m\u001b[0m\u001b[0m\n",
      "\u001b[0;32m~/opt/anaconda3/lib/python3.8/site-packages/httpx/_client.py\u001b[0m in \u001b[0;36mget\u001b[0;34m(self, url, params, headers, cookies, auth, allow_redirects, timeout)\u001b[0m\n\u001b[1;32m    753\u001b[0m         \u001b[0mtimeout\u001b[0m\u001b[0;34m:\u001b[0m \u001b[0mtyping\u001b[0m\u001b[0;34m.\u001b[0m\u001b[0mUnion\u001b[0m\u001b[0;34m[\u001b[0m\u001b[0mTimeoutTypes\u001b[0m\u001b[0;34m,\u001b[0m \u001b[0mUnsetType\u001b[0m\u001b[0;34m]\u001b[0m \u001b[0;34m=\u001b[0m \u001b[0mUNSET\u001b[0m\u001b[0;34m,\u001b[0m\u001b[0;34m\u001b[0m\u001b[0;34m\u001b[0m\u001b[0m\n\u001b[1;32m    754\u001b[0m     ) -> Response:\n\u001b[0;32m--> 755\u001b[0;31m         return self.request(\n\u001b[0m\u001b[1;32m    756\u001b[0m             \u001b[0;34m\"GET\"\u001b[0m\u001b[0;34m,\u001b[0m\u001b[0;34m\u001b[0m\u001b[0;34m\u001b[0m\u001b[0m\n\u001b[1;32m    757\u001b[0m             \u001b[0murl\u001b[0m\u001b[0;34m,\u001b[0m\u001b[0;34m\u001b[0m\u001b[0;34m\u001b[0m\u001b[0m\n",
      "\u001b[0;32m~/opt/anaconda3/lib/python3.8/site-packages/httpx/_client.py\u001b[0m in \u001b[0;36mrequest\u001b[0;34m(self, method, url, data, files, json, params, headers, cookies, auth, allow_redirects, timeout)\u001b[0m\n\u001b[1;32m    598\u001b[0m             \u001b[0mcookies\u001b[0m\u001b[0;34m=\u001b[0m\u001b[0mcookies\u001b[0m\u001b[0;34m,\u001b[0m\u001b[0;34m\u001b[0m\u001b[0;34m\u001b[0m\u001b[0m\n\u001b[1;32m    599\u001b[0m         )\n\u001b[0;32m--> 600\u001b[0;31m         return self.send(\n\u001b[0m\u001b[1;32m    601\u001b[0m             \u001b[0mrequest\u001b[0m\u001b[0;34m,\u001b[0m \u001b[0mauth\u001b[0m\u001b[0;34m=\u001b[0m\u001b[0mauth\u001b[0m\u001b[0;34m,\u001b[0m \u001b[0mallow_redirects\u001b[0m\u001b[0;34m=\u001b[0m\u001b[0mallow_redirects\u001b[0m\u001b[0;34m,\u001b[0m \u001b[0mtimeout\u001b[0m\u001b[0;34m=\u001b[0m\u001b[0mtimeout\u001b[0m\u001b[0;34m,\u001b[0m\u001b[0;34m\u001b[0m\u001b[0;34m\u001b[0m\u001b[0m\n\u001b[1;32m    602\u001b[0m         )\n",
      "\u001b[0;32m~/opt/anaconda3/lib/python3.8/site-packages/httpx/_client.py\u001b[0m in \u001b[0;36msend\u001b[0;34m(self, request, stream, auth, allow_redirects, timeout)\u001b[0m\n\u001b[1;32m    618\u001b[0m         \u001b[0mauth\u001b[0m \u001b[0;34m=\u001b[0m \u001b[0mself\u001b[0m\u001b[0;34m.\u001b[0m\u001b[0mbuild_auth\u001b[0m\u001b[0;34m(\u001b[0m\u001b[0mrequest\u001b[0m\u001b[0;34m,\u001b[0m \u001b[0mauth\u001b[0m\u001b[0;34m)\u001b[0m\u001b[0;34m\u001b[0m\u001b[0;34m\u001b[0m\u001b[0m\n\u001b[1;32m    619\u001b[0m \u001b[0;34m\u001b[0m\u001b[0m\n\u001b[0;32m--> 620\u001b[0;31m         response = self.send_handling_redirects(\n\u001b[0m\u001b[1;32m    621\u001b[0m             \u001b[0mrequest\u001b[0m\u001b[0;34m,\u001b[0m \u001b[0mauth\u001b[0m\u001b[0;34m=\u001b[0m\u001b[0mauth\u001b[0m\u001b[0;34m,\u001b[0m \u001b[0mtimeout\u001b[0m\u001b[0;34m=\u001b[0m\u001b[0mtimeout\u001b[0m\u001b[0;34m,\u001b[0m \u001b[0mallow_redirects\u001b[0m\u001b[0;34m=\u001b[0m\u001b[0mallow_redirects\u001b[0m\u001b[0;34m,\u001b[0m\u001b[0;34m\u001b[0m\u001b[0;34m\u001b[0m\u001b[0m\n\u001b[1;32m    622\u001b[0m         )\n",
      "\u001b[0;32m~/opt/anaconda3/lib/python3.8/site-packages/httpx/_client.py\u001b[0m in \u001b[0;36msend_handling_redirects\u001b[0;34m(self, request, auth, timeout, allow_redirects, history)\u001b[0m\n\u001b[1;32m    645\u001b[0m                 \u001b[0;32mraise\u001b[0m \u001b[0mTooManyRedirects\u001b[0m\u001b[0;34m(\u001b[0m\u001b[0;34m)\u001b[0m\u001b[0;34m\u001b[0m\u001b[0;34m\u001b[0m\u001b[0m\n\u001b[1;32m    646\u001b[0m \u001b[0;34m\u001b[0m\u001b[0m\n\u001b[0;32m--> 647\u001b[0;31m             response = self.send_handling_auth(\n\u001b[0m\u001b[1;32m    648\u001b[0m                 \u001b[0mrequest\u001b[0m\u001b[0;34m,\u001b[0m \u001b[0mauth\u001b[0m\u001b[0;34m=\u001b[0m\u001b[0mauth\u001b[0m\u001b[0;34m,\u001b[0m \u001b[0mtimeout\u001b[0m\u001b[0;34m=\u001b[0m\u001b[0mtimeout\u001b[0m\u001b[0;34m,\u001b[0m \u001b[0mhistory\u001b[0m\u001b[0;34m=\u001b[0m\u001b[0mhistory\u001b[0m\u001b[0;34m\u001b[0m\u001b[0;34m\u001b[0m\u001b[0m\n\u001b[1;32m    649\u001b[0m             )\n",
      "\u001b[0;32m~/opt/anaconda3/lib/python3.8/site-packages/httpx/_client.py\u001b[0m in \u001b[0;36msend_handling_auth\u001b[0;34m(self, request, history, auth, timeout)\u001b[0m\n\u001b[1;32m    682\u001b[0m         \u001b[0mrequest\u001b[0m \u001b[0;34m=\u001b[0m \u001b[0mnext\u001b[0m\u001b[0;34m(\u001b[0m\u001b[0mauth_flow\u001b[0m\u001b[0;34m)\u001b[0m\u001b[0;34m\u001b[0m\u001b[0;34m\u001b[0m\u001b[0m\n\u001b[1;32m    683\u001b[0m         \u001b[0;32mwhile\u001b[0m \u001b[0;32mTrue\u001b[0m\u001b[0;34m:\u001b[0m\u001b[0;34m\u001b[0m\u001b[0;34m\u001b[0m\u001b[0m\n\u001b[0;32m--> 684\u001b[0;31m             \u001b[0mresponse\u001b[0m \u001b[0;34m=\u001b[0m \u001b[0mself\u001b[0m\u001b[0;34m.\u001b[0m\u001b[0msend_single_request\u001b[0m\u001b[0;34m(\u001b[0m\u001b[0mrequest\u001b[0m\u001b[0;34m,\u001b[0m \u001b[0mtimeout\u001b[0m\u001b[0;34m)\u001b[0m\u001b[0;34m\u001b[0m\u001b[0;34m\u001b[0m\u001b[0m\n\u001b[0m\u001b[1;32m    685\u001b[0m             \u001b[0;32mif\u001b[0m \u001b[0mauth\u001b[0m\u001b[0;34m.\u001b[0m\u001b[0mrequires_response_body\u001b[0m\u001b[0;34m:\u001b[0m\u001b[0;34m\u001b[0m\u001b[0;34m\u001b[0m\u001b[0m\n\u001b[1;32m    686\u001b[0m                 \u001b[0mresponse\u001b[0m\u001b[0;34m.\u001b[0m\u001b[0mread\u001b[0m\u001b[0;34m(\u001b[0m\u001b[0;34m)\u001b[0m\u001b[0;34m\u001b[0m\u001b[0;34m\u001b[0m\u001b[0m\n",
      "\u001b[0;32m~/opt/anaconda3/lib/python3.8/site-packages/httpx/_client.py\u001b[0m in \u001b[0;36msend_single_request\u001b[0;34m(self, request, timeout)\u001b[0m\n\u001b[1;32m    712\u001b[0m                 \u001b[0mheaders\u001b[0m\u001b[0;34m,\u001b[0m\u001b[0;34m\u001b[0m\u001b[0;34m\u001b[0m\u001b[0m\n\u001b[1;32m    713\u001b[0m                 \u001b[0mstream\u001b[0m\u001b[0;34m,\u001b[0m\u001b[0;34m\u001b[0m\u001b[0;34m\u001b[0m\u001b[0m\n\u001b[0;32m--> 714\u001b[0;31m             \u001b[0;34m)\u001b[0m \u001b[0;34m=\u001b[0m \u001b[0mtransport\u001b[0m\u001b[0;34m.\u001b[0m\u001b[0mrequest\u001b[0m\u001b[0;34m(\u001b[0m\u001b[0;34m\u001b[0m\u001b[0;34m\u001b[0m\u001b[0m\n\u001b[0m\u001b[1;32m    715\u001b[0m                 \u001b[0mrequest\u001b[0m\u001b[0;34m.\u001b[0m\u001b[0mmethod\u001b[0m\u001b[0;34m.\u001b[0m\u001b[0mencode\u001b[0m\u001b[0;34m(\u001b[0m\u001b[0;34m)\u001b[0m\u001b[0;34m,\u001b[0m\u001b[0;34m\u001b[0m\u001b[0;34m\u001b[0m\u001b[0m\n\u001b[1;32m    716\u001b[0m                 \u001b[0mrequest\u001b[0m\u001b[0;34m.\u001b[0m\u001b[0murl\u001b[0m\u001b[0;34m.\u001b[0m\u001b[0mraw\u001b[0m\u001b[0;34m,\u001b[0m\u001b[0;34m\u001b[0m\u001b[0;34m\u001b[0m\u001b[0m\n",
      "\u001b[0;32m~/opt/anaconda3/lib/python3.8/site-packages/httpcore/_sync/connection_pool.py\u001b[0m in \u001b[0;36mrequest\u001b[0;34m(self, method, url, headers, stream, timeout)\u001b[0m\n\u001b[1;32m    150\u001b[0m \u001b[0;34m\u001b[0m\u001b[0m\n\u001b[1;32m    151\u001b[0m             \u001b[0;32mtry\u001b[0m\u001b[0;34m:\u001b[0m\u001b[0;34m\u001b[0m\u001b[0;34m\u001b[0m\u001b[0m\n\u001b[0;32m--> 152\u001b[0;31m                 response = connection.request(\n\u001b[0m\u001b[1;32m    153\u001b[0m                     \u001b[0mmethod\u001b[0m\u001b[0;34m,\u001b[0m \u001b[0murl\u001b[0m\u001b[0;34m,\u001b[0m \u001b[0mheaders\u001b[0m\u001b[0;34m=\u001b[0m\u001b[0mheaders\u001b[0m\u001b[0;34m,\u001b[0m \u001b[0mstream\u001b[0m\u001b[0;34m=\u001b[0m\u001b[0mstream\u001b[0m\u001b[0;34m,\u001b[0m \u001b[0mtimeout\u001b[0m\u001b[0;34m=\u001b[0m\u001b[0mtimeout\u001b[0m\u001b[0;34m\u001b[0m\u001b[0;34m\u001b[0m\u001b[0m\n\u001b[1;32m    154\u001b[0m                 )\n",
      "\u001b[0;32m~/opt/anaconda3/lib/python3.8/site-packages/httpcore/_sync/connection.py\u001b[0m in \u001b[0;36mrequest\u001b[0;34m(self, method, url, headers, stream, timeout)\u001b[0m\n\u001b[1;32m     76\u001b[0m             \u001b[0;34m\"connection.request method=%r url=%r headers=%r\"\u001b[0m\u001b[0;34m,\u001b[0m \u001b[0mmethod\u001b[0m\u001b[0;34m,\u001b[0m \u001b[0murl\u001b[0m\u001b[0;34m,\u001b[0m \u001b[0mheaders\u001b[0m\u001b[0;34m\u001b[0m\u001b[0;34m\u001b[0m\u001b[0m\n\u001b[1;32m     77\u001b[0m         )\n\u001b[0;32m---> 78\u001b[0;31m         \u001b[0;32mreturn\u001b[0m \u001b[0mself\u001b[0m\u001b[0;34m.\u001b[0m\u001b[0mconnection\u001b[0m\u001b[0;34m.\u001b[0m\u001b[0mrequest\u001b[0m\u001b[0;34m(\u001b[0m\u001b[0mmethod\u001b[0m\u001b[0;34m,\u001b[0m \u001b[0murl\u001b[0m\u001b[0;34m,\u001b[0m \u001b[0mheaders\u001b[0m\u001b[0;34m,\u001b[0m \u001b[0mstream\u001b[0m\u001b[0;34m,\u001b[0m \u001b[0mtimeout\u001b[0m\u001b[0;34m)\u001b[0m\u001b[0;34m\u001b[0m\u001b[0;34m\u001b[0m\u001b[0m\n\u001b[0m\u001b[1;32m     79\u001b[0m \u001b[0;34m\u001b[0m\u001b[0m\n\u001b[1;32m     80\u001b[0m     \u001b[0;32mdef\u001b[0m \u001b[0m_open_socket\u001b[0m\u001b[0;34m(\u001b[0m\u001b[0mself\u001b[0m\u001b[0;34m,\u001b[0m \u001b[0mtimeout\u001b[0m\u001b[0;34m:\u001b[0m \u001b[0mTimeoutDict\u001b[0m \u001b[0;34m=\u001b[0m \u001b[0;32mNone\u001b[0m\u001b[0;34m)\u001b[0m \u001b[0;34m->\u001b[0m \u001b[0mSyncSocketStream\u001b[0m\u001b[0;34m:\u001b[0m\u001b[0;34m\u001b[0m\u001b[0;34m\u001b[0m\u001b[0m\n",
      "\u001b[0;32m~/opt/anaconda3/lib/python3.8/site-packages/httpcore/_sync/http2.py\u001b[0m in \u001b[0;36mrequest\u001b[0;34m(self, method, url, headers, stream, timeout)\u001b[0m\n\u001b[1;32m    116\u001b[0m             \u001b[0mself\u001b[0m\u001b[0;34m.\u001b[0m\u001b[0mstreams\u001b[0m\u001b[0;34m[\u001b[0m\u001b[0mstream_id\u001b[0m\u001b[0;34m]\u001b[0m \u001b[0;34m=\u001b[0m \u001b[0mh2_stream\u001b[0m\u001b[0;34m\u001b[0m\u001b[0;34m\u001b[0m\u001b[0m\n\u001b[1;32m    117\u001b[0m             \u001b[0mself\u001b[0m\u001b[0;34m.\u001b[0m\u001b[0mevents\u001b[0m\u001b[0;34m[\u001b[0m\u001b[0mstream_id\u001b[0m\u001b[0;34m]\u001b[0m \u001b[0;34m=\u001b[0m \u001b[0;34m[\u001b[0m\u001b[0;34m]\u001b[0m\u001b[0;34m\u001b[0m\u001b[0;34m\u001b[0m\u001b[0m\n\u001b[0;32m--> 118\u001b[0;31m             \u001b[0;32mreturn\u001b[0m \u001b[0mh2_stream\u001b[0m\u001b[0;34m.\u001b[0m\u001b[0mrequest\u001b[0m\u001b[0;34m(\u001b[0m\u001b[0mmethod\u001b[0m\u001b[0;34m,\u001b[0m \u001b[0murl\u001b[0m\u001b[0;34m,\u001b[0m \u001b[0mheaders\u001b[0m\u001b[0;34m,\u001b[0m \u001b[0mstream\u001b[0m\u001b[0;34m,\u001b[0m \u001b[0mtimeout\u001b[0m\u001b[0;34m)\u001b[0m\u001b[0;34m\u001b[0m\u001b[0;34m\u001b[0m\u001b[0m\n\u001b[0m\u001b[1;32m    119\u001b[0m         \u001b[0;32mexcept\u001b[0m \u001b[0mException\u001b[0m\u001b[0;34m:\u001b[0m\u001b[0;34m\u001b[0m\u001b[0;34m\u001b[0m\u001b[0m\n\u001b[1;32m    120\u001b[0m             \u001b[0mself\u001b[0m\u001b[0;34m.\u001b[0m\u001b[0mmax_streams_semaphore\u001b[0m\u001b[0;34m.\u001b[0m\u001b[0mrelease\u001b[0m\u001b[0;34m(\u001b[0m\u001b[0;34m)\u001b[0m\u001b[0;34m\u001b[0m\u001b[0;34m\u001b[0m\u001b[0m\n",
      "\u001b[0;32m~/opt/anaconda3/lib/python3.8/site-packages/httpcore/_sync/http2.py\u001b[0m in \u001b[0;36mrequest\u001b[0;34m(self, method, url, headers, stream, timeout)\u001b[0m\n\u001b[1;32m    290\u001b[0m \u001b[0;34m\u001b[0m\u001b[0m\n\u001b[1;32m    291\u001b[0m         \u001b[0;31m# Receive the response.\u001b[0m\u001b[0;34m\u001b[0m\u001b[0;34m\u001b[0m\u001b[0;34m\u001b[0m\u001b[0m\n\u001b[0;32m--> 292\u001b[0;31m         \u001b[0mstatus_code\u001b[0m\u001b[0;34m,\u001b[0m \u001b[0mheaders\u001b[0m \u001b[0;34m=\u001b[0m \u001b[0mself\u001b[0m\u001b[0;34m.\u001b[0m\u001b[0mreceive_response\u001b[0m\u001b[0;34m(\u001b[0m\u001b[0mtimeout\u001b[0m\u001b[0;34m)\u001b[0m\u001b[0;34m\u001b[0m\u001b[0;34m\u001b[0m\u001b[0m\n\u001b[0m\u001b[1;32m    293\u001b[0m         \u001b[0mreason_phrase\u001b[0m \u001b[0;34m=\u001b[0m \u001b[0mget_reason_phrase\u001b[0m\u001b[0;34m(\u001b[0m\u001b[0mstatus_code\u001b[0m\u001b[0;34m)\u001b[0m\u001b[0;34m\u001b[0m\u001b[0;34m\u001b[0m\u001b[0m\n\u001b[1;32m    294\u001b[0m         stream = SyncByteStream(\n",
      "\u001b[0;32m~/opt/anaconda3/lib/python3.8/site-packages/httpcore/_sync/http2.py\u001b[0m in \u001b[0;36mreceive_response\u001b[0;34m(self, timeout)\u001b[0m\n\u001b[1;32m    342\u001b[0m         \"\"\"\n\u001b[1;32m    343\u001b[0m         \u001b[0;32mwhile\u001b[0m \u001b[0;32mTrue\u001b[0m\u001b[0;34m:\u001b[0m\u001b[0;34m\u001b[0m\u001b[0;34m\u001b[0m\u001b[0m\n\u001b[0;32m--> 344\u001b[0;31m             \u001b[0mevent\u001b[0m \u001b[0;34m=\u001b[0m \u001b[0mself\u001b[0m\u001b[0;34m.\u001b[0m\u001b[0mconnection\u001b[0m\u001b[0;34m.\u001b[0m\u001b[0mwait_for_event\u001b[0m\u001b[0;34m(\u001b[0m\u001b[0mself\u001b[0m\u001b[0;34m.\u001b[0m\u001b[0mstream_id\u001b[0m\u001b[0;34m,\u001b[0m \u001b[0mtimeout\u001b[0m\u001b[0;34m)\u001b[0m\u001b[0;34m\u001b[0m\u001b[0;34m\u001b[0m\u001b[0m\n\u001b[0m\u001b[1;32m    345\u001b[0m             \u001b[0;32mif\u001b[0m \u001b[0misinstance\u001b[0m\u001b[0;34m(\u001b[0m\u001b[0mevent\u001b[0m\u001b[0;34m,\u001b[0m \u001b[0mh2\u001b[0m\u001b[0;34m.\u001b[0m\u001b[0mevents\u001b[0m\u001b[0;34m.\u001b[0m\u001b[0mResponseReceived\u001b[0m\u001b[0;34m)\u001b[0m\u001b[0;34m:\u001b[0m\u001b[0;34m\u001b[0m\u001b[0;34m\u001b[0m\u001b[0m\n\u001b[1;32m    346\u001b[0m                 \u001b[0;32mbreak\u001b[0m\u001b[0;34m\u001b[0m\u001b[0;34m\u001b[0m\u001b[0m\n",
      "\u001b[0;32m~/opt/anaconda3/lib/python3.8/site-packages/httpcore/_sync/http2.py\u001b[0m in \u001b[0;36mwait_for_event\u001b[0;34m(self, stream_id, timeout)\u001b[0m\n\u001b[1;32m    195\u001b[0m         \u001b[0;32mwith\u001b[0m \u001b[0mself\u001b[0m\u001b[0;34m.\u001b[0m\u001b[0mread_lock\u001b[0m\u001b[0;34m:\u001b[0m\u001b[0;34m\u001b[0m\u001b[0;34m\u001b[0m\u001b[0m\n\u001b[1;32m    196\u001b[0m             \u001b[0;32mwhile\u001b[0m \u001b[0;32mnot\u001b[0m \u001b[0mself\u001b[0m\u001b[0;34m.\u001b[0m\u001b[0mevents\u001b[0m\u001b[0;34m[\u001b[0m\u001b[0mstream_id\u001b[0m\u001b[0;34m]\u001b[0m\u001b[0;34m:\u001b[0m\u001b[0;34m\u001b[0m\u001b[0;34m\u001b[0m\u001b[0m\n\u001b[0;32m--> 197\u001b[0;31m                 \u001b[0mself\u001b[0m\u001b[0;34m.\u001b[0m\u001b[0mreceive_events\u001b[0m\u001b[0;34m(\u001b[0m\u001b[0mtimeout\u001b[0m\u001b[0;34m)\u001b[0m\u001b[0;34m\u001b[0m\u001b[0;34m\u001b[0m\u001b[0m\n\u001b[0m\u001b[1;32m    198\u001b[0m         \u001b[0;32mreturn\u001b[0m \u001b[0mself\u001b[0m\u001b[0;34m.\u001b[0m\u001b[0mevents\u001b[0m\u001b[0;34m[\u001b[0m\u001b[0mstream_id\u001b[0m\u001b[0;34m]\u001b[0m\u001b[0;34m.\u001b[0m\u001b[0mpop\u001b[0m\u001b[0;34m(\u001b[0m\u001b[0;36m0\u001b[0m\u001b[0;34m)\u001b[0m\u001b[0;34m\u001b[0m\u001b[0;34m\u001b[0m\u001b[0m\n\u001b[1;32m    199\u001b[0m \u001b[0;34m\u001b[0m\u001b[0m\n",
      "\u001b[0;32m~/opt/anaconda3/lib/python3.8/site-packages/httpcore/_sync/http2.py\u001b[0m in \u001b[0;36mreceive_events\u001b[0;34m(self, timeout)\u001b[0m\n\u001b[1;32m    202\u001b[0m         \u001b[0mRead\u001b[0m \u001b[0msome\u001b[0m \u001b[0mdata\u001b[0m \u001b[0;32mfrom\u001b[0m \u001b[0mthe\u001b[0m \u001b[0mnetwork\u001b[0m\u001b[0;34m,\u001b[0m \u001b[0;32mand\u001b[0m \u001b[0mupdate\u001b[0m \u001b[0mthe\u001b[0m \u001b[0mH2\u001b[0m \u001b[0mstate\u001b[0m\u001b[0;34m.\u001b[0m\u001b[0;34m\u001b[0m\u001b[0;34m\u001b[0m\u001b[0m\n\u001b[1;32m    203\u001b[0m         \"\"\"\n\u001b[0;32m--> 204\u001b[0;31m         \u001b[0mdata\u001b[0m \u001b[0;34m=\u001b[0m \u001b[0mself\u001b[0m\u001b[0;34m.\u001b[0m\u001b[0msocket\u001b[0m\u001b[0;34m.\u001b[0m\u001b[0mread\u001b[0m\u001b[0;34m(\u001b[0m\u001b[0mself\u001b[0m\u001b[0;34m.\u001b[0m\u001b[0mREAD_NUM_BYTES\u001b[0m\u001b[0;34m,\u001b[0m \u001b[0mtimeout\u001b[0m\u001b[0;34m)\u001b[0m\u001b[0;34m\u001b[0m\u001b[0;34m\u001b[0m\u001b[0m\n\u001b[0m\u001b[1;32m    205\u001b[0m         \u001b[0mevents\u001b[0m \u001b[0;34m=\u001b[0m \u001b[0mself\u001b[0m\u001b[0;34m.\u001b[0m\u001b[0mh2_state\u001b[0m\u001b[0;34m.\u001b[0m\u001b[0mreceive_data\u001b[0m\u001b[0;34m(\u001b[0m\u001b[0mdata\u001b[0m\u001b[0;34m)\u001b[0m\u001b[0;34m\u001b[0m\u001b[0;34m\u001b[0m\u001b[0m\n\u001b[1;32m    206\u001b[0m         \u001b[0;32mfor\u001b[0m \u001b[0mevent\u001b[0m \u001b[0;32min\u001b[0m \u001b[0mevents\u001b[0m\u001b[0;34m:\u001b[0m\u001b[0;34m\u001b[0m\u001b[0;34m\u001b[0m\u001b[0m\n",
      "\u001b[0;32m~/opt/anaconda3/lib/python3.8/site-packages/httpcore/_backends/sync.py\u001b[0m in \u001b[0;36mread\u001b[0;34m(self, n, timeout)\u001b[0m\n\u001b[1;32m     60\u001b[0m             \u001b[0;32mwith\u001b[0m \u001b[0mmap_exceptions\u001b[0m\u001b[0;34m(\u001b[0m\u001b[0mexc_map\u001b[0m\u001b[0;34m)\u001b[0m\u001b[0;34m:\u001b[0m\u001b[0;34m\u001b[0m\u001b[0;34m\u001b[0m\u001b[0m\n\u001b[1;32m     61\u001b[0m                 \u001b[0mself\u001b[0m\u001b[0;34m.\u001b[0m\u001b[0msock\u001b[0m\u001b[0;34m.\u001b[0m\u001b[0msettimeout\u001b[0m\u001b[0;34m(\u001b[0m\u001b[0mread_timeout\u001b[0m\u001b[0;34m)\u001b[0m\u001b[0;34m\u001b[0m\u001b[0;34m\u001b[0m\u001b[0m\n\u001b[0;32m---> 62\u001b[0;31m                 \u001b[0;32mreturn\u001b[0m \u001b[0mself\u001b[0m\u001b[0;34m.\u001b[0m\u001b[0msock\u001b[0m\u001b[0;34m.\u001b[0m\u001b[0mrecv\u001b[0m\u001b[0;34m(\u001b[0m\u001b[0mn\u001b[0m\u001b[0;34m)\u001b[0m\u001b[0;34m\u001b[0m\u001b[0;34m\u001b[0m\u001b[0m\n\u001b[0m\u001b[1;32m     63\u001b[0m \u001b[0;34m\u001b[0m\u001b[0m\n\u001b[1;32m     64\u001b[0m     \u001b[0;32mdef\u001b[0m \u001b[0mwrite\u001b[0m\u001b[0;34m(\u001b[0m\u001b[0mself\u001b[0m\u001b[0;34m,\u001b[0m \u001b[0mdata\u001b[0m\u001b[0;34m:\u001b[0m \u001b[0mbytes\u001b[0m\u001b[0;34m,\u001b[0m \u001b[0mtimeout\u001b[0m\u001b[0;34m:\u001b[0m \u001b[0mTimeoutDict\u001b[0m\u001b[0;34m)\u001b[0m \u001b[0;34m->\u001b[0m \u001b[0;32mNone\u001b[0m\u001b[0;34m:\u001b[0m\u001b[0;34m\u001b[0m\u001b[0;34m\u001b[0m\u001b[0m\n",
      "\u001b[0;32m~/opt/anaconda3/lib/python3.8/ssl.py\u001b[0m in \u001b[0;36mrecv\u001b[0;34m(self, buflen, flags)\u001b[0m\n\u001b[1;32m   1224\u001b[0m                     \u001b[0;34m\"non-zero flags not allowed in calls to recv() on %s\"\u001b[0m \u001b[0;34m%\u001b[0m\u001b[0;34m\u001b[0m\u001b[0;34m\u001b[0m\u001b[0m\n\u001b[1;32m   1225\u001b[0m                     self.__class__)\n\u001b[0;32m-> 1226\u001b[0;31m             \u001b[0;32mreturn\u001b[0m \u001b[0mself\u001b[0m\u001b[0;34m.\u001b[0m\u001b[0mread\u001b[0m\u001b[0;34m(\u001b[0m\u001b[0mbuflen\u001b[0m\u001b[0;34m)\u001b[0m\u001b[0;34m\u001b[0m\u001b[0;34m\u001b[0m\u001b[0m\n\u001b[0m\u001b[1;32m   1227\u001b[0m         \u001b[0;32melse\u001b[0m\u001b[0;34m:\u001b[0m\u001b[0;34m\u001b[0m\u001b[0;34m\u001b[0m\u001b[0m\n\u001b[1;32m   1228\u001b[0m             \u001b[0;32mreturn\u001b[0m \u001b[0msuper\u001b[0m\u001b[0;34m(\u001b[0m\u001b[0;34m)\u001b[0m\u001b[0;34m.\u001b[0m\u001b[0mrecv\u001b[0m\u001b[0;34m(\u001b[0m\u001b[0mbuflen\u001b[0m\u001b[0;34m,\u001b[0m \u001b[0mflags\u001b[0m\u001b[0;34m)\u001b[0m\u001b[0;34m\u001b[0m\u001b[0;34m\u001b[0m\u001b[0m\n",
      "\u001b[0;32m~/opt/anaconda3/lib/python3.8/ssl.py\u001b[0m in \u001b[0;36mread\u001b[0;34m(self, len, buffer)\u001b[0m\n\u001b[1;32m   1099\u001b[0m                 \u001b[0;32mreturn\u001b[0m \u001b[0mself\u001b[0m\u001b[0;34m.\u001b[0m\u001b[0m_sslobj\u001b[0m\u001b[0;34m.\u001b[0m\u001b[0mread\u001b[0m\u001b[0;34m(\u001b[0m\u001b[0mlen\u001b[0m\u001b[0;34m,\u001b[0m \u001b[0mbuffer\u001b[0m\u001b[0;34m)\u001b[0m\u001b[0;34m\u001b[0m\u001b[0;34m\u001b[0m\u001b[0m\n\u001b[1;32m   1100\u001b[0m             \u001b[0;32melse\u001b[0m\u001b[0;34m:\u001b[0m\u001b[0;34m\u001b[0m\u001b[0;34m\u001b[0m\u001b[0m\n\u001b[0;32m-> 1101\u001b[0;31m                 \u001b[0;32mreturn\u001b[0m \u001b[0mself\u001b[0m\u001b[0;34m.\u001b[0m\u001b[0m_sslobj\u001b[0m\u001b[0;34m.\u001b[0m\u001b[0mread\u001b[0m\u001b[0;34m(\u001b[0m\u001b[0mlen\u001b[0m\u001b[0;34m)\u001b[0m\u001b[0;34m\u001b[0m\u001b[0;34m\u001b[0m\u001b[0m\n\u001b[0m\u001b[1;32m   1102\u001b[0m         \u001b[0;32mexcept\u001b[0m \u001b[0mSSLError\u001b[0m \u001b[0;32mas\u001b[0m \u001b[0mx\u001b[0m\u001b[0;34m:\u001b[0m\u001b[0;34m\u001b[0m\u001b[0;34m\u001b[0m\u001b[0m\n\u001b[1;32m   1103\u001b[0m             \u001b[0;32mif\u001b[0m \u001b[0mx\u001b[0m\u001b[0;34m.\u001b[0m\u001b[0margs\u001b[0m\u001b[0;34m[\u001b[0m\u001b[0;36m0\u001b[0m\u001b[0;34m]\u001b[0m \u001b[0;34m==\u001b[0m \u001b[0mSSL_ERROR_EOF\u001b[0m \u001b[0;32mand\u001b[0m \u001b[0mself\u001b[0m\u001b[0;34m.\u001b[0m\u001b[0msuppress_ragged_eofs\u001b[0m\u001b[0;34m:\u001b[0m\u001b[0;34m\u001b[0m\u001b[0;34m\u001b[0m\u001b[0m\n",
      "\u001b[0;31mKeyboardInterrupt\u001b[0m: "
     ]
    }
   ],
   "source": [
    "translator = Translator()\n",
    "translations2 = translator.translate(to_translate, dest='en')\n",
    "len(translations2)"
   ]
  },
  {
   "cell_type": "code",
   "execution_count": 32,
   "metadata": {},
   "outputs": [
    {
     "ename": "NameError",
     "evalue": "name 'translations2' is not defined",
     "output_type": "error",
     "traceback": [
      "\u001b[0;31m---------------------------------------------------------------------------\u001b[0m",
      "\u001b[0;31mNameError\u001b[0m                                 Traceback (most recent call last)",
      "\u001b[0;32m<ipython-input-32-d749b2dfc308>\u001b[0m in \u001b[0;36m<module>\u001b[0;34m\u001b[0m\n\u001b[0;32m----> 1\u001b[0;31m \u001b[0mlen\u001b[0m\u001b[0;34m(\u001b[0m\u001b[0mtranslations2\u001b[0m\u001b[0;34m)\u001b[0m\u001b[0;34m\u001b[0m\u001b[0;34m\u001b[0m\u001b[0m\n\u001b[0m",
      "\u001b[0;31mNameError\u001b[0m: name 'translations2' is not defined"
     ]
    }
   ],
   "source": [
    "len(translations2)"
   ]
  },
  {
   "cell_type": "code",
   "execution_count": null,
   "metadata": {},
   "outputs": [],
   "source": [
    "translation_text2=[translation.text for translation in translations2]\n",
    "len(translation_text2)"
   ]
  },
  {
   "cell_type": "code",
   "execution_count": null,
   "metadata": {},
   "outputs": [],
   "source": [
    "df_temp2=pd.DataFrame()\n",
    "\n",
    "df_temp2[\"index\"]=[i for i in index_covid]\n",
    "df_temp2[\"original_headline_en\"]=[i for i in translation_text2]\n",
    "df_temp2.set_index('index', inplace=True)\n",
    "\n",
    "df_temp2"
   ]
  },
  {
   "cell_type": "code",
   "execution_count": null,
   "metadata": {},
   "outputs": [],
   "source": [
    "print(\"before join: \",df_model.shape())\n",
    "df_model=df_model.join(df_temp2, on=None, how='left')\n",
    "print(\"after join: \", df_model.shape())"
   ]
  },
  {
   "cell_type": "code",
   "execution_count": null,
   "metadata": {},
   "outputs": [],
   "source": [
    "df_model.to_csv(\"/Users/carolinvogt/Becoming_Data_Analyst/vaccine_sentiment/german/df_translate_all.csv\")\n",
    "\n",
    "print(\"Sucessfully saved\")"
   ]
  },
  {
   "cell_type": "code",
>>>>>>> 5a4dde63fa0f15a6ebb9d8471b3dd3795a9131dc
   "execution_count": 46,
   "metadata": {},
   "outputs": [
    {
     "data": {
      "text/plain": [
       "'Die letzte Fahrt. Er macht die Langstrecke, 500 bis 600 Kilometer pro Woche seien da nicht ungewöhnlich. \"Ich fahre gern!\", sagt er. Dennoch soll Streeck bald aufhören. Er ist 72 Jahre alt, Corona-Risikogruppe, deshalb Der Hamburger Tafel macht Corona große Probleme: Viele Ehrenamtliche bleiben weg, Ausgabestellen machen zu. Unterwegs mit denen, die den Laden noch am Laufen halten'"
      ]
     },
     "execution_count": 46,
     "metadata": {},
     "output_type": "execute_result"
    }
   ],
   "source": [
    "df_model[\"original_headline\"][10]"
   ]
  },
  {
   "cell_type": "code",
   "execution_count": 49,
   "metadata": {},
   "outputs": [
    {
     "data": {
      "text/plain": [
       "['\"Ein',\n",
       " 'Großteil',\n",
       " 'unserer',\n",
       " 'Ehrenamtlichen',\n",
       " 'gehört',\n",
       " 'zur',\n",
       " 'Risikogruppe\"',\n",
       " 'Alltag',\n",
       " 'eine',\n",
       " 'Herausforderung,',\n",
       " 'Corona',\n",
       " 'ist',\n",
       " 'für',\n",
       " 'diese',\n",
       " 'Leute',\n",
       " 'eine',\n",
       " 'Katastrophe.',\n",
       " '\\xa0',\n",
       " 'ZEIT',\n",
       " 'ONLINE:',\n",
       " 'Wird',\n",
       " 'jetzt',\n",
       " 'die',\n",
       " 'Spaltung',\n",
       " 'der',\n",
       " 'Gesellschaft',\n",
       " 'durch',\n",
       " 'diese',\n",
       " 'Krise',\n",
       " 'noch',\n",
       " 'deutlicher?',\n",
       " 'Brühl:',\n",
       " 'Das',\n",
       " 'lässt',\n",
       " 'sich',\n",
       " 'noch',\n",
       " 'nicht',\n",
       " 'Bereits',\n",
       " '300',\n",
       " 'Tafeln',\n",
       " 'wurden',\n",
       " 'vorübergehend',\n",
       " 'geschlossen.',\n",
       " 'Studierende',\n",
       " 'bringen',\n",
       " 'Tüten',\n",
       " 'mit',\n",
       " 'Essen',\n",
       " 'vorbei.',\n",
       " 'Aber',\n",
       " 'das',\n",
       " 'reicht',\n",
       " 'nicht,',\n",
       " 'sagt',\n",
       " 'Jochen',\n",
       " 'Brühl,',\n",
       " 'Vorstand',\n",
       " 'der',\n",
       " 'Tafel',\n",
       " 'Deutschland.']"
      ]
     },
     "execution_count": 49,
     "metadata": {},
     "output_type": "execute_result"
    }
   ],
   "source": [
    "sentence=[]\n",
    "sentence += df_model[\"original_headline\"][100].split(' ')\n",
    "\n",
    "sentence"
   ]
  },
  {
   "cell_type": "code",
   "execution_count": 52,
   "metadata": {},
   "outputs": [
    {
     "name": "stdout",
     "output_type": "stream",
     "text": [
      "['n/a', 'n/a', 'n/a', 'n/a', 'n/a', 'n/a', 'n/a', 'n/a', 'n/a', 'n/a', 'n/a', 'n/a', 'n/a', 'n/a', 'n/a', 'n/a', 'n/a', 'n/a', 'n/a', 'n/a', 'n/a', 'n/a', 'n/a', 'n/a', 'n/a', 'n/a', 'n/a', 'n/a', 'n/a', 'n/a', 'n/a', 'n/a', 'n/a', 'n/a', 'n/a', 'n/a', 'n/a', 'n/a', 'n/a', 'n/a', 'n/a', 'n/a', 'n/a', 'n/a', 'n/a', 'n/a', 'n/a', 'n/a', 'n/a', 'n/a', 'n/a', 'n/a', 'n/a', 'n/a', 'n/a', 'n/a', 'n/a', 'n/a', 'n/a', 'n/a']\n"
     ]
    }
   ],
   "source": [
    "from_language = 'DE'\n",
    "to_language = 'EN'\n",
    "\n",
    "translation=[]\n",
    "for i in range(len(sentence)):\n",
    "    try:\n",
    "        translation.append(pydeepl.translate(sentence[i], to_language, from_lang=from_language))\n",
    "    except:\n",
    "        translation.append(\"n/a\")\n",
    "print(translation)"
   ]
  },
  {
   "cell_type": "code",
   "execution_count": 53,
   "metadata": {},
   "outputs": [],
   "source": [
    "sentence=\"Die letzte Fahrt\""
   ]
  },
  {
   "cell_type": "code",
   "execution_count": 55,
   "metadata": {},
   "outputs": [
    {
     "ename": "TranslationError",
     "evalue": "DeepL call resulted in a unknown result.",
     "output_type": "error",
     "traceback": [
      "\u001b[0;31m---------------------------------------------------------------------------\u001b[0m",
      "\u001b[0;31mTranslationError\u001b[0m                          Traceback (most recent call last)",
      "\u001b[0;32m<ipython-input-55-49a0088228ba>\u001b[0m in \u001b[0;36m<module>\u001b[0;34m\u001b[0m\n\u001b[0;32m----> 1\u001b[0;31m \u001b[0mtranslation\u001b[0m\u001b[0;34m=\u001b[0m\u001b[0mpydeepl\u001b[0m\u001b[0;34m.\u001b[0m\u001b[0mtranslate\u001b[0m\u001b[0;34m(\u001b[0m\u001b[0msentence\u001b[0m\u001b[0;34m,\u001b[0m \u001b[0mto_language\u001b[0m\u001b[0;34m,\u001b[0m \u001b[0mfrom_lang\u001b[0m\u001b[0;34m=\u001b[0m\u001b[0mfrom_language\u001b[0m\u001b[0;34m)\u001b[0m\u001b[0;34m\u001b[0m\u001b[0;34m\u001b[0m\u001b[0m\n\u001b[0m",
      "\u001b[0;32m~/opt/anaconda3/lib/python3.8/site-packages/pydeepl/pydeepl.py\u001b[0m in \u001b[0;36mtranslate\u001b[0;34m(text, to_lang, from_lang, json)\u001b[0m\n\u001b[1;32m     95\u001b[0m \u001b[0;34m\u001b[0m\u001b[0m\n\u001b[1;32m     96\u001b[0m     \u001b[0;32mif\u001b[0m \u001b[0;34m'result'\u001b[0m \u001b[0;32mnot\u001b[0m \u001b[0;32min\u001b[0m \u001b[0mresponse\u001b[0m\u001b[0;34m:\u001b[0m\u001b[0;34m\u001b[0m\u001b[0;34m\u001b[0m\u001b[0m\n\u001b[0;32m---> 97\u001b[0;31m         \u001b[0;32mraise\u001b[0m \u001b[0mTranslationError\u001b[0m\u001b[0;34m(\u001b[0m\u001b[0;34m'DeepL call resulted in a unknown result.'\u001b[0m\u001b[0;34m)\u001b[0m\u001b[0;34m\u001b[0m\u001b[0;34m\u001b[0m\u001b[0m\n\u001b[0m\u001b[1;32m     98\u001b[0m \u001b[0;34m\u001b[0m\u001b[0m\n\u001b[1;32m     99\u001b[0m     \u001b[0mtranslations\u001b[0m \u001b[0;34m=\u001b[0m \u001b[0mresponse\u001b[0m\u001b[0;34m[\u001b[0m\u001b[0;34m'result'\u001b[0m\u001b[0;34m]\u001b[0m\u001b[0;34m[\u001b[0m\u001b[0;34m'translations'\u001b[0m\u001b[0;34m]\u001b[0m\u001b[0;34m\u001b[0m\u001b[0;34m\u001b[0m\u001b[0m\n",
      "\u001b[0;31mTranslationError\u001b[0m: DeepL call resulted in a unknown result."
     ]
    }
   ],
   "source": [
    "translation=pydeepl.translate(sentence, to_language, from_lang=from_language)"
   ]
  },
  {
   "cell_type": "markdown",
   "metadata": {},
   "source": [
    "https://github.com/hdaSprachtechnologie/odenet"
   ]
  },
  {
   "cell_type": "code",
   "execution_count": 202,
   "metadata": {},
   "outputs": [
    {
     "name": "stdout",
     "output_type": "stream",
     "text": [
      "Collecting odenet\n",
      "  Downloading ODENet-0.0.5-py3-none-any.whl (6.4 kB)\n",
      "Installing collected packages: odenet\n",
      "Successfully installed odenet-0.0.5\n"
     ]
    }
   ],
   "source": [
    "#!pip install odenet"
   ]
  },
  {
   "cell_type": "code",
   "execution_count": 1,
   "metadata": {},
   "outputs": [],
   "source": [
    "from odenet import *"
   ]
  },
  {
   "cell_type": "code",
   "execution_count": 5,
   "metadata": {},
   "outputs": [],
   "source": [
    "from odenet import OdeNetReadOnly"
   ]
  },
  {
   "cell_type": "code",
   "execution_count": 6,
   "metadata": {},
   "outputs": [],
   "source": [
    "myodenet = OdeNetReadOnly()"
   ]
  },
  {
   "cell_type": "code",
   "execution_count": 7,
   "metadata": {},
   "outputs": [
    {
     "data": {
      "text/plain": [
       "[('id', 'odenet'),\n",
       " ('label', 'Offenes Deutsches WordNet'),\n",
       " ('language', 'de'),\n",
       " ('email', 'melanie.siegel@h-da.de'),\n",
       " ('license', 'https://creativecommons.org/licenses/by-sa/4.0/'),\n",
       " ('version', '1.3'),\n",
       " ('citation',\n",
       "  'Melanie Siegel and Francis Bond (2021), OdeNet: Compiling a     German Wordnet from other Resources, *11th International Global Wordnet Conference (GWC2021)*'),\n",
       " ('url',\n",
       "  'https://ikum.mediencampus.h-da.de/projekt/open-de-wordnet-initiative/'),\n",
       " ('{http://purl.org/dc/elements/1.1/}publisher', 'Melanie Siegel'),\n",
       " ('{http://purl.org/dc/elements/1.1/}format', 'OMW-LMF'),\n",
       " ('{http://purl.org/dc/elements/1.1/}description',\n",
       "  'Odenet is an open wordnet for the German language. It is based on openThesaurus, a crowd-developed thesaurus of German, and automatically linked to the Princeton WordNet with some hand checking. It was started in May 2017.'),\n",
       " ('confidenceScore', '0.6')]"
      ]
     },
     "execution_count": 7,
     "metadata": {},
     "output_type": "execute_result"
    }
   ],
   "source": [
    "myodenet.lexicon.items()"
   ]
  },
  {
   "cell_type": "code",
   "execution_count": null,
   "metadata": {},
   "outputs": [],
   "source": []
  },
  {
   "cell_type": "code",
   "execution_count": 2,
   "metadata": {},
   "outputs": [],
   "source": [
    "format_odenet_oneline()"
   ]
  },
  {
   "cell_type": "code",
   "execution_count": 22,
   "metadata": {},
   "outputs": [
    {
     "name": "stdout",
     "output_type": "stream",
     "text": [
      "Krankenhaus n \n",
      "------------------------\n",
      "SENSE: odenet-1840-n\n",
      "ILI: i54936\n",
      "DEFINITION: a health facility where patients receive treatment\n",
      "DE_DEFINITION: []\n",
      "WORDS: ['Klinikum', 'Hospital', 'Spital', 'Siechenhaus', 'Krankenanstalt', 'Klinik', 'Krankenhaus', 'Charité']\n",
      "RELATIONS: \n",
      "('hyponym', 'odenet-8926-n'): ['Nervenheilanstalt', 'Tollhaus', 'Irrenanstalt', 'Irrenhaus', 'Klapse', 'Klapsmühle', 'Psychiatrie', 'psychiatrische Anstalt', 'psychiatrische Klinik', 'Narrenhaus', 'Nervenklinik']\n",
      "('hypernym', 'odenet-11171-n'): ['Organisation', 'Einrichtung', 'Laden', 'feste Einrichtung', 'Institution', 'Institut', 'Anstalt']\n",
      "('mero_part', 'odenet-4561-n'): ['Station', 'Krankenstation']\n",
      "('hyponym', 'odenet-10929-n'): ['Lazarett', 'Militärhospital', 'Militärkrankenhaus', 'Soldatenkrankenanstalt']\n",
      "('hyponym', 'odenet-19054-n'): ['Kaiser-Jubiläums-Spital', 'Krankenhaus Hietzing', 'Krankenhaus Lainz']\n",
      "('hyponym', 'odenet-20618-n'): ['Gefängniskrankenhaus', 'Inquisitenspital']\n",
      "('hyponym', 'odenet-20912-n'): ['Poliklinik', 'Ambulatorium', 'Kreiskrankenhaus', 'Stadtkrankenhaus']\n",
      "('hyponym', 'odenet-22175-n'): ['Uniklinik', 'Universitätskrankenhaus', 'Universitätsklinikum']\n",
      "('hyponym', 'odenet-28667-n'): ['Landeskrankenhaus', 'Landesklinikum']\n",
      "------------------------\n",
      "LEMMA: Krankenhaus\n",
      "POS: n\n",
      "SENSE ID: w8921_1840-n\n"
     ]
    }
   ],
   "source": [
    "OdeNet.word_info(\"Krankenhaus\")\n"
   ]
  },
  {
   "cell_type": "code",
   "execution_count": 24,
   "metadata": {},
   "outputs": [
    {
     "ename": "NameError",
     "evalue": "name 'Krankenhaus' is not defined",
     "output_type": "error",
     "traceback": [
      "\u001b[0;31m---------------------------------------------------------------------------\u001b[0m",
      "\u001b[0;31mNameError\u001b[0m                                 Traceback (most recent call last)",
      "\u001b[0;32m<ipython-input-24-c28247a0c7a1>\u001b[0m in \u001b[0;36m<module>\u001b[0;34m\u001b[0m\n\u001b[0;32m----> 1\u001b[0;31m \u001b[0mword_id\u001b[0m\u001b[0;34m(\u001b[0m\u001b[0mKrankenhaus\u001b[0m\u001b[0;34m)\u001b[0m\u001b[0;34m\u001b[0m\u001b[0;34m\u001b[0m\u001b[0m\n\u001b[0m",
      "\u001b[0;31mNameError\u001b[0m: name 'Krankenhaus' is not defined"
     ]
    }
   ],
   "source": [
    "word_id(Krankenhaus)"
   ]
  },
  {
   "cell_type": "code",
   "execution_count": 9,
   "metadata": {},
   "outputs": [],
   "source": [
    "import wn\n",
    "#wn.download('odenet:1.3') "
   ]
  },
  {
   "cell_type": "markdown",
   "metadata": {},
   "source": [
    "PosixPath('/Users/carolinvogt/.wn_data/downloads/5ea523117df5b7db53b62a0ba3d26864dba8fdce')"
   ]
  },
  {
   "cell_type": "code",
   "execution_count": 34,
   "metadata": {},
   "outputs": [
    {
     "name": "stdout",
     "output_type": "stream",
     "text": [
      "Synset('odenet-664-n')\n",
      "None\n",
      "Synset('odenet-5267-n')\n",
      "das Angebot eines Zehntels eines Teils des persönlichen Einkommens.\n",
      "Synset('odenet-10289-n')\n",
      "None\n",
      "Synset('odenet-24723-n')\n",
      "None\n"
     ]
    }
   ],
   "source": [
    "s_list=wn.synsets('Steuer', lang=\"de\")\n",
    "for l in s_list:\n",
    "    print(l)\n",
    "    print(l.definition())"
   ]
  },
  {
   "cell_type": "code",
   "execution_count": 29,
   "metadata": {},
   "outputs": [],
   "source": [
    "OdeNet.word_info(\"odenet-11214-n\")"
   ]
  },
  {
   "cell_type": "code",
   "execution_count": 14,
   "metadata": {},
   "outputs": [],
   "source": [
    "word_id='odenet-14307-n'"
   ]
  },
  {
   "cell_type": "code",
   "execution_count": 17,
   "metadata": {},
   "outputs": [],
   "source": [
    "test=check_word_id(word_id)\n",
    "test"
   ]
  },
  {
   "cell_type": "code",
   "execution_count": 30,
   "metadata": {},
   "outputs": [
    {
     "name": "stdout",
     "output_type": "stream",
     "text": [
      "Steuer n \n",
      "------------------------\n",
      "SENSE: odenet-664-n\n",
      "ILI: i59545\n",
      "DEFINITION: []\n",
      "DE_DEFINITION: Ein Rad, das zum Steuern eines Autos verwendet wird.\n",
      "WORDS: ['Steuerrad', 'Lenker', 'Volant', 'Steuer', 'Lenkrad']\n",
      "RELATIONS: \n",
      "('hypernym', 'odenet-4311-n'): ['Steuerung', 'Angleichung', 'Aussteuerung']\n",
      "------------------------\n",
      "SENSE: odenet-5267-n\n",
      "ILI: i106395\n",
      "DEFINITION: []\n",
      "DE_DEFINITION: das Angebot eines Zehntels eines Teils des persönlichen Einkommens.\n",
      "WORDS: ['Steuer', 'Zehnt', 'Abgabe', 'Zehnter', 'Zent', 'Zehnte', 'Zehent']\n",
      "RELATIONS: \n",
      "('hyponym', 'odenet-28712-n'): ['Nebenwohnsitzsteuer', 'Zweitwohnungsabgabe', 'Zweitwohnungsteuer', 'Zweitwohnsitzsteuer', 'Nebenwohnungsteuer', 'Zweitwohnungssteuer']\n",
      "('hypernym', 'odenet-9595-n'): ['Preis', 'Gebühr', 'Abgabe', 'Taxe']\n",
      "------------------------\n",
      "SENSE: odenet-10289-n\n",
      "ILI: i58332\n",
      "DEFINITION: []\n",
      "DE_DEFINITION: Ein Gerät, das zum Steuern eines Schiffes oder Flugzeugs verwendet wird.\n",
      "WORDS: ['Steuer', 'Ruder', 'Steuerruder']\n",
      "RELATIONS: \n",
      "('hypernym', 'odenet-4311-n'): ['Steuerung', 'Angleichung', 'Aussteuerung']\n",
      "------------------------\n",
      "SENSE: odenet-24723-n\n",
      "ILI: i106626\n",
      "DEFINITION: []\n",
      "DE_DEFINITION: Gebühr für eine Person, eine Wohnung oder Eigentum zugunsten des Staates\n",
      "WORDS: ['Steuer', 'Tribut', 'Zwangsabgabe', 'Zwangsbeitrag']\n",
      "RELATIONS: \n",
      "('hypernym', 'odenet-9595-n'): ['Preis', 'Gebühr', 'Abgabe', 'Taxe']\n",
      "('hyponym', 'odenet-28712-n'): ['Nebenwohnsitzsteuer', 'Zweitwohnungsabgabe', 'Zweitwohnungsteuer', 'Zweitwohnsitzsteuer', 'Nebenwohnungsteuer', 'Zweitwohnungssteuer']\n",
      "------------------------\n",
      "LEMMA: Steuer\n",
      "POS: n\n",
      "SENSE ID: w3305_24723-n\n"
     ]
    }
   ],
   "source": [
    "OdeNet.word_info(\"Steuer\")"
   ]
  },
  {
   "cell_type": "code",
   "execution_count": 239,
   "metadata": {},
   "outputs": [],
   "source": [
    "from py_openthesaurus import OpenThesaurusDb"
   ]
  },
  {
   "cell_type": "code",
   "execution_count": null,
   "metadata": {},
   "outputs": [],
   "source": []
  }
 ],
 "metadata": {
  "kernelspec": {
   "display_name": "Python 3",
   "language": "python",
   "name": "python3"
  },
  "language_info": {
   "codemirror_mode": {
    "name": "ipython",
    "version": 3
   },
   "file_extension": ".py",
   "mimetype": "text/x-python",
   "name": "python",
   "nbconvert_exporter": "python",
   "pygments_lexer": "ipython3",
   "version": "3.8.3"
  }
 },
 "nbformat": 4,
 "nbformat_minor": 4
}
